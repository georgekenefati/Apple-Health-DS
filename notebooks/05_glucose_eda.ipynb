{
 "cells": [
  {
   "cell_type": "markdown",
   "id": "b7824a31",
   "metadata": {},
   "source": [
    "# Apple Health & Freestyle Libre 3 Data Analysis\n",
    "## 05 - Libre Glucose Exploratory Analysis\n",
    "\n",
    "This notebook focuses exclusively on the processed FreeStyle Libre 3 glucose readings to understand glycemic control, sensor behavior, and temporal patterns before blending with Apple Health metrics."
   ]
  },
  {
   "cell_type": "markdown",
   "id": "b513fbb0",
   "metadata": {},
   "source": [
    "**Notebook objectives:**\n",
    "- Load the cleaned Libre glucose export and harmonize datetime features\n",
    "- Audit data coverage, data quality, and time-in-range performance\n",
    "- Explore daily trends, rate-of-change dynamics, and circadian patterns\n",
    "- Produce reusable aggregates to join with Apple Health features later"
   ]
  },
  {
   "cell_type": "code",
   "execution_count": 1,
   "id": "2d9cdbc8",
   "metadata": {},
   "outputs": [
    {
     "name": "stdout",
     "output_type": "stream",
     "text": [
      "✅ Libraries imported\n"
     ]
    }
   ],
   "source": [
    "# Import libraries and configure visualization defaults\n",
    "from pathlib import Path\n",
    "from datetime import timedelta\n",
    "\n",
    "import numpy as np\n",
    "import pandas as pd\n",
    "import seaborn as sns\n",
    "import matplotlib.pyplot as plt\n",
    "import plotly.express as px\n",
    "from IPython.display import Markdown, display\n",
    "\n",
    "sns.set_theme(style=\"whitegrid\", palette=\"deep\")\n",
    "pd.set_option(\"display.max_columns\", None)\n",
    "pd.set_option(\"display.precision\", 2)\n",
    "print(\"✅ Libraries imported\")"
   ]
  },
  {
   "cell_type": "markdown",
   "id": "3c71b861",
   "metadata": {},
   "source": [
    "### 1. Load Libre glucose dataset"
   ]
  },
  {
   "cell_type": "code",
   "execution_count": 2,
   "id": "3411211c",
   "metadata": {},
   "outputs": [
    {
     "name": "stdout",
     "output_type": "stream",
     "text": [
      "📦 Loaded 4,151 glucose readings from 2025-08-16 to 2025-08-30\n"
     ]
    }
   ],
   "source": [
    "data_dir = Path(\"../data/processed\")\n",
    "glucose_path = data_dir / \"glucose_cleaned.csv\"\n",
    "\n",
    "glucose_df = pd.read_csv(\n",
    "    glucose_path,\n",
    "    parse_dates=[\"timestamp\"],\n",
    "    dtype={\"glucose_range\": \"category\", \"glucose_source\": \"category\"},\n",
    ")\n",
    "glucose_df = glucose_df.dropna(subset=[\"timestamp\"]).copy()\n",
    "glucose_df[\"timestamp\"] = glucose_df[\"timestamp\"].dt.tz_localize(None)\n",
    "\n",
    "glucose_df[\"date\"] = glucose_df[\"timestamp\"].dt.floor(\"D\")\n",
    "glucose_df[\"hour_of_day\"] = glucose_df[\"timestamp\"].dt.hour\n",
    "glucose_df[\"day_name\"] = glucose_df[\"timestamp\"].dt.day_name()\n",
    "glucose_df[\"weekofyear\"] = glucose_df[\"timestamp\"].dt.isocalendar().week.astype(int)\n",
    "glucose_df[\"is_weekend\"] = glucose_df[\"day_name\"].isin([\"Saturday\", \"Sunday\"])\n",
    "glucose_df[\"glucose_rate_change\"] = pd.to_numeric(\n",
    "    glucose_df[\"glucose_rate_change\"], errors=\"coerce\"\n",
    ")\n",
    "\n",
    "record_count = len(glucose_df)\n",
    "time_span = glucose_df[\"timestamp\"].agg([\"min\", \"max\"])\n",
    "print(\n",
    "    f\"📦 Loaded {record_count:,} glucose readings from {time_span['min'].date()} to {time_span['max'].date()}\"\n",
    ")"
   ]
  },
  {
   "cell_type": "markdown",
   "id": "7cdd1001",
   "metadata": {},
   "source": [
    "### 2. Data coverage and sampling cadence"
   ]
  },
  {
   "cell_type": "code",
   "execution_count": 3,
   "id": "cedce29e",
   "metadata": {},
   "outputs": [
    {
     "data": {
      "application/vnd.microsoft.datawrangler.viewer.v0+json": {
       "columns": [
        {
         "name": "index",
         "rawType": "object",
         "type": "string"
        },
        {
         "name": "value",
         "rawType": "float64",
         "type": "float"
        }
       ],
       "ref": "fc1545b9-ef57-4a6b-8dad-a4a5bef24de2",
       "rows": [
        [
         "records",
         "4151.0"
        ],
        [
         "days_covered",
         "15.0"
        ],
        [
         "median_interval_minutes",
         "5.0"
        ],
        [
         "scan_share_pct",
         "1.5177065767284992"
        ],
        [
         "historic_share_pct",
         "98.4822934232715"
        ]
       ],
       "shape": {
        "columns": 1,
        "rows": 5
       }
      },
      "text/html": [
       "<div>\n",
       "<style scoped>\n",
       "    .dataframe tbody tr th:only-of-type {\n",
       "        vertical-align: middle;\n",
       "    }\n",
       "\n",
       "    .dataframe tbody tr th {\n",
       "        vertical-align: top;\n",
       "    }\n",
       "\n",
       "    .dataframe thead th {\n",
       "        text-align: right;\n",
       "    }\n",
       "</style>\n",
       "<table border=\"1\" class=\"dataframe\">\n",
       "  <thead>\n",
       "    <tr style=\"text-align: right;\">\n",
       "      <th></th>\n",
       "      <th>value</th>\n",
       "    </tr>\n",
       "  </thead>\n",
       "  <tbody>\n",
       "    <tr>\n",
       "      <th>records</th>\n",
       "      <td>4151.00</td>\n",
       "    </tr>\n",
       "    <tr>\n",
       "      <th>days_covered</th>\n",
       "      <td>15.00</td>\n",
       "    </tr>\n",
       "    <tr>\n",
       "      <th>median_interval_minutes</th>\n",
       "      <td>5.00</td>\n",
       "    </tr>\n",
       "    <tr>\n",
       "      <th>scan_share_pct</th>\n",
       "      <td>1.52</td>\n",
       "    </tr>\n",
       "    <tr>\n",
       "      <th>historic_share_pct</th>\n",
       "      <td>98.48</td>\n",
       "    </tr>\n",
       "  </tbody>\n",
       "</table>\n",
       "</div>"
      ],
      "text/plain": [
       "                           value\n",
       "records                  4151.00\n",
       "days_covered               15.00\n",
       "median_interval_minutes     5.00\n",
       "scan_share_pct              1.52\n",
       "historic_share_pct         98.48"
      ]
     },
     "metadata": {},
     "output_type": "display_data"
    },
    {
     "data": {
      "text/markdown": [
       "**Example records:**"
      ],
      "text/plain": [
       "<IPython.core.display.Markdown object>"
      ]
     },
     "metadata": {},
     "output_type": "display_data"
    },
    {
     "data": {
      "application/vnd.microsoft.datawrangler.viewer.v0+json": {
       "columns": [
        {
         "name": "index",
         "rawType": "int64",
         "type": "integer"
        },
        {
         "name": "device",
         "rawType": "object",
         "type": "string"
        },
        {
         "name": "serial_number",
         "rawType": "object",
         "type": "string"
        },
        {
         "name": "timestamp",
         "rawType": "datetime64[ns]",
         "type": "datetime"
        },
        {
         "name": "record_type",
         "rawType": "int64",
         "type": "integer"
        },
        {
         "name": "glucose_mg_dl",
         "rawType": "float64",
         "type": "float"
        },
        {
         "name": "scan_glucose_mg_dl",
         "rawType": "float64",
         "type": "float"
        },
        {
         "name": "Non-numeric Rapid-Acting Insulin",
         "rawType": "float64",
         "type": "float"
        },
        {
         "name": "rapid_acting_insulin_units",
         "rawType": "float64",
         "type": "float"
        },
        {
         "name": "Non-numeric Food",
         "rawType": "float64",
         "type": "float"
        },
        {
         "name": "carbohydrates_grams",
         "rawType": "float64",
         "type": "float"
        },
        {
         "name": "Carbohydrates (servings)",
         "rawType": "float64",
         "type": "float"
        },
        {
         "name": "Non-numeric Long-Acting Insulin",
         "rawType": "float64",
         "type": "float"
        },
        {
         "name": "long_acting_insulin_units",
         "rawType": "float64",
         "type": "float"
        },
        {
         "name": "notes",
         "rawType": "float64",
         "type": "float"
        },
        {
         "name": "strip_glucose_mg_dl",
         "rawType": "float64",
         "type": "float"
        },
        {
         "name": "ketone_mmol_l",
         "rawType": "float64",
         "type": "float"
        },
        {
         "name": "Meal Insulin (units)",
         "rawType": "float64",
         "type": "float"
        },
        {
         "name": "Correction Insulin (units)",
         "rawType": "float64",
         "type": "float"
        },
        {
         "name": "User Change Insulin (units)",
         "rawType": "float64",
         "type": "float"
        },
        {
         "name": "glucose_value",
         "rawType": "float64",
         "type": "float"
        },
        {
         "name": "glucose_source",
         "rawType": "category",
         "type": "unknown"
        },
        {
         "name": "glucose_rate_change",
         "rawType": "float64",
         "type": "float"
        },
        {
         "name": "glucose_trend",
         "rawType": "object",
         "type": "string"
        },
        {
         "name": "hour",
         "rawType": "int64",
         "type": "integer"
        },
        {
         "name": "day_of_week",
         "rawType": "int64",
         "type": "integer"
        },
        {
         "name": "is_weekend",
         "rawType": "bool",
         "type": "boolean"
        },
        {
         "name": "glucose_range",
         "rawType": "category",
         "type": "unknown"
        },
        {
         "name": "date",
         "rawType": "datetime64[ns]",
         "type": "datetime"
        },
        {
         "name": "hour_of_day",
         "rawType": "int32",
         "type": "integer"
        },
        {
         "name": "day_name",
         "rawType": "object",
         "type": "string"
        },
        {
         "name": "weekofyear",
         "rawType": "int64",
         "type": "integer"
        }
       ],
       "ref": "e4980292-00a5-422c-9b91-cb6ba4626d6d",
       "rows": [
        [
         "0",
         "FreeStyle Libre 3",
         "03EE5610-75AC-4A63-860F-A3A70A27AD2F",
         "2025-08-16 13:20:00",
         "0",
         "125.0",
         null,
         null,
         null,
         null,
         null,
         null,
         null,
         null,
         null,
         null,
         null,
         null,
         null,
         null,
         "125.0",
         "historic",
         null,
         "stable",
         "13",
         "5",
         "True",
         "normal",
         "2025-08-16 00:00:00",
         "13",
         "Saturday",
         "33"
        ],
        [
         "1",
         "FreeStyle Libre 3",
         "03EE5610-75AC-4A63-860F-A3A70A27AD2F",
         "2025-08-16 13:21:00",
         "1",
         null,
         "129.0",
         null,
         null,
         null,
         null,
         null,
         null,
         null,
         null,
         null,
         null,
         null,
         null,
         null,
         "129.0",
         "scan",
         "4.0",
         "rising_fast",
         "13",
         "5",
         "True",
         "normal",
         "2025-08-16 00:00:00",
         "13",
         "Saturday",
         "33"
        ],
        [
         "2",
         "FreeStyle Libre 3",
         "03EE5610-75AC-4A63-860F-A3A70A27AD2F",
         "2025-08-16 13:25:00",
         "0",
         "124.0",
         null,
         null,
         null,
         null,
         null,
         null,
         null,
         null,
         null,
         null,
         null,
         null,
         null,
         null,
         "124.0",
         "historic",
         "-1.25",
         "stable",
         "13",
         "5",
         "True",
         "normal",
         "2025-08-16 00:00:00",
         "13",
         "Saturday",
         "33"
        ],
        [
         "3",
         "FreeStyle Libre 3",
         "03EE5610-75AC-4A63-860F-A3A70A27AD2F",
         "2025-08-16 13:30:00",
         "0",
         "127.0",
         null,
         null,
         null,
         null,
         null,
         null,
         null,
         null,
         null,
         null,
         null,
         null,
         null,
         null,
         "127.0",
         "historic",
         "0.6",
         "stable",
         "13",
         "5",
         "True",
         "normal",
         "2025-08-16 00:00:00",
         "13",
         "Saturday",
         "33"
        ],
        [
         "4",
         "FreeStyle Libre 3",
         "03EE5610-75AC-4A63-860F-A3A70A27AD2F",
         "2025-08-16 13:35:00",
         "0",
         "125.0",
         null,
         null,
         null,
         null,
         null,
         null,
         null,
         null,
         null,
         null,
         null,
         null,
         null,
         null,
         "125.0",
         "historic",
         "-0.4",
         "stable",
         "13",
         "5",
         "True",
         "normal",
         "2025-08-16 00:00:00",
         "13",
         "Saturday",
         "33"
        ]
       ],
       "shape": {
        "columns": 31,
        "rows": 5
       }
      },
      "text/html": [
       "<div>\n",
       "<style scoped>\n",
       "    .dataframe tbody tr th:only-of-type {\n",
       "        vertical-align: middle;\n",
       "    }\n",
       "\n",
       "    .dataframe tbody tr th {\n",
       "        vertical-align: top;\n",
       "    }\n",
       "\n",
       "    .dataframe thead th {\n",
       "        text-align: right;\n",
       "    }\n",
       "</style>\n",
       "<table border=\"1\" class=\"dataframe\">\n",
       "  <thead>\n",
       "    <tr style=\"text-align: right;\">\n",
       "      <th></th>\n",
       "      <th>device</th>\n",
       "      <th>serial_number</th>\n",
       "      <th>timestamp</th>\n",
       "      <th>record_type</th>\n",
       "      <th>glucose_mg_dl</th>\n",
       "      <th>scan_glucose_mg_dl</th>\n",
       "      <th>Non-numeric Rapid-Acting Insulin</th>\n",
       "      <th>rapid_acting_insulin_units</th>\n",
       "      <th>Non-numeric Food</th>\n",
       "      <th>carbohydrates_grams</th>\n",
       "      <th>Carbohydrates (servings)</th>\n",
       "      <th>Non-numeric Long-Acting Insulin</th>\n",
       "      <th>long_acting_insulin_units</th>\n",
       "      <th>notes</th>\n",
       "      <th>strip_glucose_mg_dl</th>\n",
       "      <th>ketone_mmol_l</th>\n",
       "      <th>Meal Insulin (units)</th>\n",
       "      <th>Correction Insulin (units)</th>\n",
       "      <th>User Change Insulin (units)</th>\n",
       "      <th>glucose_value</th>\n",
       "      <th>glucose_source</th>\n",
       "      <th>glucose_rate_change</th>\n",
       "      <th>glucose_trend</th>\n",
       "      <th>hour</th>\n",
       "      <th>day_of_week</th>\n",
       "      <th>is_weekend</th>\n",
       "      <th>glucose_range</th>\n",
       "      <th>date</th>\n",
       "      <th>hour_of_day</th>\n",
       "      <th>day_name</th>\n",
       "      <th>weekofyear</th>\n",
       "    </tr>\n",
       "  </thead>\n",
       "  <tbody>\n",
       "    <tr>\n",
       "      <th>0</th>\n",
       "      <td>FreeStyle Libre 3</td>\n",
       "      <td>03EE5610-75AC-4A63-860F-A3A70A27AD2F</td>\n",
       "      <td>2025-08-16 13:20:00</td>\n",
       "      <td>0</td>\n",
       "      <td>125.0</td>\n",
       "      <td>NaN</td>\n",
       "      <td>NaN</td>\n",
       "      <td>NaN</td>\n",
       "      <td>NaN</td>\n",
       "      <td>NaN</td>\n",
       "      <td>NaN</td>\n",
       "      <td>NaN</td>\n",
       "      <td>NaN</td>\n",
       "      <td>NaN</td>\n",
       "      <td>NaN</td>\n",
       "      <td>NaN</td>\n",
       "      <td>NaN</td>\n",
       "      <td>NaN</td>\n",
       "      <td>NaN</td>\n",
       "      <td>125.0</td>\n",
       "      <td>historic</td>\n",
       "      <td>NaN</td>\n",
       "      <td>stable</td>\n",
       "      <td>13</td>\n",
       "      <td>5</td>\n",
       "      <td>True</td>\n",
       "      <td>normal</td>\n",
       "      <td>2025-08-16</td>\n",
       "      <td>13</td>\n",
       "      <td>Saturday</td>\n",
       "      <td>33</td>\n",
       "    </tr>\n",
       "    <tr>\n",
       "      <th>1</th>\n",
       "      <td>FreeStyle Libre 3</td>\n",
       "      <td>03EE5610-75AC-4A63-860F-A3A70A27AD2F</td>\n",
       "      <td>2025-08-16 13:21:00</td>\n",
       "      <td>1</td>\n",
       "      <td>NaN</td>\n",
       "      <td>129.0</td>\n",
       "      <td>NaN</td>\n",
       "      <td>NaN</td>\n",
       "      <td>NaN</td>\n",
       "      <td>NaN</td>\n",
       "      <td>NaN</td>\n",
       "      <td>NaN</td>\n",
       "      <td>NaN</td>\n",
       "      <td>NaN</td>\n",
       "      <td>NaN</td>\n",
       "      <td>NaN</td>\n",
       "      <td>NaN</td>\n",
       "      <td>NaN</td>\n",
       "      <td>NaN</td>\n",
       "      <td>129.0</td>\n",
       "      <td>scan</td>\n",
       "      <td>4.00</td>\n",
       "      <td>rising_fast</td>\n",
       "      <td>13</td>\n",
       "      <td>5</td>\n",
       "      <td>True</td>\n",
       "      <td>normal</td>\n",
       "      <td>2025-08-16</td>\n",
       "      <td>13</td>\n",
       "      <td>Saturday</td>\n",
       "      <td>33</td>\n",
       "    </tr>\n",
       "    <tr>\n",
       "      <th>2</th>\n",
       "      <td>FreeStyle Libre 3</td>\n",
       "      <td>03EE5610-75AC-4A63-860F-A3A70A27AD2F</td>\n",
       "      <td>2025-08-16 13:25:00</td>\n",
       "      <td>0</td>\n",
       "      <td>124.0</td>\n",
       "      <td>NaN</td>\n",
       "      <td>NaN</td>\n",
       "      <td>NaN</td>\n",
       "      <td>NaN</td>\n",
       "      <td>NaN</td>\n",
       "      <td>NaN</td>\n",
       "      <td>NaN</td>\n",
       "      <td>NaN</td>\n",
       "      <td>NaN</td>\n",
       "      <td>NaN</td>\n",
       "      <td>NaN</td>\n",
       "      <td>NaN</td>\n",
       "      <td>NaN</td>\n",
       "      <td>NaN</td>\n",
       "      <td>124.0</td>\n",
       "      <td>historic</td>\n",
       "      <td>-1.25</td>\n",
       "      <td>stable</td>\n",
       "      <td>13</td>\n",
       "      <td>5</td>\n",
       "      <td>True</td>\n",
       "      <td>normal</td>\n",
       "      <td>2025-08-16</td>\n",
       "      <td>13</td>\n",
       "      <td>Saturday</td>\n",
       "      <td>33</td>\n",
       "    </tr>\n",
       "    <tr>\n",
       "      <th>3</th>\n",
       "      <td>FreeStyle Libre 3</td>\n",
       "      <td>03EE5610-75AC-4A63-860F-A3A70A27AD2F</td>\n",
       "      <td>2025-08-16 13:30:00</td>\n",
       "      <td>0</td>\n",
       "      <td>127.0</td>\n",
       "      <td>NaN</td>\n",
       "      <td>NaN</td>\n",
       "      <td>NaN</td>\n",
       "      <td>NaN</td>\n",
       "      <td>NaN</td>\n",
       "      <td>NaN</td>\n",
       "      <td>NaN</td>\n",
       "      <td>NaN</td>\n",
       "      <td>NaN</td>\n",
       "      <td>NaN</td>\n",
       "      <td>NaN</td>\n",
       "      <td>NaN</td>\n",
       "      <td>NaN</td>\n",
       "      <td>NaN</td>\n",
       "      <td>127.0</td>\n",
       "      <td>historic</td>\n",
       "      <td>0.60</td>\n",
       "      <td>stable</td>\n",
       "      <td>13</td>\n",
       "      <td>5</td>\n",
       "      <td>True</td>\n",
       "      <td>normal</td>\n",
       "      <td>2025-08-16</td>\n",
       "      <td>13</td>\n",
       "      <td>Saturday</td>\n",
       "      <td>33</td>\n",
       "    </tr>\n",
       "    <tr>\n",
       "      <th>4</th>\n",
       "      <td>FreeStyle Libre 3</td>\n",
       "      <td>03EE5610-75AC-4A63-860F-A3A70A27AD2F</td>\n",
       "      <td>2025-08-16 13:35:00</td>\n",
       "      <td>0</td>\n",
       "      <td>125.0</td>\n",
       "      <td>NaN</td>\n",
       "      <td>NaN</td>\n",
       "      <td>NaN</td>\n",
       "      <td>NaN</td>\n",
       "      <td>NaN</td>\n",
       "      <td>NaN</td>\n",
       "      <td>NaN</td>\n",
       "      <td>NaN</td>\n",
       "      <td>NaN</td>\n",
       "      <td>NaN</td>\n",
       "      <td>NaN</td>\n",
       "      <td>NaN</td>\n",
       "      <td>NaN</td>\n",
       "      <td>NaN</td>\n",
       "      <td>125.0</td>\n",
       "      <td>historic</td>\n",
       "      <td>-0.40</td>\n",
       "      <td>stable</td>\n",
       "      <td>13</td>\n",
       "      <td>5</td>\n",
       "      <td>True</td>\n",
       "      <td>normal</td>\n",
       "      <td>2025-08-16</td>\n",
       "      <td>13</td>\n",
       "      <td>Saturday</td>\n",
       "      <td>33</td>\n",
       "    </tr>\n",
       "  </tbody>\n",
       "</table>\n",
       "</div>"
      ],
      "text/plain": [
       "              device                         serial_number  \\\n",
       "0  FreeStyle Libre 3  03EE5610-75AC-4A63-860F-A3A70A27AD2F   \n",
       "1  FreeStyle Libre 3  03EE5610-75AC-4A63-860F-A3A70A27AD2F   \n",
       "2  FreeStyle Libre 3  03EE5610-75AC-4A63-860F-A3A70A27AD2F   \n",
       "3  FreeStyle Libre 3  03EE5610-75AC-4A63-860F-A3A70A27AD2F   \n",
       "4  FreeStyle Libre 3  03EE5610-75AC-4A63-860F-A3A70A27AD2F   \n",
       "\n",
       "            timestamp  record_type  glucose_mg_dl  scan_glucose_mg_dl  \\\n",
       "0 2025-08-16 13:20:00            0          125.0                 NaN   \n",
       "1 2025-08-16 13:21:00            1            NaN               129.0   \n",
       "2 2025-08-16 13:25:00            0          124.0                 NaN   \n",
       "3 2025-08-16 13:30:00            0          127.0                 NaN   \n",
       "4 2025-08-16 13:35:00            0          125.0                 NaN   \n",
       "\n",
       "   Non-numeric Rapid-Acting Insulin  rapid_acting_insulin_units  \\\n",
       "0                               NaN                         NaN   \n",
       "1                               NaN                         NaN   \n",
       "2                               NaN                         NaN   \n",
       "3                               NaN                         NaN   \n",
       "4                               NaN                         NaN   \n",
       "\n",
       "   Non-numeric Food  carbohydrates_grams  Carbohydrates (servings)  \\\n",
       "0               NaN                  NaN                       NaN   \n",
       "1               NaN                  NaN                       NaN   \n",
       "2               NaN                  NaN                       NaN   \n",
       "3               NaN                  NaN                       NaN   \n",
       "4               NaN                  NaN                       NaN   \n",
       "\n",
       "   Non-numeric Long-Acting Insulin  long_acting_insulin_units  notes  \\\n",
       "0                              NaN                        NaN    NaN   \n",
       "1                              NaN                        NaN    NaN   \n",
       "2                              NaN                        NaN    NaN   \n",
       "3                              NaN                        NaN    NaN   \n",
       "4                              NaN                        NaN    NaN   \n",
       "\n",
       "   strip_glucose_mg_dl  ketone_mmol_l  Meal Insulin (units)  \\\n",
       "0                  NaN            NaN                   NaN   \n",
       "1                  NaN            NaN                   NaN   \n",
       "2                  NaN            NaN                   NaN   \n",
       "3                  NaN            NaN                   NaN   \n",
       "4                  NaN            NaN                   NaN   \n",
       "\n",
       "   Correction Insulin (units)  User Change Insulin (units)  glucose_value  \\\n",
       "0                         NaN                          NaN          125.0   \n",
       "1                         NaN                          NaN          129.0   \n",
       "2                         NaN                          NaN          124.0   \n",
       "3                         NaN                          NaN          127.0   \n",
       "4                         NaN                          NaN          125.0   \n",
       "\n",
       "  glucose_source  glucose_rate_change glucose_trend  hour  day_of_week  \\\n",
       "0       historic                  NaN        stable    13            5   \n",
       "1           scan                 4.00   rising_fast    13            5   \n",
       "2       historic                -1.25        stable    13            5   \n",
       "3       historic                 0.60        stable    13            5   \n",
       "4       historic                -0.40        stable    13            5   \n",
       "\n",
       "   is_weekend glucose_range       date  hour_of_day  day_name  weekofyear  \n",
       "0        True        normal 2025-08-16           13  Saturday          33  \n",
       "1        True        normal 2025-08-16           13  Saturday          33  \n",
       "2        True        normal 2025-08-16           13  Saturday          33  \n",
       "3        True        normal 2025-08-16           13  Saturday          33  \n",
       "4        True        normal 2025-08-16           13  Saturday          33  "
      ]
     },
     "metadata": {},
     "output_type": "display_data"
    }
   ],
   "source": [
    "coverage_summary = {\n",
    "    \"records\": len(glucose_df),\n",
    "    \"days_covered\": glucose_df[\"date\"].nunique(),\n",
    "    \"median_interval_minutes\": glucose_df[\"timestamp\"]\n",
    "    .diff()\n",
    "    .dt.total_seconds()\n",
    "    .dropna()\n",
    "    .median()\n",
    "    / 60,\n",
    "    \"scan_share_pct\": (glucose_df[\"glucose_source\"].eq(\"scan\").mean() * 100),\n",
    "    \"historic_share_pct\": (glucose_df[\"glucose_source\"].eq(\"historic\").mean() * 100),\n",
    "}\n",
    "display(pd.DataFrame.from_dict(coverage_summary, orient=\"index\", columns=[\"value\"]))\n",
    "\n",
    "display(Markdown(\"**Example records:**\"))\n",
    "display(glucose_df.head())"
   ]
  },
  {
   "cell_type": "markdown",
   "id": "9719521f",
   "metadata": {},
   "source": [
    "### 3. Data quality checks"
   ]
  },
  {
   "cell_type": "code",
   "execution_count": 4,
   "id": "ad1c4ab2",
   "metadata": {},
   "outputs": [
    {
     "data": {
      "text/markdown": [
       "**Columns with missingness (% of rows):**"
      ],
      "text/plain": [
       "<IPython.core.display.Markdown object>"
      ]
     },
     "metadata": {},
     "output_type": "display_data"
    },
    {
     "data": {
      "application/vnd.microsoft.datawrangler.viewer.v0+json": {
       "columns": [
        {
         "name": "index",
         "rawType": "object",
         "type": "string"
        },
        {
         "name": "pct_missing",
         "rawType": "float64",
         "type": "float"
        }
       ],
       "ref": "68ab98b4-f9a6-4ece-b8a9-f9df387abc83",
       "rows": [
        [
         "ketone_mmol_l",
         "100.0"
        ],
        [
         "carbohydrates_grams",
         "100.0"
        ],
        [
         "User Change Insulin (units)",
         "100.0"
        ],
        [
         "Correction Insulin (units)",
         "100.0"
        ],
        [
         "Meal Insulin (units)",
         "100.0"
        ],
        [
         "strip_glucose_mg_dl",
         "100.0"
        ],
        [
         "notes",
         "100.0"
        ],
        [
         "long_acting_insulin_units",
         "100.0"
        ],
        [
         "Carbohydrates (servings)",
         "100.0"
        ],
        [
         "Non-numeric Long-Acting Insulin",
         "100.0"
        ],
        [
         "Non-numeric Food",
         "100.0"
        ],
        [
         "rapid_acting_insulin_units",
         "100.0"
        ],
        [
         "Non-numeric Rapid-Acting Insulin",
         "100.0"
        ],
        [
         "scan_glucose_mg_dl",
         "98.48"
        ],
        [
         "glucose_mg_dl",
         "1.52"
        ],
        [
         "glucose_rate_change",
         "0.02"
        ]
       ],
       "shape": {
        "columns": 1,
        "rows": 16
       }
      },
      "text/html": [
       "<div>\n",
       "<style scoped>\n",
       "    .dataframe tbody tr th:only-of-type {\n",
       "        vertical-align: middle;\n",
       "    }\n",
       "\n",
       "    .dataframe tbody tr th {\n",
       "        vertical-align: top;\n",
       "    }\n",
       "\n",
       "    .dataframe thead th {\n",
       "        text-align: right;\n",
       "    }\n",
       "</style>\n",
       "<table border=\"1\" class=\"dataframe\">\n",
       "  <thead>\n",
       "    <tr style=\"text-align: right;\">\n",
       "      <th></th>\n",
       "      <th>pct_missing</th>\n",
       "    </tr>\n",
       "  </thead>\n",
       "  <tbody>\n",
       "    <tr>\n",
       "      <th>ketone_mmol_l</th>\n",
       "      <td>100.00</td>\n",
       "    </tr>\n",
       "    <tr>\n",
       "      <th>carbohydrates_grams</th>\n",
       "      <td>100.00</td>\n",
       "    </tr>\n",
       "    <tr>\n",
       "      <th>User Change Insulin (units)</th>\n",
       "      <td>100.00</td>\n",
       "    </tr>\n",
       "    <tr>\n",
       "      <th>Correction Insulin (units)</th>\n",
       "      <td>100.00</td>\n",
       "    </tr>\n",
       "    <tr>\n",
       "      <th>Meal Insulin (units)</th>\n",
       "      <td>100.00</td>\n",
       "    </tr>\n",
       "    <tr>\n",
       "      <th>strip_glucose_mg_dl</th>\n",
       "      <td>100.00</td>\n",
       "    </tr>\n",
       "    <tr>\n",
       "      <th>notes</th>\n",
       "      <td>100.00</td>\n",
       "    </tr>\n",
       "    <tr>\n",
       "      <th>long_acting_insulin_units</th>\n",
       "      <td>100.00</td>\n",
       "    </tr>\n",
       "    <tr>\n",
       "      <th>Carbohydrates (servings)</th>\n",
       "      <td>100.00</td>\n",
       "    </tr>\n",
       "    <tr>\n",
       "      <th>Non-numeric Long-Acting Insulin</th>\n",
       "      <td>100.00</td>\n",
       "    </tr>\n",
       "    <tr>\n",
       "      <th>Non-numeric Food</th>\n",
       "      <td>100.00</td>\n",
       "    </tr>\n",
       "    <tr>\n",
       "      <th>rapid_acting_insulin_units</th>\n",
       "      <td>100.00</td>\n",
       "    </tr>\n",
       "    <tr>\n",
       "      <th>Non-numeric Rapid-Acting Insulin</th>\n",
       "      <td>100.00</td>\n",
       "    </tr>\n",
       "    <tr>\n",
       "      <th>scan_glucose_mg_dl</th>\n",
       "      <td>98.48</td>\n",
       "    </tr>\n",
       "    <tr>\n",
       "      <th>glucose_mg_dl</th>\n",
       "      <td>1.52</td>\n",
       "    </tr>\n",
       "    <tr>\n",
       "      <th>glucose_rate_change</th>\n",
       "      <td>0.02</td>\n",
       "    </tr>\n",
       "  </tbody>\n",
       "</table>\n",
       "</div>"
      ],
      "text/plain": [
       "                                  pct_missing\n",
       "ketone_mmol_l                          100.00\n",
       "carbohydrates_grams                    100.00\n",
       "User Change Insulin (units)            100.00\n",
       "Correction Insulin (units)             100.00\n",
       "Meal Insulin (units)                   100.00\n",
       "strip_glucose_mg_dl                    100.00\n",
       "notes                                  100.00\n",
       "long_acting_insulin_units              100.00\n",
       "Carbohydrates (servings)               100.00\n",
       "Non-numeric Long-Acting Insulin        100.00\n",
       "Non-numeric Food                       100.00\n",
       "rapid_acting_insulin_units             100.00\n",
       "Non-numeric Rapid-Acting Insulin       100.00\n",
       "scan_glucose_mg_dl                      98.48\n",
       "glucose_mg_dl                            1.52\n",
       "glucose_rate_change                      0.02"
      ]
     },
     "metadata": {},
     "output_type": "display_data"
    },
    {
     "name": "stdout",
     "output_type": "stream",
     "text": [
      "🔍 Potential duplicate timestamp+value rows: 0\n"
     ]
    }
   ],
   "source": [
    "missing_pct = glucose_df.isna().mean().sort_values(ascending=False) * 100\n",
    "display(Markdown(\"**Columns with missingness (% of rows):**\"))\n",
    "display(missing_pct[missing_pct > 0].round(2).to_frame(name=\"pct_missing\"))\n",
    "\n",
    "duplicate_rows = glucose_df.duplicated(subset=[\"timestamp\", \"glucose_value\"]).sum()\n",
    "print(f\"🔍 Potential duplicate timestamp+value rows: {duplicate_rows}\")"
   ]
  },
  {
   "cell_type": "markdown",
   "id": "d8430b5e",
   "metadata": {},
   "source": [
    "### 4. Glucose distribution and descriptive statistics"
   ]
  },
  {
   "cell_type": "code",
   "execution_count": 5,
   "id": "fe61bcf0",
   "metadata": {},
   "outputs": [
    {
     "data": {
      "application/vnd.microsoft.datawrangler.viewer.v0+json": {
       "columns": [
        {
         "name": "index",
         "rawType": "object",
         "type": "string"
        },
        {
         "name": "glucose_value",
         "rawType": "float64",
         "type": "float"
        }
       ],
       "ref": "60344883-96ca-4217-8d13-6bd8626ecd36",
       "rows": [
        [
         "count",
         "4151.0"
        ],
        [
         "mean",
         "90.4170079498916"
        ],
        [
         "std",
         "11.072588091565537"
        ],
        [
         "min",
         "53.0"
        ],
        [
         "5%",
         "74.0"
        ],
        [
         "25%",
         "83.0"
        ],
        [
         "50%",
         "90.0"
        ],
        [
         "75%",
         "96.0"
        ],
        [
         "95%",
         "110.0"
        ],
        [
         "max",
         "153.0"
        ]
       ],
       "shape": {
        "columns": 1,
        "rows": 10
       }
      },
      "text/html": [
       "<div>\n",
       "<style scoped>\n",
       "    .dataframe tbody tr th:only-of-type {\n",
       "        vertical-align: middle;\n",
       "    }\n",
       "\n",
       "    .dataframe tbody tr th {\n",
       "        vertical-align: top;\n",
       "    }\n",
       "\n",
       "    .dataframe thead th {\n",
       "        text-align: right;\n",
       "    }\n",
       "</style>\n",
       "<table border=\"1\" class=\"dataframe\">\n",
       "  <thead>\n",
       "    <tr style=\"text-align: right;\">\n",
       "      <th></th>\n",
       "      <th>glucose_value</th>\n",
       "    </tr>\n",
       "  </thead>\n",
       "  <tbody>\n",
       "    <tr>\n",
       "      <th>count</th>\n",
       "      <td>4151.00</td>\n",
       "    </tr>\n",
       "    <tr>\n",
       "      <th>mean</th>\n",
       "      <td>90.42</td>\n",
       "    </tr>\n",
       "    <tr>\n",
       "      <th>std</th>\n",
       "      <td>11.07</td>\n",
       "    </tr>\n",
       "    <tr>\n",
       "      <th>min</th>\n",
       "      <td>53.00</td>\n",
       "    </tr>\n",
       "    <tr>\n",
       "      <th>5%</th>\n",
       "      <td>74.00</td>\n",
       "    </tr>\n",
       "    <tr>\n",
       "      <th>25%</th>\n",
       "      <td>83.00</td>\n",
       "    </tr>\n",
       "    <tr>\n",
       "      <th>50%</th>\n",
       "      <td>90.00</td>\n",
       "    </tr>\n",
       "    <tr>\n",
       "      <th>75%</th>\n",
       "      <td>96.00</td>\n",
       "    </tr>\n",
       "    <tr>\n",
       "      <th>95%</th>\n",
       "      <td>110.00</td>\n",
       "    </tr>\n",
       "    <tr>\n",
       "      <th>max</th>\n",
       "      <td>153.00</td>\n",
       "    </tr>\n",
       "  </tbody>\n",
       "</table>\n",
       "</div>"
      ],
      "text/plain": [
       "       glucose_value\n",
       "count        4151.00\n",
       "mean           90.42\n",
       "std            11.07\n",
       "min            53.00\n",
       "5%             74.00\n",
       "25%            83.00\n",
       "50%            90.00\n",
       "75%            96.00\n",
       "95%           110.00\n",
       "max           153.00"
      ]
     },
     "metadata": {},
     "output_type": "display_data"
    },
    {
     "data": {
      "image/png": "[encoded data removed]",
      "text/plain": [
       "<Figure size 1000x400 with 1 Axes>"
      ]
     },
     "metadata": {},
     "output_type": "display_data"
    }
   ],
   "source": [
    "glucose_stats = glucose_df[\"glucose_value\"].describe(\n",
    "    percentiles=[0.05, 0.25, 0.5, 0.75, 0.95]\n",
    ")\n",
    "display(glucose_stats.to_frame(name=\"glucose_value\"))\n",
    "\n",
    "plt.figure(figsize=(10, 4))\n",
    "sns.histplot(glucose_df[\"glucose_value\"], bins=50, kde=True, color=\"royalblue\")\n",
    "plt.axvline(\n",
    "    70, color=\"tomato\", linestyle=\"--\", label=\"Hypoglycemia threshold (70 mg/dL)\"\n",
    ")\n",
    "plt.axvline(\n",
    "    180, color=\"goldenrod\", linestyle=\"--\", label=\"Hyperglycemia threshold (180 mg/dL)\"\n",
    ")\n",
    "plt.title(\"Distribution of glucose readings (mg/dL)\")\n",
    "plt.xlabel(\"Glucose (mg/dL)\")\n",
    "plt.legend()\n",
    "plt.tight_layout()\n",
    "plt.show()"
   ]
  },
  {
   "cell_type": "markdown",
   "id": "4c82f574",
   "metadata": {},
   "source": [
    "### 5. Time-in-range performance"
   ]
  },
  {
   "cell_type": "code",
   "execution_count": 6,
   "id": "26fae977",
   "metadata": {},
   "outputs": [
    {
     "data": {
      "text/markdown": [
       "**Overall time in range (% of readings):**"
      ],
      "text/plain": [
       "<IPython.core.display.Markdown object>"
      ]
     },
     "metadata": {},
     "output_type": "display_data"
    },
    {
     "data": {
      "application/vnd.microsoft.datawrangler.viewer.v0+json": {
       "columns": [
        {
         "name": "tir_bucket",
         "rawType": "object",
         "type": "string"
        },
        {
         "name": "pct",
         "rawType": "float64",
         "type": "float"
        }
       ],
       "ref": "5d820051-15c5-4c14-8acd-94c7c99b766d",
       "rows": [
        [
         "In Range (70-180)",
         "98.75"
        ],
        [
         "Low (54-69)",
         "1.18"
        ],
        [
         "Very Low (<54)",
         "0.07"
        ]
       ],
       "shape": {
        "columns": 1,
        "rows": 3
       }
      },
      "text/html": [
       "<div>\n",
       "<style scoped>\n",
       "    .dataframe tbody tr th:only-of-type {\n",
       "        vertical-align: middle;\n",
       "    }\n",
       "\n",
       "    .dataframe tbody tr th {\n",
       "        vertical-align: top;\n",
       "    }\n",
       "\n",
       "    .dataframe thead th {\n",
       "        text-align: right;\n",
       "    }\n",
       "</style>\n",
       "<table border=\"1\" class=\"dataframe\">\n",
       "  <thead>\n",
       "    <tr style=\"text-align: right;\">\n",
       "      <th></th>\n",
       "      <th>pct</th>\n",
       "    </tr>\n",
       "    <tr>\n",
       "      <th>tir_bucket</th>\n",
       "      <th></th>\n",
       "    </tr>\n",
       "  </thead>\n",
       "  <tbody>\n",
       "    <tr>\n",
       "      <th>In Range (70-180)</th>\n",
       "      <td>98.75</td>\n",
       "    </tr>\n",
       "    <tr>\n",
       "      <th>Low (54-69)</th>\n",
       "      <td>1.18</td>\n",
       "    </tr>\n",
       "    <tr>\n",
       "      <th>Very Low (&lt;54)</th>\n",
       "      <td>0.07</td>\n",
       "    </tr>\n",
       "  </tbody>\n",
       "</table>\n",
       "</div>"
      ],
      "text/plain": [
       "                     pct\n",
       "tir_bucket              \n",
       "In Range (70-180)  98.75\n",
       "Low (54-69)         1.18\n",
       "Very Low (<54)      0.07"
      ]
     },
     "metadata": {},
     "output_type": "display_data"
    },
    {
     "data": {
      "application/vnd.plotly.v1+json": {
       "config": {
        "plotlyServerURL": "https://plot.ly"
       },
       "data": [
        {
         "fillpattern": {
          "shape": ""
         },
         "groupnorm": "percent",
         "hovertemplate": "Range=In Range (70-180)<br>Date=%{x}<br>Percent of readings=%{y}<extra></extra>",
         "legendgroup": "In Range (70-180)",
         "line": {
          "color": "#636efa"
         },
         "marker": {
          "symbol": "circle"
         },
         "mode": "lines",
         "name": "In Range (70-180)",
         "orientation": "v",
         "showlegend": true,
         "stackgroup": "1",
         "type": "scatter",
         "x": [
          "2025-08-16T00:00:00.000000000",
          "2025-08-17T00:00:00.000000000",
          "2025-08-18T00:00:00.000000000",
          "2025-08-19T00:00:00.000000000",
          "2025-08-20T00:00:00.000000000",
          "2025-08-21T00:00:00.000000000",
          "2025-08-22T00:00:00.000000000",
          "2025-08-23T00:00:00.000000000",
          "2025-08-24T00:00:00.000000000",
          "2025-08-25T00:00:00.000000000",
          "2025-08-26T00:00:00.000000000",
          "2025-08-27T00:00:00.000000000",
          "2025-08-28T00:00:00.000000000",
          "2025-08-29T00:00:00.000000000",
          "2025-08-30T00:00:00.000000000"
         ],
         "xaxis": "x",
         "y": {
          "bdata": "AAAAAAAAWUDGGe0etj5YQFsRNJzUfVhAAAAAAAAAWUAAAAAAAABZQAAAAAAAAFlAAAAAAAAAWUAAAAAAAABZQIKGk7ovj1dAbyPYjEH2V0CTU2vCAepYQJ6tvMva6VhAAAAAAAAAWUAnTZo0aZJYQLkj7og74lhA",
          "dtype": "f8"
         },
         "yaxis": "y"
        },
        {
         "fillpattern": {
          "shape": ""
         },
         "groupnorm": "percent",
         "hovertemplate": "Range=Low (54-69)<br>Date=%{x}<br>Percent of readings=%{y}<extra></extra>",
         "legendgroup": "Low (54-69)",
         "line": {
          "color": "#EF553B"
         },
         "marker": {
          "symbol": "circle"
         },
         "mode": "lines",
         "name": "Low (54-69)",
         "orientation": "v",
         "showlegend": true,
         "stackgroup": "1",
         "type": "scatter",
         "x": [
          "2025-08-17T00:00:00.000000000",
          "2025-08-18T00:00:00.000000000",
          "2025-08-24T00:00:00.000000000",
          "2025-08-25T00:00:00.000000000",
          "2025-08-26T00:00:00.000000000",
          "2025-08-27T00:00:00.000000000",
          "2025-08-29T00:00:00.000000000",
          "2025-08-30T00:00:00.000000000"
         ],
         "xaxis": "x",
         "y": {
          "bdata": "TsdcIjwpCECc1H15bEUAQLYiaDip+xJAFMl9MuebEEAWbayUPf7VP3FhUkM0JdY/W7Zs2bJl+z9xR9wRd8TdPw==",
          "dtype": "f8"
         },
         "yaxis": "y"
        },
        {
         "fillpattern": {
          "shape": ""
         },
         "groupnorm": "percent",
         "hovertemplate": "Range=Very Low (<54)<br>Date=%{x}<br>Percent of readings=%{y}<extra></extra>",
         "legendgroup": "Very Low (<54)",
         "line": {
          "color": "#00cc96"
         },
         "marker": {
          "symbol": "circle"
         },
         "mode": "lines",
         "name": "Very Low (<54)",
         "orientation": "v",
         "showlegend": true,
         "stackgroup": "1",
         "type": "scatter",
         "x": [
          "2025-08-24T00:00:00.000000000"
         ],
         "xaxis": "x",
         "y": {
          "bdata": "nNR9eWxF8D8=",
          "dtype": "f8"
         },
         "yaxis": "y"
        }
       ],
       "layout": {
        "legend": {
         "title": {
          "text": "Glucose range"
         },
         "tracegroupgap": 0
        },
        "template": {
         "data": {
          "bar": [
           {
            "error_x": {
             "color": "#2a3f5f"
            },
            "error_y": {
             "color": "#2a3f5f"
            },
            "marker": {
             "line": {
              "color": "#E5ECF6",
              "width": 0.5
             },
             "pattern": {
              "fillmode": "overlay",
              "size": 10,
              "solidity": 0.2
             }
            },
            "type": "bar"
           }
          ],
          "barpolar": [
           {
            "marker": {
             "line": {
              "color": "#E5ECF6",
              "width": 0.5
             },
             "pattern": {
              "fillmode": "overlay",
              "size": 10,
              "solidity": 0.2
             }
            },
            "type": "barpolar"
           }
          ],
          "carpet": [
           {
            "aaxis": {
             "endlinecolor": "#2a3f5f",
             "gridcolor": "white",
             "linecolor": "white",
             "minorgridcolor": "white",
             "startlinecolor": "#2a3f5f"
            },
            "baxis": {
             "endlinecolor": "#2a3f5f",
             "gridcolor": "white",
             "linecolor": "white",
             "minorgridcolor": "white",
             "startlinecolor": "#2a3f5f"
            },
            "type": "carpet"
           }
          ],
          "choropleth": [
           {
            "colorbar": {
             "outlinewidth": 0,
             "ticks": ""
            },
            "type": "choropleth"
           }
          ],
          "contour": [
           {
            "colorbar": {
             "outlinewidth": 0,
             "ticks": ""
            },
            "colorscale": [
             [
              0,
              "#0d0887"
             ],
             [
              0.1111111111111111,
              "#46039f"
             ],
             [
              0.2222222222222222,
              "#7201a8"
             ],
             [
              0.3333333333333333,
              "#9c179e"
             ],
             [
              0.4444444444444444,
              "#bd3786"
             ],
             [
              0.5555555555555556,
              "#d8576b"
             ],
             [
              0.6666666666666666,
              "#ed7953"
             ],
             [
              0.7777777777777778,
              "#fb9f3a"
             ],
             [
              0.8888888888888888,
              "#fdca26"
             ],
             [
              1,
              "#f0f921"
             ]
            ],
            "type": "contour"
           }
          ],
          "contourcarpet": [
           {
            "colorbar": {
             "outlinewidth": 0,
             "ticks": ""
            },
            "type": "contourcarpet"
           }
          ],
          "heatmap": [
           {
            "colorbar": {
             "outlinewidth": 0,
             "ticks": ""
            },
            "colorscale": [
             [
              0,
              "#0d0887"
             ],
             [
              0.1111111111111111,
              "#46039f"
             ],
             [
              0.2222222222222222,
              "#7201a8"
             ],
             [
              0.3333333333333333,
              "#9c179e"
             ],
             [
              0.4444444444444444,
              "#bd3786"
             ],
             [
              0.5555555555555556,
              "#d8576b"
             ],
             [
              0.6666666666666666,
              "#ed7953"
             ],
             [
              0.7777777777777778,
              "#fb9f3a"
             ],
             [
              0.8888888888888888,
              "#fdca26"
             ],
             [
              1,
              "#f0f921"
             ]
            ],
            "type": "heatmap"
           }
          ],
          "histogram": [
           {
            "marker": {
             "pattern": {
              "fillmode": "overlay",
              "size": 10,
              "solidity": 0.2
             }
            },
            "type": "histogram"
           }
          ],
          "histogram2d": [
           {
            "colorbar": {
             "outlinewidth": 0,
             "ticks": ""
            },
            "colorscale": [
             [
              0,
              "#0d0887"
             ],
             [
              0.1111111111111111,
              "#46039f"
             ],
             [
              0.2222222222222222,
              "#7201a8"
             ],
             [
              0.3333333333333333,
              "#9c179e"
             ],
             [
              0.4444444444444444,
              "#bd3786"
             ],
             [
              0.5555555555555556,
              "#d8576b"
             ],
             [
              0.6666666666666666,
              "#ed7953"
             ],
             [
              0.7777777777777778,
              "#fb9f3a"
             ],
             [
              0.8888888888888888,
              "#fdca26"
             ],
             [
              1,
              "#f0f921"
             ]
            ],
            "type": "histogram2d"
           }
          ],
          "histogram2dcontour": [
           {
            "colorbar": {
             "outlinewidth": 0,
             "ticks": ""
            },
            "colorscale": [
             [
              0,
              "#0d0887"
             ],
             [
              0.1111111111111111,
              "#46039f"
             ],
             [
              0.2222222222222222,
              "#7201a8"
             ],
             [
              0.3333333333333333,
              "#9c179e"
             ],
             [
              0.4444444444444444,
              "#bd3786"
             ],
             [
              0.5555555555555556,
              "#d8576b"
             ],
             [
              0.6666666666666666,
              "#ed7953"
             ],
             [
              0.7777777777777778,
              "#fb9f3a"
             ],
             [
              0.8888888888888888,
              "#fdca26"
             ],
             [
              1,
              "#f0f921"
             ]
            ],
            "type": "histogram2dcontour"
           }
          ],
          "mesh3d": [
           {
            "colorbar": {
             "outlinewidth": 0,
             "ticks": ""
            },
            "type": "mesh3d"
           }
          ],
          "parcoords": [
           {
            "line": {
             "colorbar": {
              "outlinewidth": 0,
              "ticks": ""
             }
            },
            "type": "parcoords"
           }
          ],
          "pie": [
           {
            "automargin": true,
            "type": "pie"
           }
          ],
          "scatter": [
           {
            "fillpattern": {
             "fillmode": "overlay",
             "size": 10,
             "solidity": 0.2
            },
            "type": "scatter"
           }
          ],
          "scatter3d": [
           {
            "line": {
             "colorbar": {
              "outlinewidth": 0,
              "ticks": ""
             }
            },
            "marker": {
             "colorbar": {
              "outlinewidth": 0,
              "ticks": ""
             }
            },
            "type": "scatter3d"
           }
          ],
          "scattercarpet": [
           {
            "marker": {
             "colorbar": {
              "outlinewidth": 0,
              "ticks": ""
             }
            },
            "type": "scattercarpet"
           }
          ],
          "scattergeo": [
           {
            "marker": {
             "colorbar": {
              "outlinewidth": 0,
              "ticks": ""
             }
            },
            "type": "scattergeo"
           }
          ],
          "scattergl": [
           {
            "marker": {
             "colorbar": {
              "outlinewidth": 0,
              "ticks": ""
             }
            },
            "type": "scattergl"
           }
          ],
          "scattermap": [
           {
            "marker": {
             "colorbar": {
              "outlinewidth": 0,
              "ticks": ""
             }
            },
            "type": "scattermap"
           }
          ],
          "scattermapbox": [
           {
            "marker": {
             "colorbar": {
              "outlinewidth": 0,
              "ticks": ""
             }
            },
            "type": "scattermapbox"
           }
          ],
          "scatterpolar": [
           {
            "marker": {
             "colorbar": {
              "outlinewidth": 0,
              "ticks": ""
             }
            },
            "type": "scatterpolar"
           }
          ],
          "scatterpolargl": [
           {
            "marker": {
             "colorbar": {
              "outlinewidth": 0,
              "ticks": ""
             }
            },
            "type": "scatterpolargl"
           }
          ],
          "scatterternary": [
           {
            "marker": {
             "colorbar": {
              "outlinewidth": 0,
              "ticks": ""
             }
            },
            "type": "scatterternary"
           }
          ],
          "surface": [
           {
            "colorbar": {
             "outlinewidth": 0,
             "ticks": ""
            },
            "colorscale": [
             [
              0,
              "#0d0887"
             ],
             [
              0.1111111111111111,
              "#46039f"
             ],
             [
              0.2222222222222222,
              "#7201a8"
             ],
             [
              0.3333333333333333,
              "#9c179e"
             ],
             [
              0.4444444444444444,
              "#bd3786"
             ],
             [
              0.5555555555555556,
              "#d8576b"
             ],
             [
              0.6666666666666666,
              "#ed7953"
             ],
             [
              0.7777777777777778,
              "#fb9f3a"
             ],
             [
              0.8888888888888888,
              "#fdca26"
             ],
             [
              1,
              "#f0f921"
             ]
            ],
            "type": "surface"
           }
          ],
          "table": [
           {
            "cells": {
             "fill": {
              "color": "#EBF0F8"
             },
             "line": {
              "color": "white"
             }
            },
            "header": {
             "fill": {
              "color": "#C8D4E3"
             },
             "line": {
              "color": "white"
             }
            },
            "type": "table"
           }
          ]
         },
         "layout": {
          "annotationdefaults": {
           "arrowcolor": "#2a3f5f",
           "arrowhead": 0,
           "arrowwidth": 1
          },
          "autotypenumbers": "strict",
          "coloraxis": {
           "colorbar": {
            "outlinewidth": 0,
            "ticks": ""
           }
          },
          "colorscale": {
           "diverging": [
            [
             0,
             "#8e0152"
            ],
            [
             0.1,
             "#c51b7d"
            ],
            [
             0.2,
             "#de77ae"
            ],
            [
             0.3,
             "#f1b6da"
            ],
            [
             0.4,
             "#fde0ef"
            ],
            [
             0.5,
             "#f7f7f7"
            ],
            [
             0.6,
             "#e6f5d0"
            ],
            [
             0.7,
             "#b8e186"
            ],
            [
             0.8,
             "#7fbc41"
            ],
            [
             0.9,
             "#4d9221"
            ],
            [
             1,
             "#276419"
            ]
           ],
           "sequential": [
            [
             0,
             "#0d0887"
            ],
            [
             0.1111111111111111,
             "#46039f"
            ],
            [
             0.2222222222222222,
             "#7201a8"
            ],
            [
             0.3333333333333333,
             "#9c179e"
            ],
            [
             0.4444444444444444,
             "#bd3786"
            ],
            [
             0.5555555555555556,
             "#d8576b"
            ],
            [
             0.6666666666666666,
             "#ed7953"
            ],
            [
             0.7777777777777778,
             "#fb9f3a"
            ],
            [
             0.8888888888888888,
             "#fdca26"
            ],
            [
             1,
             "#f0f921"
            ]
           ],
           "sequentialminus": [
            [
             0,
             "#0d0887"
            ],
            [
             0.1111111111111111,
             "#46039f"
            ],
            [
             0.2222222222222222,
             "#7201a8"
            ],
            [
             0.3333333333333333,
             "#9c179e"
            ],
            [
             0.4444444444444444,
             "#bd3786"
            ],
            [
             0.5555555555555556,
             "#d8576b"
            ],
            [
             0.6666666666666666,
             "#ed7953"
            ],
            [
             0.7777777777777778,
             "#fb9f3a"
            ],
            [
             0.8888888888888888,
             "#fdca26"
            ],
            [
             1,
             "#f0f921"
            ]
           ]
          },
          "colorway": [
           "#636efa",
           "#EF553B",
           "#00cc96",
           "#ab63fa",
           "#FFA15A",
           "#19d3f3",
           "#FF6692",
           "#B6E880",
           "#FF97FF",
           "#FECB52"
          ],
          "font": {
           "color": "#2a3f5f"
          },
          "geo": {
           "bgcolor": "white",
           "lakecolor": "white",
           "landcolor": "#E5ECF6",
           "showlakes": true,
           "showland": true,
           "subunitcolor": "white"
          },
          "hoverlabel": {
           "align": "left"
          },
          "hovermode": "closest",
          "mapbox": {
           "style": "light"
          },
          "paper_bgcolor": "white",
          "plot_bgcolor": "#E5ECF6",
          "polar": {
           "angularaxis": {
            "gridcolor": "white",
            "linecolor": "white",
            "ticks": ""
           },
           "bgcolor": "#E5ECF6",
           "radialaxis": {
            "gridcolor": "white",
            "linecolor": "white",
            "ticks": ""
           }
          },
          "scene": {
           "xaxis": {
            "backgroundcolor": "#E5ECF6",
            "gridcolor": "white",
            "gridwidth": 2,
            "linecolor": "white",
            "showbackground": true,
            "ticks": "",
            "zerolinecolor": "white"
           },
           "yaxis": {
            "backgroundcolor": "#E5ECF6",
            "gridcolor": "white",
            "gridwidth": 2,
            "linecolor": "white",
            "showbackground": true,
            "ticks": "",
            "zerolinecolor": "white"
           },
           "zaxis": {
            "backgroundcolor": "#E5ECF6",
            "gridcolor": "white",
            "gridwidth": 2,
            "linecolor": "white",
            "showbackground": true,
            "ticks": "",
            "zerolinecolor": "white"
           }
          },
          "shapedefaults": {
           "line": {
            "color": "#2a3f5f"
           }
          },
          "ternary": {
           "aaxis": {
            "gridcolor": "white",
            "linecolor": "white",
            "ticks": ""
           },
           "baxis": {
            "gridcolor": "white",
            "linecolor": "white",
            "ticks": ""
           },
           "bgcolor": "#E5ECF6",
           "caxis": {
            "gridcolor": "white",
            "linecolor": "white",
            "ticks": ""
           }
          },
          "title": {
           "x": 0.05
          },
          "xaxis": {
           "automargin": true,
           "gridcolor": "white",
           "linecolor": "white",
           "ticks": "",
           "title": {
            "standoff": 15
           },
           "zerolinecolor": "white",
           "zerolinewidth": 2
          },
          "yaxis": {
           "automargin": true,
           "gridcolor": "white",
           "linecolor": "white",
           "ticks": "",
           "title": {
            "standoff": 15
           },
           "zerolinecolor": "white",
           "zerolinewidth": 2
          }
         }
        },
        "title": {
         "text": "Daily time-in-range distribution"
        },
        "xaxis": {
         "anchor": "y",
         "domain": [
          0,
          1
         ],
         "title": {
          "text": "Date"
         }
        },
        "yaxis": {
         "anchor": "x",
         "domain": [
          0,
          1
         ],
         "title": {
          "text": "Percent of readings"
         }
        }
       }
      }
     },
     "metadata": {},
     "output_type": "display_data"
    }
   ],
   "source": [
    "tir_labels = {\n",
    "    \"very_low\": \"Very Low (<54)\",\n",
    "    \"low\": \"Low (54-69)\",\n",
    "    \"normal\": \"In Range (70-180)\",\n",
    "    \"high\": \"High (181-250)\",\n",
    "    \"very_high\": \"Very High (>250)\",\n",
    "}\n",
    "tir_raw = glucose_df[\"glucose_range\"].astype(\"string\").str.lower()\n",
    "tir_raw = tir_raw.replace({\"<NA>\": \"unknown\", \"nan\": \"unknown\"})\n",
    "glucose_df[\"tir_bucket\"] = tir_raw.fillna(\"unknown\")\n",
    "tir_summary = (\n",
    "    glucose_df[\"tir_bucket\"]\n",
    "    .map(lambda x: tir_labels.get(x, x.title()))\n",
    "    .value_counts(normalize=True)\n",
    "    .mul(100)\n",
    "    .sort_values(ascending=False)\n",
    ")\n",
    "display(Markdown(\"**Overall time in range (% of readings):**\"))\n",
    "display(tir_summary.round(2).to_frame(name=\"pct\"))\n",
    "\n",
    "daily_tir = (\n",
    "    glucose_df.groupby(\"date\")[\"tir_bucket\"]\n",
    "    .value_counts(normalize=True)\n",
    "    .mul(100)\n",
    "    .rename(\"pct\")\n",
    "    .reset_index()\n",
    ")\n",
    "daily_tir[\"tir_bucket\"] = daily_tir[\"tir_bucket\"].map(\n",
    "    lambda x: tir_labels.get(x, x.title())\n",
    ")\n",
    "\n",
    "fig = px.area(\n",
    "    daily_tir,\n",
    "    x=\"date\",\n",
    "    y=\"pct\",\n",
    "    color=\"tir_bucket\",\n",
    "    title=\"Daily time-in-range distribution\",\n",
    "    groupnorm=\"percent\",\n",
    "    labels={\"date\": \"Date\", \"pct\": \"Percent of readings\", \"tir_bucket\": \"Range\"},\n",
    ")\n",
    "fig.update_layout(legend_title_text=\"Glucose range\")\n",
    "fig.show()"
   ]
  },
  {
   "cell_type": "markdown",
   "id": "f9c25321",
   "metadata": {},
   "source": [
    "### 6. Daily glucose trends"
   ]
  },
  {
   "cell_type": "code",
   "execution_count": 7,
   "id": "aaf587f7",
   "metadata": {},
   "outputs": [
    {
     "data": {
      "application/vnd.microsoft.datawrangler.viewer.v0+json": {
       "columns": [
        {
         "name": "date",
         "rawType": "datetime64[ns]",
         "type": "datetime"
        },
        {
         "name": "mean_mg_dl",
         "rawType": "float64",
         "type": "float"
        },
        {
         "name": "median_mg_dl",
         "rawType": "float64",
         "type": "float"
        },
        {
         "name": "min_mg_dl",
         "rawType": "float64",
         "type": "float"
        },
        {
         "name": "max_mg_dl",
         "rawType": "float64",
         "type": "float"
        }
       ],
       "ref": "ea31dda1-c28e-4c95-bcd8-7fdc974597d0",
       "rows": [
        [
         "2025-08-26 00:00:00",
         "84.6082474226804",
         "81.0",
         "69.0",
         "126.0"
        ],
        [
         "2025-08-27 00:00:00",
         "90.21107266435986",
         "87.0",
         "67.0",
         "138.0"
        ],
        [
         "2025-08-28 00:00:00",
         "91.21180555555556",
         "91.0",
         "73.0",
         "127.0"
        ],
        [
         "2025-08-29 00:00:00",
         "91.76369863013699",
         "90.0",
         "59.0",
         "132.0"
        ],
        [
         "2025-08-30 00:00:00",
         "95.86976744186046",
         "92.0",
         "64.0",
         "124.0"
        ]
       ],
       "shape": {
        "columns": 4,
        "rows": 5
       }
      },
      "text/html": [
       "<div>\n",
       "<style scoped>\n",
       "    .dataframe tbody tr th:only-of-type {\n",
       "        vertical-align: middle;\n",
       "    }\n",
       "\n",
       "    .dataframe tbody tr th {\n",
       "        vertical-align: top;\n",
       "    }\n",
       "\n",
       "    .dataframe thead th {\n",
       "        text-align: right;\n",
       "    }\n",
       "</style>\n",
       "<table border=\"1\" class=\"dataframe\">\n",
       "  <thead>\n",
       "    <tr style=\"text-align: right;\">\n",
       "      <th></th>\n",
       "      <th>mean_mg_dl</th>\n",
       "      <th>median_mg_dl</th>\n",
       "      <th>min_mg_dl</th>\n",
       "      <th>max_mg_dl</th>\n",
       "    </tr>\n",
       "    <tr>\n",
       "      <th>date</th>\n",
       "      <th></th>\n",
       "      <th></th>\n",
       "      <th></th>\n",
       "      <th></th>\n",
       "    </tr>\n",
       "  </thead>\n",
       "  <tbody>\n",
       "    <tr>\n",
       "      <th>2025-08-26</th>\n",
       "      <td>84.61</td>\n",
       "      <td>81.0</td>\n",
       "      <td>69.0</td>\n",
       "      <td>126.0</td>\n",
       "    </tr>\n",
       "    <tr>\n",
       "      <th>2025-08-27</th>\n",
       "      <td>90.21</td>\n",
       "      <td>87.0</td>\n",
       "      <td>67.0</td>\n",
       "      <td>138.0</td>\n",
       "    </tr>\n",
       "    <tr>\n",
       "      <th>2025-08-28</th>\n",
       "      <td>91.21</td>\n",
       "      <td>91.0</td>\n",
       "      <td>73.0</td>\n",
       "      <td>127.0</td>\n",
       "    </tr>\n",
       "    <tr>\n",
       "      <th>2025-08-29</th>\n",
       "      <td>91.76</td>\n",
       "      <td>90.0</td>\n",
       "      <td>59.0</td>\n",
       "      <td>132.0</td>\n",
       "    </tr>\n",
       "    <tr>\n",
       "      <th>2025-08-30</th>\n",
       "      <td>95.87</td>\n",
       "      <td>92.0</td>\n",
       "      <td>64.0</td>\n",
       "      <td>124.0</td>\n",
       "    </tr>\n",
       "  </tbody>\n",
       "</table>\n",
       "</div>"
      ],
      "text/plain": [
       "            mean_mg_dl  median_mg_dl  min_mg_dl  max_mg_dl\n",
       "date                                                      \n",
       "2025-08-26       84.61          81.0       69.0      126.0\n",
       "2025-08-27       90.21          87.0       67.0      138.0\n",
       "2025-08-28       91.21          91.0       73.0      127.0\n",
       "2025-08-29       91.76          90.0       59.0      132.0\n",
       "2025-08-30       95.87          92.0       64.0      124.0"
      ]
     },
     "metadata": {},
     "output_type": "display_data"
    },
    {
     "data": {
      "application/vnd.plotly.v1+json": {
       "config": {
        "plotlyServerURL": "https://plot.ly"
       },
       "data": [
        {
         "hovertemplate": "Statistic=mean_mg_dl<br>date=%{x}<br>Glucose (mg/dL)=%{y}<extra></extra>",
         "legendgroup": "mean_mg_dl",
         "line": {
          "color": "#636efa",
          "dash": "solid"
         },
         "marker": {
          "symbol": "circle"
         },
         "mode": "lines",
         "name": "mean_mg_dl",
         "orientation": "v",
         "showlegend": true,
         "type": "scatter",
         "x": [
          "2025-08-16T00:00:00.000000000",
          "2025-08-17T00:00:00.000000000",
          "2025-08-18T00:00:00.000000000",
          "2025-08-19T00:00:00.000000000",
          "2025-08-20T00:00:00.000000000",
          "2025-08-21T00:00:00.000000000",
          "2025-08-22T00:00:00.000000000",
          "2025-08-23T00:00:00.000000000",
          "2025-08-24T00:00:00.000000000",
          "2025-08-25T00:00:00.000000000",
          "2025-08-26T00:00:00.000000000",
          "2025-08-27T00:00:00.000000000",
          "2025-08-28T00:00:00.000000000",
          "2025-08-29T00:00:00.000000000",
          "2025-08-30T00:00:00.000000000"
         ],
         "xaxis": "x",
         "y": {
          "bdata": "MpcITwoSWkCnYy4RnhRXQAAAAAAAQFZAodWXClqdVUDHcRzHcTBWQIUKFSpUqFdAqBGWexpBVkA1wnJPIwxXQDSc1H15rFVAu41gMwbZVUB5EpmG7SZVQFWg6zaCjVZAOY7jOI7NVkAOHDhw4PBWQKR6D0Wq91dA",
          "dtype": "f8"
         },
         "yaxis": "y"
        },
        {
         "hovertemplate": "Statistic=median_mg_dl<br>date=%{x}<br>Glucose (mg/dL)=%{y}<extra></extra>",
         "legendgroup": "median_mg_dl",
         "line": {
          "color": "#EF553B",
          "dash": "solid"
         },
         "marker": {
          "symbol": "circle"
         },
         "mode": "lines",
         "name": "median_mg_dl",
         "orientation": "v",
         "showlegend": true,
         "type": "scatter",
         "x": [
          "2025-08-16T00:00:00.000000000",
          "2025-08-17T00:00:00.000000000",
          "2025-08-18T00:00:00.000000000",
          "2025-08-19T00:00:00.000000000",
          "2025-08-20T00:00:00.000000000",
          "2025-08-21T00:00:00.000000000",
          "2025-08-22T00:00:00.000000000",
          "2025-08-23T00:00:00.000000000",
          "2025-08-24T00:00:00.000000000",
          "2025-08-25T00:00:00.000000000",
          "2025-08-26T00:00:00.000000000",
          "2025-08-27T00:00:00.000000000",
          "2025-08-28T00:00:00.000000000",
          "2025-08-29T00:00:00.000000000",
          "2025-08-30T00:00:00.000000000"
         ],
         "xaxis": "x",
         "y": {
          "bdata": "AAAAAADAWUAAAAAAAMBWQAAAAAAAQFZAAAAAAABAVUAAAAAAAABWQAAAAAAAQFdAAAAAAAAAVkAAAAAAAABXQAAAAAAAwFVAAAAAAAAAVkAAAAAAAEBUQAAAAAAAwFVAAAAAAADAVkAAAAAAAIBWQAAAAAAAAFdA",
          "dtype": "f8"
         },
         "yaxis": "y"
        }
       ],
       "layout": {
        "legend": {
         "title": {
          "text": "Statistic"
         },
         "tracegroupgap": 0
        },
        "shapes": [
         {
          "fillcolor": "lightgreen",
          "line": {
           "width": 0
          },
          "opacity": 0.2,
          "type": "rect",
          "x0": 0,
          "x1": 1,
          "xref": "x domain",
          "y0": 70,
          "y1": 180,
          "yref": "y"
         }
        ],
        "template": {
         "data": {
          "bar": [
           {
            "error_x": {
             "color": "#2a3f5f"
            },
            "error_y": {
             "color": "#2a3f5f"
            },
            "marker": {
             "line": {
              "color": "#E5ECF6",
              "width": 0.5
             },
             "pattern": {
              "fillmode": "overlay",
              "size": 10,
              "solidity": 0.2
             }
            },
            "type": "bar"
           }
          ],
          "barpolar": [
           {
            "marker": {
             "line": {
              "color": "#E5ECF6",
              "width": 0.5
             },
             "pattern": {
              "fillmode": "overlay",
              "size": 10,
              "solidity": 0.2
             }
            },
            "type": "barpolar"
           }
          ],
          "carpet": [
           {
            "aaxis": {
             "endlinecolor": "#2a3f5f",
             "gridcolor": "white",
             "linecolor": "white",
             "minorgridcolor": "white",
             "startlinecolor": "#2a3f5f"
            },
            "baxis": {
             "endlinecolor": "#2a3f5f",
             "gridcolor": "white",
             "linecolor": "white",
             "minorgridcolor": "white",
             "startlinecolor": "#2a3f5f"
            },
            "type": "carpet"
           }
          ],
          "choropleth": [
           {
            "colorbar": {
             "outlinewidth": 0,
             "ticks": ""
            },
            "type": "choropleth"
           }
          ],
          "contour": [
           {
            "colorbar": {
             "outlinewidth": 0,
             "ticks": ""
            },
            "colorscale": [
             [
              0,
              "#0d0887"
             ],
             [
              0.1111111111111111,
              "#46039f"
             ],
             [
              0.2222222222222222,
              "#7201a8"
             ],
             [
              0.3333333333333333,
              "#9c179e"
             ],
             [
              0.4444444444444444,
              "#bd3786"
             ],
             [
              0.5555555555555556,
              "#d8576b"
             ],
             [
              0.6666666666666666,
              "#ed7953"
             ],
             [
              0.7777777777777778,
              "#fb9f3a"
             ],
             [
              0.8888888888888888,
              "#fdca26"
             ],
             [
              1,
              "#f0f921"
             ]
            ],
            "type": "contour"
           }
          ],
          "contourcarpet": [
           {
            "colorbar": {
             "outlinewidth": 0,
             "ticks": ""
            },
            "type": "contourcarpet"
           }
          ],
          "heatmap": [
           {
            "colorbar": {
             "outlinewidth": 0,
             "ticks": ""
            },
            "colorscale": [
             [
              0,
              "#0d0887"
             ],
             [
              0.1111111111111111,
              "#46039f"
             ],
             [
              0.2222222222222222,
              "#7201a8"
             ],
             [
              0.3333333333333333,
              "#9c179e"
             ],
             [
              0.4444444444444444,
              "#bd3786"
             ],
             [
              0.5555555555555556,
              "#d8576b"
             ],
             [
              0.6666666666666666,
              "#ed7953"
             ],
             [
              0.7777777777777778,
              "#fb9f3a"
             ],
             [
              0.8888888888888888,
              "#fdca26"
             ],
             [
              1,
              "#f0f921"
             ]
            ],
            "type": "heatmap"
           }
          ],
          "histogram": [
           {
            "marker": {
             "pattern": {
              "fillmode": "overlay",
              "size": 10,
              "solidity": 0.2
             }
            },
            "type": "histogram"
           }
          ],
          "histogram2d": [
           {
            "colorbar": {
             "outlinewidth": 0,
             "ticks": ""
            },
            "colorscale": [
             [
              0,
              "#0d0887"
             ],
             [
              0.1111111111111111,
              "#46039f"
             ],
             [
              0.2222222222222222,
              "#7201a8"
             ],
             [
              0.3333333333333333,
              "#9c179e"
             ],
             [
              0.4444444444444444,
              "#bd3786"
             ],
             [
              0.5555555555555556,
              "#d8576b"
             ],
             [
              0.6666666666666666,
              "#ed7953"
             ],
             [
              0.7777777777777778,
              "#fb9f3a"
             ],
             [
              0.8888888888888888,
              "#fdca26"
             ],
             [
              1,
              "#f0f921"
             ]
            ],
            "type": "histogram2d"
           }
          ],
          "histogram2dcontour": [
           {
            "colorbar": {
             "outlinewidth": 0,
             "ticks": ""
            },
            "colorscale": [
             [
              0,
              "#0d0887"
             ],
             [
              0.1111111111111111,
              "#46039f"
             ],
             [
              0.2222222222222222,
              "#7201a8"
             ],
             [
              0.3333333333333333,
              "#9c179e"
             ],
             [
              0.4444444444444444,
              "#bd3786"
             ],
             [
              0.5555555555555556,
              "#d8576b"
             ],
             [
              0.6666666666666666,
              "#ed7953"
             ],
             [
              0.7777777777777778,
              "#fb9f3a"
             ],
             [
              0.8888888888888888,
              "#fdca26"
             ],
             [
              1,
              "#f0f921"
             ]
            ],
            "type": "histogram2dcontour"
           }
          ],
          "mesh3d": [
           {
            "colorbar": {
             "outlinewidth": 0,
             "ticks": ""
            },
            "type": "mesh3d"
           }
          ],
          "parcoords": [
           {
            "line": {
             "colorbar": {
              "outlinewidth": 0,
              "ticks": ""
             }
            },
            "type": "parcoords"
           }
          ],
          "pie": [
           {
            "automargin": true,
            "type": "pie"
           }
          ],
          "scatter": [
           {
            "fillpattern": {
             "fillmode": "overlay",
             "size": 10,
             "solidity": 0.2
            },
            "type": "scatter"
           }
          ],
          "scatter3d": [
           {
            "line": {
             "colorbar": {
              "outlinewidth": 0,
              "ticks": ""
             }
            },
            "marker": {
             "colorbar": {
              "outlinewidth": 0,
              "ticks": ""
             }
            },
            "type": "scatter3d"
           }
          ],
          "scattercarpet": [
           {
            "marker": {
             "colorbar": {
              "outlinewidth": 0,
              "ticks": ""
             }
            },
            "type": "scattercarpet"
           }
          ],
          "scattergeo": [
           {
            "marker": {
             "colorbar": {
              "outlinewidth": 0,
              "ticks": ""
             }
            },
            "type": "scattergeo"
           }
          ],
          "scattergl": [
           {
            "marker": {
             "colorbar": {
              "outlinewidth": 0,
              "ticks": ""
             }
            },
            "type": "scattergl"
           }
          ],
          "scattermap": [
           {
            "marker": {
             "colorbar": {
              "outlinewidth": 0,
              "ticks": ""
             }
            },
            "type": "scattermap"
           }
          ],
          "scattermapbox": [
           {
            "marker": {
             "colorbar": {
              "outlinewidth": 0,
              "ticks": ""
             }
            },
            "type": "scattermapbox"
           }
          ],
          "scatterpolar": [
           {
            "marker": {
             "colorbar": {
              "outlinewidth": 0,
              "ticks": ""
             }
            },
            "type": "scatterpolar"
           }
          ],
          "scatterpolargl": [
           {
            "marker": {
             "colorbar": {
              "outlinewidth": 0,
              "ticks": ""
             }
            },
            "type": "scatterpolargl"
           }
          ],
          "scatterternary": [
           {
            "marker": {
             "colorbar": {
              "outlinewidth": 0,
              "ticks": ""
             }
            },
            "type": "scatterternary"
           }
          ],
          "surface": [
           {
            "colorbar": {
             "outlinewidth": 0,
             "ticks": ""
            },
            "colorscale": [
             [
              0,
              "#0d0887"
             ],
             [
              0.1111111111111111,
              "#46039f"
             ],
             [
              0.2222222222222222,
              "#7201a8"
             ],
             [
              0.3333333333333333,
              "#9c179e"
             ],
             [
              0.4444444444444444,
              "#bd3786"
             ],
             [
              0.5555555555555556,
              "#d8576b"
             ],
             [
              0.6666666666666666,
              "#ed7953"
             ],
             [
              0.7777777777777778,
              "#fb9f3a"
             ],
             [
              0.8888888888888888,
              "#fdca26"
             ],
             [
              1,
              "#f0f921"
             ]
            ],
            "type": "surface"
           }
          ],
          "table": [
           {
            "cells": {
             "fill": {
              "color": "#EBF0F8"
             },
             "line": {
              "color": "white"
             }
            },
            "header": {
             "fill": {
              "color": "#C8D4E3"
             },
             "line": {
              "color": "white"
             }
            },
            "type": "table"
           }
          ]
         },
         "layout": {
          "annotationdefaults": {
           "arrowcolor": "#2a3f5f",
           "arrowhead": 0,
           "arrowwidth": 1
          },
          "autotypenumbers": "strict",
          "coloraxis": {
           "colorbar": {
            "outlinewidth": 0,
            "ticks": ""
           }
          },
          "colorscale": {
           "diverging": [
            [
             0,
             "#8e0152"
            ],
            [
             0.1,
             "#c51b7d"
            ],
            [
             0.2,
             "#de77ae"
            ],
            [
             0.3,
             "#f1b6da"
            ],
            [
             0.4,
             "#fde0ef"
            ],
            [
             0.5,
             "#f7f7f7"
            ],
            [
             0.6,
             "#e6f5d0"
            ],
            [
             0.7,
             "#b8e186"
            ],
            [
             0.8,
             "#7fbc41"
            ],
            [
             0.9,
             "#4d9221"
            ],
            [
             1,
             "#276419"
            ]
           ],
           "sequential": [
            [
             0,
             "#0d0887"
            ],
            [
             0.1111111111111111,
             "#46039f"
            ],
            [
             0.2222222222222222,
             "#7201a8"
            ],
            [
             0.3333333333333333,
             "#9c179e"
            ],
            [
             0.4444444444444444,
             "#bd3786"
            ],
            [
             0.5555555555555556,
             "#d8576b"
            ],
            [
             0.6666666666666666,
             "#ed7953"
            ],
            [
             0.7777777777777778,
             "#fb9f3a"
            ],
            [
             0.8888888888888888,
             "#fdca26"
            ],
            [
             1,
             "#f0f921"
            ]
           ],
           "sequentialminus": [
            [
             0,
             "#0d0887"
            ],
            [
             0.1111111111111111,
             "#46039f"
            ],
            [
             0.2222222222222222,
             "#7201a8"
            ],
            [
             0.3333333333333333,
             "#9c179e"
            ],
            [
             0.4444444444444444,
             "#bd3786"
            ],
            [
             0.5555555555555556,
             "#d8576b"
            ],
            [
             0.6666666666666666,
             "#ed7953"
            ],
            [
             0.7777777777777778,
             "#fb9f3a"
            ],
            [
             0.8888888888888888,
             "#fdca26"
            ],
            [
             1,
             "#f0f921"
            ]
           ]
          },
          "colorway": [
           "#636efa",
           "#EF553B",
           "#00cc96",
           "#ab63fa",
           "#FFA15A",
           "#19d3f3",
           "#FF6692",
           "#B6E880",
           "#FF97FF",
           "#FECB52"
          ],
          "font": {
           "color": "#2a3f5f"
          },
          "geo": {
           "bgcolor": "white",
           "lakecolor": "white",
           "landcolor": "#E5ECF6",
           "showlakes": true,
           "showland": true,
           "subunitcolor": "white"
          },
          "hoverlabel": {
           "align": "left"
          },
          "hovermode": "closest",
          "mapbox": {
           "style": "light"
          },
          "paper_bgcolor": "white",
          "plot_bgcolor": "#E5ECF6",
          "polar": {
           "angularaxis": {
            "gridcolor": "white",
            "linecolor": "white",
            "ticks": ""
           },
           "bgcolor": "#E5ECF6",
           "radialaxis": {
            "gridcolor": "white",
            "linecolor": "white",
            "ticks": ""
           }
          },
          "scene": {
           "xaxis": {
            "backgroundcolor": "#E5ECF6",
            "gridcolor": "white",
            "gridwidth": 2,
            "linecolor": "white",
            "showbackground": true,
            "ticks": "",
            "zerolinecolor": "white"
           },
           "yaxis": {
            "backgroundcolor": "#E5ECF6",
            "gridcolor": "white",
            "gridwidth": 2,
            "linecolor": "white",
            "showbackground": true,
            "ticks": "",
            "zerolinecolor": "white"
           },
           "zaxis": {
            "backgroundcolor": "#E5ECF6",
            "gridcolor": "white",
            "gridwidth": 2,
            "linecolor": "white",
            "showbackground": true,
            "ticks": "",
            "zerolinecolor": "white"
           }
          },
          "shapedefaults": {
           "line": {
            "color": "#2a3f5f"
           }
          },
          "ternary": {
           "aaxis": {
            "gridcolor": "white",
            "linecolor": "white",
            "ticks": ""
           },
           "baxis": {
            "gridcolor": "white",
            "linecolor": "white",
            "ticks": ""
           },
           "bgcolor": "#E5ECF6",
           "caxis": {
            "gridcolor": "white",
            "linecolor": "white",
            "ticks": ""
           }
          },
          "title": {
           "x": 0.05
          },
          "xaxis": {
           "automargin": true,
           "gridcolor": "white",
           "linecolor": "white",
           "ticks": "",
           "title": {
            "standoff": 15
           },
           "zerolinecolor": "white",
           "zerolinewidth": 2
          },
          "yaxis": {
           "automargin": true,
           "gridcolor": "white",
           "linecolor": "white",
           "ticks": "",
           "title": {
            "standoff": 15
           },
           "zerolinecolor": "white",
           "zerolinewidth": 2
          }
         }
        },
        "title": {
         "text": "Daily mean vs median glucose"
        },
        "xaxis": {
         "anchor": "y",
         "domain": [
          0,
          1
         ],
         "title": {
          "text": "date"
         }
        },
        "yaxis": {
         "anchor": "x",
         "domain": [
          0,
          1
         ],
         "title": {
          "text": "Glucose (mg/dL)"
         }
        }
       }
      }
     },
     "metadata": {},
     "output_type": "display_data"
    }
   ],
   "source": [
    "daily_metrics = (\n",
    "    glucose_df.groupby(\"date\")[\"glucose_value\"]\n",
    "    .agg([\"mean\", \"median\", \"min\", \"max\"])\n",
    "    .rename(\n",
    "        columns={\n",
    "            \"mean\": \"mean_mg_dl\",\n",
    "            \"median\": \"median_mg_dl\",\n",
    "            \"min\": \"min_mg_dl\",\n",
    "            \"max\": \"max_mg_dl\",\n",
    "        }\n",
    "    )\n",
    ")\n",
    "display(daily_metrics.tail())\n",
    "\n",
    "fig = px.line(\n",
    "    daily_metrics.reset_index(),\n",
    "    x=\"date\",\n",
    "    y=[\"mean_mg_dl\", \"median_mg_dl\"],\n",
    "    title=\"Daily mean vs median glucose\",\n",
    "    labels={\"value\": \"Glucose (mg/dL)\", \"variable\": \"Statistic\"},\n",
    ")\n",
    "fig.add_hrect(y0=70, y1=180, fillcolor=\"lightgreen\", opacity=0.2, line_width=0)\n",
    "fig.show()"
   ]
  },
  {
   "cell_type": "markdown",
   "id": "a5e16e5d",
   "metadata": {},
   "source": [
    "### 7. Circadian patterns"
   ]
  },
  {
   "cell_type": "code",
   "execution_count": 8,
   "id": "312e3cff",
   "metadata": {},
   "outputs": [
    {
     "data": {
      "image/png": "[encoded data removed]",
      "text/plain": [
       "<Figure size 1400x600 with 2 Axes>"
      ]
     },
     "metadata": {},
     "output_type": "display_data"
    }
   ],
   "source": [
    "hourly_pattern = (\n",
    "    glucose_df.groupby([\"day_name\", \"hour_of_day\"])[\"glucose_value\"]\n",
    "    .mean()\n",
    "    .reset_index()\n",
    ")\n",
    "day_order = [\n",
    "    \"Monday\",\n",
    "    \"Tuesday\",\n",
    "    \"Wednesday\",\n",
    "    \"Thursday\",\n",
    "    \"Friday\",\n",
    "    \"Saturday\",\n",
    "    \"Sunday\",\n",
    "]\n",
    "hourly_pivot = hourly_pattern.pivot(\n",
    "    index=\"day_name\", columns=\"hour_of_day\", values=\"glucose_value\"\n",
    ").reindex(day_order)\n",
    "plt.figure(figsize=(14, 6))\n",
    "sns.heatmap(hourly_pivot, cmap=\"coolwarm\", center=110, linewidths=0.3)\n",
    "plt.title(\"Average glucose by day of week and hour\")\n",
    "plt.xlabel(\"Hour of day\")\n",
    "plt.ylabel(\"Day of week\")\n",
    "plt.tight_layout()\n",
    "plt.show()"
   ]
  },
  {
   "cell_type": "markdown",
   "id": "b4f9279d",
   "metadata": {},
   "source": [
    "### 8. Rate-of-change dynamics"
   ]
  },
  {
   "cell_type": "code",
   "execution_count": 9,
   "id": "7e6b3f26",
   "metadata": {},
   "outputs": [
    {
     "data": {
      "application/vnd.microsoft.datawrangler.viewer.v0+json": {
       "columns": [
        {
         "name": "index",
         "rawType": "object",
         "type": "string"
        },
        {
         "name": "rate_change_mg_dl_per_min",
         "rawType": "float64",
         "type": "float"
        }
       ],
       "ref": "592ee540-d078-467b-b35c-5170d0b95ae7",
       "rows": [
        [
         "count",
         "4150.0"
        ],
        [
         "mean",
         "-0.0034899598393574286"
        ],
        [
         "std",
         "1.0271204256088469"
        ],
        [
         "min",
         "-17.0"
        ],
        [
         "5%",
         "-1.0"
        ],
        [
         "50%",
         "0.0"
        ],
        [
         "95%",
         "1.0"
        ],
        [
         "max",
         "31.000000000000004"
        ]
       ],
       "shape": {
        "columns": 1,
        "rows": 8
       }
      },
      "text/html": [
       "<div>\n",
       "<style scoped>\n",
       "    .dataframe tbody tr th:only-of-type {\n",
       "        vertical-align: middle;\n",
       "    }\n",
       "\n",
       "    .dataframe tbody tr th {\n",
       "        vertical-align: top;\n",
       "    }\n",
       "\n",
       "    .dataframe thead th {\n",
       "        text-align: right;\n",
       "    }\n",
       "</style>\n",
       "<table border=\"1\" class=\"dataframe\">\n",
       "  <thead>\n",
       "    <tr style=\"text-align: right;\">\n",
       "      <th></th>\n",
       "      <th>rate_change_mg_dl_per_min</th>\n",
       "    </tr>\n",
       "  </thead>\n",
       "  <tbody>\n",
       "    <tr>\n",
       "      <th>count</th>\n",
       "      <td>4.15e+03</td>\n",
       "    </tr>\n",
       "    <tr>\n",
       "      <th>mean</th>\n",
       "      <td>-3.49e-03</td>\n",
       "    </tr>\n",
       "    <tr>\n",
       "      <th>std</th>\n",
       "      <td>1.03e+00</td>\n",
       "    </tr>\n",
       "    <tr>\n",
       "      <th>min</th>\n",
       "      <td>-1.70e+01</td>\n",
       "    </tr>\n",
       "    <tr>\n",
       "      <th>5%</th>\n",
       "      <td>-1.00e+00</td>\n",
       "    </tr>\n",
       "    <tr>\n",
       "      <th>50%</th>\n",
       "      <td>0.00e+00</td>\n",
       "    </tr>\n",
       "    <tr>\n",
       "      <th>95%</th>\n",
       "      <td>1.00e+00</td>\n",
       "    </tr>\n",
       "    <tr>\n",
       "      <th>max</th>\n",
       "      <td>3.10e+01</td>\n",
       "    </tr>\n",
       "  </tbody>\n",
       "</table>\n",
       "</div>"
      ],
      "text/plain": [
       "       rate_change_mg_dl_per_min\n",
       "count                   4.15e+03\n",
       "mean                   -3.49e-03\n",
       "std                     1.03e+00\n",
       "min                    -1.70e+01\n",
       "5%                     -1.00e+00\n",
       "50%                     0.00e+00\n",
       "95%                     1.00e+00\n",
       "max                     3.10e+01"
      ]
     },
     "metadata": {},
     "output_type": "display_data"
    },
    {
     "data": {
      "image/png": "[encoded data removed]",
      "text/plain": [
       "<Figure size 800x400 with 1 Axes>"
      ]
     },
     "metadata": {},
     "output_type": "display_data"
    },
    {
     "data": {
      "application/vnd.microsoft.datawrangler.viewer.v0+json": {
       "columns": [
        {
         "name": "trend",
         "rawType": "object",
         "type": "string"
        },
        {
         "name": "count",
         "rawType": "int64",
         "type": "integer"
        }
       ],
       "ref": "484cd5df-28e0-4d3e-b615-a999e7d35075",
       "rows": [
        [
         "stable",
         "3879"
        ],
        [
         "rising",
         "191"
        ],
        [
         "falling_fast",
         "44"
        ],
        [
         "rising_fast",
         "37"
        ]
       ],
       "shape": {
        "columns": 1,
        "rows": 4
       }
      },
      "text/html": [
       "<div>\n",
       "<style scoped>\n",
       "    .dataframe tbody tr th:only-of-type {\n",
       "        vertical-align: middle;\n",
       "    }\n",
       "\n",
       "    .dataframe tbody tr th {\n",
       "        vertical-align: top;\n",
       "    }\n",
       "\n",
       "    .dataframe thead th {\n",
       "        text-align: right;\n",
       "    }\n",
       "</style>\n",
       "<table border=\"1\" class=\"dataframe\">\n",
       "  <thead>\n",
       "    <tr style=\"text-align: right;\">\n",
       "      <th></th>\n",
       "      <th>count</th>\n",
       "    </tr>\n",
       "    <tr>\n",
       "      <th>trend</th>\n",
       "      <th></th>\n",
       "    </tr>\n",
       "  </thead>\n",
       "  <tbody>\n",
       "    <tr>\n",
       "      <th>stable</th>\n",
       "      <td>3879</td>\n",
       "    </tr>\n",
       "    <tr>\n",
       "      <th>rising</th>\n",
       "      <td>191</td>\n",
       "    </tr>\n",
       "    <tr>\n",
       "      <th>falling_fast</th>\n",
       "      <td>44</td>\n",
       "    </tr>\n",
       "    <tr>\n",
       "      <th>rising_fast</th>\n",
       "      <td>37</td>\n",
       "    </tr>\n",
       "  </tbody>\n",
       "</table>\n",
       "</div>"
      ],
      "text/plain": [
       "              count\n",
       "trend              \n",
       "stable         3879\n",
       "rising          191\n",
       "falling_fast     44\n",
       "rising_fast      37"
      ]
     },
     "metadata": {},
     "output_type": "display_data"
    }
   ],
   "source": [
    "roc = glucose_df[\"glucose_rate_change\"].dropna()\n",
    "if roc.empty:\n",
    "    print(\"⚠️ No rate-of-change data available in this export.\")\n",
    "else:\n",
    "    display(\n",
    "        roc.describe(percentiles=[0.05, 0.5, 0.95]).to_frame(\n",
    "            name=\"rate_change_mg_dl_per_min\"\n",
    "        )\n",
    "    )\n",
    "    plt.figure(figsize=(8, 4))\n",
    "    sns.histplot(roc, bins=40, kde=True, color=\"purple\")\n",
    "    plt.axvline(0, color=\"black\", linestyle=\"--\")\n",
    "    plt.title(\"Glucose rate-of-change distribution\")\n",
    "    plt.xlabel(\"mg/dL per minute\")\n",
    "    plt.tight_layout()\n",
    "    plt.show()\n",
    "\n",
    "    trend_counts = (\n",
    "        glucose_df[\"glucose_trend\"]\n",
    "        .value_counts()\n",
    "        .rename_axis(\"trend\")\n",
    "        .to_frame(name=\"count\")\n",
    "    )\n",
    "    display(trend_counts)"
   ]
  },
  {
   "cell_type": "markdown",
   "id": "fe6c21b2",
   "metadata": {},
   "source": [
    "### 9. Rolling variability and sustained patterns"
   ]
  },
  {
   "cell_type": "code",
   "execution_count": 10,
   "id": "88e1dcca",
   "metadata": {},
   "outputs": [
    {
     "name": "stderr",
     "output_type": "stream",
     "text": [
      "/var/folders/pj/9229dfxn08b9q2x4mrfmj55r0000gn/T/ipykernel_8413/3961770209.py:3: FutureWarning:\n",
      "\n",
      "'T' is deprecated and will be removed in a future version, please use 'min' instead.\n",
      "\n"
     ]
    },
    {
     "data": {
      "application/vnd.plotly.v1+json": {
       "config": {
        "plotlyServerURL": "https://plot.ly"
       },
       "data": [
        {
         "hovertemplate": "Metric=rolling_mean<br>timestamp=%{x}<br>mg/dL=%{y}<extra></extra>",
         "legendgroup": "rolling_mean",
         "line": {
          "color": "#636efa",
          "dash": "solid"
         },
         "marker": {
          "symbol": "circle"
         },
         "mode": "lines",
         "name": "rolling_mean",
         "showlegend": true,
         "type": "scattergl",
         "x": [
          "2025-08-16T13:15:00.000000000",
          "2025-08-16T13:30:00.000000000",
          "2025-08-16T13:45:00.000000000",
          "2025-08-16T14:00:00.000000000",
          "2025-08-16T14:15:00.000000000",
          "2025-08-16T14:30:00.000000000",
          "2025-08-16T14:45:00.000000000",
          "2025-08-16T15:00:00.000000000",
          "2025-08-16T15:15:00.000000000",
          "2025-08-16T15:30:00.000000000",
          "2025-08-16T15:45:00.000000000",
          "2025-08-16T16:00:00.000000000",
          "2025-08-16T16:15:00.000000000",
          "2025-08-16T16:30:00.000000000",
          "2025-08-16T16:45:00.000000000",
          "2025-08-16T17:00:00.000000000",
          "2025-08-16T17:15:00.000000000",
          "2025-08-16T17:30:00.000000000",
          "2025-08-16T17:45:00.000000000",
          "2025-08-16T18:00:00.000000000",
          "2025-08-16T18:15:00.000000000",
          "2025-08-16T18:30:00.000000000",
          "2025-08-16T18:45:00.000000000",
          "2025-08-16T19:00:00.000000000",
          "2025-08-16T19:15:00.000000000",
          "2025-08-16T19:30:00.000000000",
          "2025-08-16T19:45:00.000000000",
          "2025-08-16T20:00:00.000000000",
          "2025-08-16T20:15:00.000000000",
          "2025-08-16T20:30:00.000000000",
          "2025-08-16T20:45:00.000000000",
          "2025-08-16T21:00:00.000000000",
          "2025-08-16T21:15:00.000000000",
          "2025-08-16T21:30:00.000000000",
          "2025-08-16T21:45:00.000000000",
          "2025-08-16T22:00:00.000000000",
          "2025-08-16T22:15:00.000000000",
          "2025-08-16T22:30:00.000000000",
          "2025-08-16T22:45:00.000000000",
          "2025-08-16T23:00:00.000000000",
          "2025-08-16T23:15:00.000000000",
          "2025-08-16T23:30:00.000000000",
          "2025-08-16T23:45:00.000000000",
          "2025-08-17T00:00:00.000000000",
          "2025-08-17T00:15:00.000000000",
          "2025-08-17T00:30:00.000000000",
          "2025-08-17T00:45:00.000000000",
          "2025-08-17T01:00:00.000000000",
          "2025-08-17T01:15:00.000000000",
          "2025-08-17T01:30:00.000000000",
          "2025-08-17T01:45:00.000000000",
          "2025-08-17T02:00:00.000000000",
          "2025-08-17T02:15:00.000000000",
          "2025-08-17T02:30:00.000000000",
          "2025-08-17T02:45:00.000000000",
          "2025-08-17T03:00:00.000000000",
          "2025-08-17T03:15:00.000000000",
          "2025-08-17T03:30:00.000000000",
          "2025-08-17T03:45:00.000000000",
          "2025-08-17T04:00:00.000000000",
          "2025-08-17T04:15:00.000000000",
          "2025-08-17T04:30:00.000000000",
          "2025-08-17T04:45:00.000000000",
          "2025-08-17T05:00:00.000000000",
          "2025-08-17T05:15:00.000000000",
          "2025-08-17T05:30:00.000000000",
          "2025-08-17T05:45:00.000000000",
          "2025-08-17T06:00:00.000000000",
          "2025-08-17T06:15:00.000000000",
          "2025-08-17T06:30:00.000000000",
          "2025-08-17T06:45:00.000000000",
          "2025-08-17T07:00:00.000000000",
          "2025-08-17T07:15:00.000000000",
          "2025-08-17T07:30:00.000000000",
          "2025-08-17T07:45:00.000000000",
          "2025-08-17T08:00:00.000000000",
          "2025-08-17T08:15:00.000000000",
          "2025-08-17T08:30:00.000000000",
          "2025-08-17T08:45:00.000000000",
          "2025-08-17T09:00:00.000000000",
          "2025-08-17T09:15:00.000000000",
          "2025-08-17T09:30:00.000000000",
          "2025-08-17T09:45:00.000000000",
          "2025-08-17T10:00:00.000000000",
          "2025-08-17T10:15:00.000000000",
          "2025-08-17T10:30:00.000000000",
          "2025-08-17T10:45:00.000000000",
          "2025-08-17T11:00:00.000000000",
          "2025-08-17T11:15:00.000000000",
          "2025-08-17T11:30:00.000000000",
          "2025-08-17T11:45:00.000000000",
          "2025-08-17T12:00:00.000000000",
          "2025-08-17T12:15:00.000000000",
          "2025-08-17T12:30:00.000000000",
          "2025-08-17T12:45:00.000000000",
          "2025-08-17T13:00:00.000000000",
          "2025-08-17T13:15:00.000000000",
          "2025-08-17T13:30:00.000000000",
          "2025-08-17T13:45:00.000000000",
          "2025-08-17T14:00:00.000000000",
          "2025-08-17T14:15:00.000000000",
          "2025-08-17T14:30:00.000000000",
          "2025-08-17T14:45:00.000000000",
          "2025-08-17T15:00:00.000000000",
          "2025-08-17T15:15:00.000000000",
          "2025-08-17T15:30:00.000000000",
          "2025-08-17T15:45:00.000000000",
          "2025-08-17T16:00:00.000000000",
          "2025-08-17T16:15:00.000000000",
          "2025-08-17T16:30:00.000000000",
          "2025-08-17T16:45:00.000000000",
          "2025-08-17T17:00:00.000000000",
          "2025-08-17T17:15:00.000000000",
          "2025-08-17T17:30:00.000000000",
          "2025-08-17T17:45:00.000000000",
          "2025-08-17T18:00:00.000000000",
          "2025-08-17T18:15:00.000000000",
          "2025-08-17T18:30:00.000000000",
          "2025-08-17T18:45:00.000000000",
          "2025-08-17T19:00:00.000000000",
          "2025-08-17T19:15:00.000000000",
          "2025-08-17T19:30:00.000000000",
          "2025-08-17T19:45:00.000000000",
          "2025-08-17T20:00:00.000000000",
          "2025-08-17T20:15:00.000000000",
          "2025-08-17T20:30:00.000000000",
          "2025-08-17T20:45:00.000000000",
          "2025-08-17T21:00:00.000000000",
          "2025-08-17T21:15:00.000000000",
          "2025-08-17T21:30:00.000000000",
          "2025-08-17T21:45:00.000000000",
          "2025-08-17T22:00:00.000000000",
          "2025-08-17T22:15:00.000000000",
          "2025-08-17T22:30:00.000000000",
          "2025-08-17T22:45:00.000000000",
          "2025-08-17T23:00:00.000000000",
          "2025-08-17T23:15:00.000000000",
          "2025-08-17T23:30:00.000000000",
          "2025-08-17T23:45:00.000000000",
          "2025-08-18T00:00:00.000000000",
          "2025-08-18T00:15:00.000000000",
          "2025-08-18T00:30:00.000000000",
          "2025-08-18T00:45:00.000000000",
          "2025-08-18T01:00:00.000000000",
          "2025-08-18T01:15:00.000000000",
          "2025-08-18T01:30:00.000000000",
          "2025-08-18T01:45:00.000000000",
          "2025-08-18T02:00:00.000000000",
          "2025-08-18T02:15:00.000000000",
          "2025-08-18T02:30:00.000000000",
          "2025-08-18T02:45:00.000000000",
          "2025-08-18T03:00:00.000000000",
          "2025-08-18T03:15:00.000000000",
          "2025-08-18T03:30:00.000000000",
          "2025-08-18T03:45:00.000000000",
          "2025-08-18T04:00:00.000000000",
          "2025-08-18T04:15:00.000000000",
          "2025-08-18T04:30:00.000000000",
          "2025-08-18T04:45:00.000000000",
          "2025-08-18T05:00:00.000000000",
          "2025-08-18T05:15:00.000000000",
          "2025-08-18T05:30:00.000000000",
          "2025-08-18T05:45:00.000000000",
          "2025-08-18T06:00:00.000000000",
          "2025-08-18T06:15:00.000000000",
          "2025-08-18T06:30:00.000000000",
          "2025-08-18T06:45:00.000000000",
          "2025-08-18T07:00:00.000000000",
          "2025-08-18T07:15:00.000000000",
          "2025-08-18T07:30:00.000000000",
          "2025-08-18T07:45:00.000000000",
          "2025-08-18T08:00:00.000000000",
          "2025-08-18T08:15:00.000000000",
          "2025-08-18T08:30:00.000000000",
          "2025-08-18T08:45:00.000000000",
          "2025-08-18T09:00:00.000000000",
          "2025-08-18T09:15:00.000000000",
          "2025-08-18T09:30:00.000000000",
          "2025-08-18T09:45:00.000000000",
          "2025-08-18T10:00:00.000000000",
          "2025-08-18T10:15:00.000000000",
          "2025-08-18T10:30:00.000000000",
          "2025-08-18T10:45:00.000000000",
          "2025-08-18T11:00:00.000000000",
          "2025-08-18T11:15:00.000000000",
          "2025-08-18T11:30:00.000000000",
          "2025-08-18T11:45:00.000000000",
          "2025-08-18T12:00:00.000000000",
          "2025-08-18T12:15:00.000000000",
          "2025-08-18T12:30:00.000000000",
          "2025-08-18T12:45:00.000000000",
          "2025-08-18T13:00:00.000000000",
          "2025-08-18T13:15:00.000000000",
          "2025-08-18T13:30:00.000000000",
          "2025-08-18T13:45:00.000000000",
          "2025-08-18T14:00:00.000000000",
          "2025-08-18T14:15:00.000000000",
          "2025-08-18T14:30:00.000000000",
          "2025-08-18T14:45:00.000000000",
          "2025-08-18T15:00:00.000000000",
          "2025-08-18T15:15:00.000000000",
          "2025-08-18T15:30:00.000000000",
          "2025-08-18T15:45:00.000000000",
          "2025-08-18T16:00:00.000000000",
          "2025-08-18T16:15:00.000000000",
          "2025-08-18T16:30:00.000000000",
          "2025-08-18T16:45:00.000000000",
          "2025-08-18T17:00:00.000000000",
          "2025-08-18T17:15:00.000000000",
          "2025-08-18T17:30:00.000000000",
          "2025-08-18T17:45:00.000000000",
          "2025-08-18T18:00:00.000000000",
          "2025-08-18T18:15:00.000000000",
          "2025-08-18T18:30:00.000000000",
          "2025-08-18T18:45:00.000000000",
          "2025-08-18T19:00:00.000000000",
          "2025-08-18T19:15:00.000000000",
          "2025-08-18T19:30:00.000000000",
          "2025-08-18T19:45:00.000000000",
          "2025-08-18T20:00:00.000000000",
          "2025-08-18T20:15:00.000000000",
          "2025-08-18T20:30:00.000000000",
          "2025-08-18T20:45:00.000000000",
          "2025-08-18T21:00:00.000000000",
          "2025-08-18T21:15:00.000000000",
          "2025-08-18T21:30:00.000000000",
          "2025-08-18T21:45:00.000000000",
          "2025-08-18T22:00:00.000000000",
          "2025-08-18T22:15:00.000000000",
          "2025-08-18T22:30:00.000000000",
          "2025-08-18T22:45:00.000000000",
          "2025-08-18T23:00:00.000000000",
          "2025-08-18T23:15:00.000000000",
          "2025-08-18T23:30:00.000000000",
          "2025-08-18T23:45:00.000000000",
          "2025-08-19T00:00:00.000000000",
          "2025-08-19T00:15:00.000000000",
          "2025-08-19T00:30:00.000000000",
          "2025-08-19T00:45:00.000000000",
          "2025-08-19T01:00:00.000000000",
          "2025-08-19T01:15:00.000000000",
          "2025-08-19T01:30:00.000000000",
          "2025-08-19T01:45:00.000000000",
          "2025-08-19T02:00:00.000000000",
          "2025-08-19T02:15:00.000000000",
          "2025-08-19T02:30:00.000000000",
          "2025-08-19T02:45:00.000000000",
          "2025-08-19T03:00:00.000000000",
          "2025-08-19T03:15:00.000000000",
          "2025-08-19T03:30:00.000000000",
          "2025-08-19T03:45:00.000000000",
          "2025-08-19T04:00:00.000000000",
          "2025-08-19T04:15:00.000000000",
          "2025-08-19T04:30:00.000000000",
          "2025-08-19T04:45:00.000000000",
          "2025-08-19T05:00:00.000000000",
          "2025-08-19T05:15:00.000000000",
          "2025-08-19T05:30:00.000000000",
          "2025-08-19T05:45:00.000000000",
          "2025-08-19T06:00:00.000000000",
          "2025-08-19T06:15:00.000000000",
          "2025-08-19T06:30:00.000000000",
          "2025-08-19T06:45:00.000000000",
          "2025-08-19T07:00:00.000000000",
          "2025-08-19T07:15:00.000000000",
          "2025-08-19T07:30:00.000000000",
          "2025-08-19T07:45:00.000000000",
          "2025-08-19T08:00:00.000000000",
          "2025-08-19T08:15:00.000000000",
          "2025-08-19T08:30:00.000000000",
          "2025-08-19T08:45:00.000000000",
          "2025-08-19T09:00:00.000000000",
          "2025-08-19T09:15:00.000000000",
          "2025-08-19T09:30:00.000000000",
          "2025-08-19T09:45:00.000000000",
          "2025-08-19T10:00:00.000000000",
          "2025-08-19T10:15:00.000000000",
          "2025-08-19T10:30:00.000000000",
          "2025-08-19T10:45:00.000000000",
          "2025-08-19T11:00:00.000000000",
          "2025-08-19T11:15:00.000000000",
          "2025-08-19T11:30:00.000000000",
          "2025-08-19T11:45:00.000000000",
          "2025-08-19T12:00:00.000000000",
          "2025-08-19T12:15:00.000000000",
          "2025-08-19T12:30:00.000000000",
          "2025-08-19T12:45:00.000000000",
          "2025-08-19T13:00:00.000000000",
          "2025-08-19T13:15:00.000000000",
          "2025-08-19T13:30:00.000000000",
          "2025-08-19T13:45:00.000000000",
          "2025-08-19T14:00:00.000000000",
          "2025-08-19T14:15:00.000000000",
          "2025-08-19T14:30:00.000000000",
          "2025-08-19T14:45:00.000000000",
          "2025-08-19T15:00:00.000000000",
          "2025-08-19T15:15:00.000000000",
          "2025-08-19T15:30:00.000000000",
          "2025-08-19T15:45:00.000000000",
          "2025-08-19T16:00:00.000000000",
          "2025-08-19T16:15:00.000000000",
          "2025-08-19T16:30:00.000000000",
          "2025-08-19T16:45:00.000000000",
          "2025-08-19T17:00:00.000000000",
          "2025-08-19T17:15:00.000000000",
          "2025-08-19T17:30:00.000000000",
          "2025-08-19T17:45:00.000000000",
          "2025-08-19T18:00:00.000000000",
          "2025-08-19T18:15:00.000000000",
          "2025-08-19T18:30:00.000000000",
          "2025-08-19T18:45:00.000000000",
          "2025-08-19T19:00:00.000000000",
          "2025-08-19T19:15:00.000000000",
          "2025-08-19T19:30:00.000000000",
          "2025-08-19T19:45:00.000000000",
          "2025-08-19T20:00:00.000000000",
          "2025-08-19T20:15:00.000000000",
          "2025-08-19T20:30:00.000000000",
          "2025-08-19T20:45:00.000000000",
          "2025-08-19T21:00:00.000000000",
          "2025-08-19T21:15:00.000000000",
          "2025-08-19T21:30:00.000000000",
          "2025-08-19T21:45:00.000000000",
          "2025-08-19T22:00:00.000000000",
          "2025-08-19T22:15:00.000000000",
          "2025-08-19T22:30:00.000000000",
          "2025-08-19T22:45:00.000000000",
          "2025-08-19T23:00:00.000000000",
          "2025-08-19T23:15:00.000000000",
          "2025-08-19T23:30:00.000000000",
          "2025-08-19T23:45:00.000000000",
          "2025-08-20T00:00:00.000000000",
          "2025-08-20T00:15:00.000000000",
          "2025-08-20T00:30:00.000000000",
          "2025-08-20T00:45:00.000000000",
          "2025-08-20T01:00:00.000000000",
          "2025-08-20T01:15:00.000000000",
          "2025-08-20T01:30:00.000000000",
          "2025-08-20T01:45:00.000000000",
          "2025-08-20T02:00:00.000000000",
          "2025-08-20T02:15:00.000000000",
          "2025-08-20T02:30:00.000000000",
          "2025-08-20T02:45:00.000000000",
          "2025-08-20T03:00:00.000000000",
          "2025-08-20T03:15:00.000000000",
          "2025-08-20T03:30:00.000000000",
          "2025-08-20T03:45:00.000000000",
          "2025-08-20T04:00:00.000000000",
          "2025-08-20T04:15:00.000000000",
          "2025-08-20T04:30:00.000000000",
          "2025-08-20T04:45:00.000000000",
          "2025-08-20T05:00:00.000000000",
          "2025-08-20T05:15:00.000000000",
          "2025-08-20T05:30:00.000000000",
          "2025-08-20T05:45:00.000000000",
          "2025-08-20T06:00:00.000000000",
          "2025-08-20T06:15:00.000000000",
          "2025-08-20T06:30:00.000000000",
          "2025-08-20T06:45:00.000000000",
          "2025-08-20T07:00:00.000000000",
          "2025-08-20T07:15:00.000000000",
          "2025-08-20T07:30:00.000000000",
          "2025-08-20T07:45:00.000000000",
          "2025-08-20T08:00:00.000000000",
          "2025-08-20T08:15:00.000000000",
          "2025-08-20T08:30:00.000000000",
          "2025-08-20T08:45:00.000000000",
          "2025-08-20T09:00:00.000000000",
          "2025-08-20T09:15:00.000000000",
          "2025-08-20T09:30:00.000000000",
          "2025-08-20T09:45:00.000000000",
          "2025-08-20T10:00:00.000000000",
          "2025-08-20T10:15:00.000000000",
          "2025-08-20T10:30:00.000000000",
          "2025-08-20T10:45:00.000000000",
          "2025-08-20T11:00:00.000000000",
          "2025-08-20T11:15:00.000000000",
          "2025-08-20T11:30:00.000000000",
          "2025-08-20T11:45:00.000000000",
          "2025-08-20T12:00:00.000000000",
          "2025-08-20T12:15:00.000000000",
          "2025-08-20T12:30:00.000000000",
          "2025-08-20T12:45:00.000000000",
          "2025-08-20T13:00:00.000000000",
          "2025-08-20T13:15:00.000000000",
          "2025-08-20T13:30:00.000000000",
          "2025-08-20T13:45:00.000000000",
          "2025-08-20T14:00:00.000000000",
          "2025-08-20T14:15:00.000000000",
          "2025-08-20T14:30:00.000000000",
          "2025-08-20T14:45:00.000000000",
          "2025-08-20T15:00:00.000000000",
          "2025-08-20T15:15:00.000000000",
          "2025-08-20T15:30:00.000000000",
          "2025-08-20T15:45:00.000000000",
          "2025-08-20T16:00:00.000000000",
          "2025-08-20T16:15:00.000000000",
          "2025-08-20T16:30:00.000000000",
          "2025-08-20T16:45:00.000000000",
          "2025-08-20T17:00:00.000000000",
          "2025-08-20T17:15:00.000000000",
          "2025-08-20T17:30:00.000000000",
          "2025-08-20T17:45:00.000000000",
          "2025-08-20T18:00:00.000000000",
          "2025-08-20T18:15:00.000000000",
          "2025-08-20T18:30:00.000000000",
          "2025-08-20T18:45:00.000000000",
          "2025-08-20T19:00:00.000000000",
          "2025-08-20T19:15:00.000000000",
          "2025-08-20T19:30:00.000000000",
          "2025-08-20T19:45:00.000000000",
          "2025-08-20T20:00:00.000000000",
          "2025-08-20T20:15:00.000000000",
          "2025-08-20T20:30:00.000000000",
          "2025-08-20T20:45:00.000000000",
          "2025-08-20T21:00:00.000000000",
          "2025-08-20T21:15:00.000000000",
          "2025-08-20T21:30:00.000000000",
          "2025-08-20T21:45:00.000000000",
          "2025-08-20T22:00:00.000000000",
          "2025-08-20T22:15:00.000000000",
          "2025-08-20T22:30:00.000000000",
          "2025-08-20T22:45:00.000000000",
          "2025-08-20T23:00:00.000000000",
          "2025-08-20T23:15:00.000000000",
          "2025-08-20T23:30:00.000000000",
          "2025-08-20T23:45:00.000000000",
          "2025-08-21T00:00:00.000000000",
          "2025-08-21T00:15:00.000000000",
          "2025-08-21T00:30:00.000000000",
          "2025-08-21T00:45:00.000000000",
          "2025-08-21T01:00:00.000000000",
          "2025-08-21T01:15:00.000000000",
          "2025-08-21T01:30:00.000000000",
          "2025-08-21T01:45:00.000000000",
          "2025-08-21T02:00:00.000000000",
          "2025-08-21T02:15:00.000000000",
          "2025-08-21T02:30:00.000000000",
          "2025-08-21T02:45:00.000000000",
          "2025-08-21T03:00:00.000000000",
          "2025-08-21T03:15:00.000000000",
          "2025-08-21T03:30:00.000000000",
          "2025-08-21T03:45:00.000000000",
          "2025-08-21T04:00:00.000000000",
          "2025-08-21T04:15:00.000000000",
          "2025-08-21T04:30:00.000000000",
          "2025-08-21T04:45:00.000000000",
          "2025-08-21T05:00:00.000000000",
          "2025-08-21T05:15:00.000000000",
          "2025-08-21T05:30:00.000000000",
          "2025-08-21T05:45:00.000000000",
          "2025-08-21T06:00:00.000000000",
          "2025-08-21T06:15:00.000000000",
          "2025-08-21T06:30:00.000000000",
          "2025-08-21T06:45:00.000000000",
          "2025-08-21T07:00:00.000000000",
          "2025-08-21T07:15:00.000000000",
          "2025-08-21T07:30:00.000000000",
          "2025-08-21T07:45:00.000000000",
          "2025-08-21T08:00:00.000000000",
          "2025-08-21T08:15:00.000000000",
          "2025-08-21T08:30:00.000000000",
          "2025-08-21T08:45:00.000000000",
          "2025-08-21T09:00:00.000000000",
          "2025-08-21T09:15:00.000000000",
          "2025-08-21T09:30:00.000000000",
          "2025-08-21T09:45:00.000000000",
          "2025-08-21T10:00:00.000000000",
          "2025-08-21T10:15:00.000000000",
          "2025-08-21T10:30:00.000000000",
          "2025-08-21T10:45:00.000000000",
          "2025-08-21T11:00:00.000000000",
          "2025-08-21T11:15:00.000000000",
          "2025-08-21T11:30:00.000000000",
          "2025-08-21T11:45:00.000000000",
          "2025-08-21T12:00:00.000000000",
          "2025-08-21T12:15:00.000000000",
          "2025-08-21T12:30:00.000000000",
          "2025-08-21T12:45:00.000000000",
          "2025-08-21T13:00:00.000000000",
          "2025-08-21T13:15:00.000000000",
          "2025-08-21T13:30:00.000000000",
          "2025-08-21T13:45:00.000000000",
          "2025-08-21T14:00:00.000000000",
          "2025-08-21T14:15:00.000000000",
          "2025-08-21T14:30:00.000000000",
          "2025-08-21T14:45:00.000000000",
          "2025-08-21T15:00:00.000000000",
          "2025-08-21T15:15:00.000000000",
          "2025-08-21T15:30:00.000000000",
          "2025-08-21T15:45:00.000000000",
          "2025-08-21T16:00:00.000000000",
          "2025-08-21T16:15:00.000000000",
          "2025-08-21T16:30:00.000000000",
          "2025-08-21T16:45:00.000000000",
          "2025-08-21T17:00:00.000000000",
          "2025-08-21T17:15:00.000000000",
          "2025-08-21T17:30:00.000000000",
          "2025-08-21T17:45:00.000000000",
          "2025-08-21T18:00:00.000000000",
          "2025-08-21T18:15:00.000000000",
          "2025-08-21T18:30:00.000000000",
          "2025-08-21T18:45:00.000000000",
          "2025-08-21T19:00:00.000000000",
          "2025-08-21T19:15:00.000000000",
          "2025-08-21T19:30:00.000000000",
          "2025-08-21T19:45:00.000000000",
          "2025-08-21T20:00:00.000000000",
          "2025-08-21T20:15:00.000000000",
          "2025-08-21T20:30:00.000000000",
          "2025-08-21T20:45:00.000000000",
          "2025-08-21T21:00:00.000000000",
          "2025-08-21T21:15:00.000000000",
          "2025-08-21T21:30:00.000000000",
          "2025-08-21T21:45:00.000000000",
          "2025-08-21T22:00:00.000000000",
          "2025-08-21T22:15:00.000000000",
          "2025-08-21T22:30:00.000000000",
          "2025-08-21T22:45:00.000000000",
          "2025-08-21T23:00:00.000000000",
          "2025-08-21T23:15:00.000000000",
          "2025-08-21T23:30:00.000000000",
          "2025-08-21T23:45:00.000000000",
          "2025-08-22T00:00:00.000000000",
          "2025-08-22T00:15:00.000000000",
          "2025-08-22T00:30:00.000000000",
          "2025-08-22T00:45:00.000000000",
          "2025-08-22T01:00:00.000000000",
          "2025-08-22T01:15:00.000000000",
          "2025-08-22T01:30:00.000000000",
          "2025-08-22T01:45:00.000000000",
          "2025-08-22T02:00:00.000000000",
          "2025-08-22T02:15:00.000000000",
          "2025-08-22T02:30:00.000000000",
          "2025-08-22T02:45:00.000000000",
          "2025-08-22T03:00:00.000000000",
          "2025-08-22T03:15:00.000000000",
          "2025-08-22T03:30:00.000000000",
          "2025-08-22T03:45:00.000000000",
          "2025-08-22T04:00:00.000000000",
          "2025-08-22T04:15:00.000000000",
          "2025-08-22T04:30:00.000000000",
          "2025-08-22T04:45:00.000000000",
          "2025-08-22T05:00:00.000000000",
          "2025-08-22T05:15:00.000000000",
          "2025-08-22T05:30:00.000000000",
          "2025-08-22T05:45:00.000000000",
          "2025-08-22T06:00:00.000000000",
          "2025-08-22T06:15:00.000000000",
          "2025-08-22T06:30:00.000000000",
          "2025-08-22T06:45:00.000000000",
          "2025-08-22T07:00:00.000000000",
          "2025-08-22T07:15:00.000000000",
          "2025-08-22T07:30:00.000000000",
          "2025-08-22T07:45:00.000000000",
          "2025-08-22T08:00:00.000000000",
          "2025-08-22T08:15:00.000000000",
          "2025-08-22T08:30:00.000000000",
          "2025-08-22T08:45:00.000000000",
          "2025-08-22T09:00:00.000000000",
          "2025-08-22T09:15:00.000000000",
          "2025-08-22T09:30:00.000000000",
          "2025-08-22T09:45:00.000000000",
          "2025-08-22T10:00:00.000000000",
          "2025-08-22T10:15:00.000000000",
          "2025-08-22T10:30:00.000000000",
          "2025-08-22T10:45:00.000000000",
          "2025-08-22T11:00:00.000000000",
          "2025-08-22T11:15:00.000000000",
          "2025-08-22T11:30:00.000000000",
          "2025-08-22T11:45:00.000000000",
          "2025-08-22T12:00:00.000000000",
          "2025-08-22T12:15:00.000000000",
          "2025-08-22T12:30:00.000000000",
          "2025-08-22T12:45:00.000000000",
          "2025-08-22T13:00:00.000000000",
          "2025-08-22T13:15:00.000000000",
          "2025-08-22T13:30:00.000000000",
          "2025-08-22T13:45:00.000000000",
          "2025-08-22T14:00:00.000000000",
          "2025-08-22T14:15:00.000000000",
          "2025-08-22T14:30:00.000000000",
          "2025-08-22T14:45:00.000000000",
          "2025-08-22T15:00:00.000000000",
          "2025-08-22T15:15:00.000000000",
          "2025-08-22T15:30:00.000000000",
          "2025-08-22T15:45:00.000000000",
          "2025-08-22T16:00:00.000000000",
          "2025-08-22T16:15:00.000000000",
          "2025-08-22T16:30:00.000000000",
          "2025-08-22T16:45:00.000000000",
          "2025-08-22T17:00:00.000000000",
          "2025-08-22T17:15:00.000000000",
          "2025-08-22T17:30:00.000000000",
          "2025-08-22T17:45:00.000000000",
          "2025-08-22T18:00:00.000000000",
          "2025-08-22T18:15:00.000000000",
          "2025-08-22T18:30:00.000000000",
          "2025-08-22T18:45:00.000000000",
          "2025-08-22T19:00:00.000000000",
          "2025-08-22T19:15:00.000000000",
          "2025-08-22T19:30:00.000000000",
          "2025-08-22T19:45:00.000000000",
          "2025-08-22T20:00:00.000000000",
          "2025-08-22T20:15:00.000000000",
          "2025-08-22T20:30:00.000000000",
          "2025-08-22T20:45:00.000000000",
          "2025-08-22T21:00:00.000000000",
          "2025-08-22T21:15:00.000000000",
          "2025-08-22T21:30:00.000000000",
          "2025-08-22T21:45:00.000000000",
          "2025-08-22T22:00:00.000000000",
          "2025-08-22T22:15:00.000000000",
          "2025-08-22T22:30:00.000000000",
          "2025-08-22T22:45:00.000000000",
          "2025-08-22T23:00:00.000000000",
          "2025-08-22T23:15:00.000000000",
          "2025-08-22T23:30:00.000000000",
          "2025-08-22T23:45:00.000000000",
          "2025-08-23T00:00:00.000000000",
          "2025-08-23T00:15:00.000000000",
          "2025-08-23T00:30:00.000000000",
          "2025-08-23T00:45:00.000000000",
          "2025-08-23T01:00:00.000000000",
          "2025-08-23T01:15:00.000000000",
          "2025-08-23T01:30:00.000000000",
          "2025-08-23T01:45:00.000000000",
          "2025-08-23T02:00:00.000000000",
          "2025-08-23T02:15:00.000000000",
          "2025-08-23T02:30:00.000000000",
          "2025-08-23T02:45:00.000000000",
          "2025-08-23T03:00:00.000000000",
          "2025-08-23T03:15:00.000000000",
          "2025-08-23T03:30:00.000000000",
          "2025-08-23T03:45:00.000000000",
          "2025-08-23T04:00:00.000000000",
          "2025-08-23T04:15:00.000000000",
          "2025-08-23T04:30:00.000000000",
          "2025-08-23T04:45:00.000000000",
          "2025-08-23T05:00:00.000000000",
          "2025-08-23T05:15:00.000000000",
          "2025-08-23T05:30:00.000000000",
          "2025-08-23T05:45:00.000000000",
          "2025-08-23T06:00:00.000000000",
          "2025-08-23T06:15:00.000000000",
          "2025-08-23T06:30:00.000000000",
          "2025-08-23T06:45:00.000000000",
          "2025-08-23T07:00:00.000000000",
          "2025-08-23T07:15:00.000000000",
          "2025-08-23T07:30:00.000000000",
          "2025-08-23T07:45:00.000000000",
          "2025-08-23T08:00:00.000000000",
          "2025-08-23T08:15:00.000000000",
          "2025-08-23T08:30:00.000000000",
          "2025-08-23T08:45:00.000000000",
          "2025-08-23T09:00:00.000000000",
          "2025-08-23T09:15:00.000000000",
          "2025-08-23T09:30:00.000000000",
          "2025-08-23T09:45:00.000000000",
          "2025-08-23T10:00:00.000000000",
          "2025-08-23T10:15:00.000000000",
          "2025-08-23T10:30:00.000000000",
          "2025-08-23T10:45:00.000000000",
          "2025-08-23T11:00:00.000000000",
          "2025-08-23T11:15:00.000000000",
          "2025-08-23T11:30:00.000000000",
          "2025-08-23T11:45:00.000000000",
          "2025-08-23T12:00:00.000000000",
          "2025-08-23T12:15:00.000000000",
          "2025-08-23T12:30:00.000000000",
          "2025-08-23T12:45:00.000000000",
          "2025-08-23T13:00:00.000000000",
          "2025-08-23T13:15:00.000000000",
          "2025-08-23T13:30:00.000000000",
          "2025-08-23T13:45:00.000000000",
          "2025-08-23T14:00:00.000000000",
          "2025-08-23T14:15:00.000000000",
          "2025-08-23T14:30:00.000000000",
          "2025-08-23T14:45:00.000000000",
          "2025-08-23T15:00:00.000000000",
          "2025-08-23T15:15:00.000000000",
          "2025-08-23T15:30:00.000000000",
          "2025-08-23T15:45:00.000000000",
          "2025-08-23T16:00:00.000000000",
          "2025-08-23T16:15:00.000000000",
          "2025-08-23T16:30:00.000000000",
          "2025-08-23T16:45:00.000000000",
          "2025-08-23T17:00:00.000000000",
          "2025-08-23T17:15:00.000000000",
          "2025-08-23T17:30:00.000000000",
          "2025-08-23T17:45:00.000000000",
          "2025-08-23T18:00:00.000000000",
          "2025-08-23T18:15:00.000000000",
          "2025-08-23T18:30:00.000000000",
          "2025-08-23T18:45:00.000000000",
          "2025-08-23T19:00:00.000000000",
          "2025-08-23T19:15:00.000000000",
          "2025-08-23T19:30:00.000000000",
          "2025-08-23T19:45:00.000000000",
          "2025-08-23T20:00:00.000000000",
          "2025-08-23T20:15:00.000000000",
          "2025-08-23T20:30:00.000000000",
          "2025-08-23T20:45:00.000000000",
          "2025-08-23T21:00:00.000000000",
          "2025-08-23T21:15:00.000000000",
          "2025-08-23T21:30:00.000000000",
          "2025-08-23T21:45:00.000000000",
          "2025-08-23T22:00:00.000000000",
          "2025-08-23T22:15:00.000000000",
          "2025-08-23T22:30:00.000000000",
          "2025-08-23T22:45:00.000000000",
          "2025-08-23T23:00:00.000000000",
          "2025-08-23T23:15:00.000000000",
          "2025-08-23T23:30:00.000000000",
          "2025-08-23T23:45:00.000000000",
          "2025-08-24T00:00:00.000000000",
          "2025-08-24T00:15:00.000000000",
          "2025-08-24T00:30:00.000000000",
          "2025-08-24T00:45:00.000000000",
          "2025-08-24T01:00:00.000000000",
          "2025-08-24T01:15:00.000000000",
          "2025-08-24T01:30:00.000000000",
          "2025-08-24T01:45:00.000000000",
          "2025-08-24T02:00:00.000000000",
          "2025-08-24T02:15:00.000000000",
          "2025-08-24T02:30:00.000000000",
          "2025-08-24T02:45:00.000000000",
          "2025-08-24T03:00:00.000000000",
          "2025-08-24T03:15:00.000000000",
          "2025-08-24T03:30:00.000000000",
          "2025-08-24T03:45:00.000000000",
          "2025-08-24T04:00:00.000000000",
          "2025-08-24T04:15:00.000000000",
          "2025-08-24T04:30:00.000000000",
          "2025-08-24T04:45:00.000000000",
          "2025-08-24T05:00:00.000000000",
          "2025-08-24T05:15:00.000000000",
          "2025-08-24T05:30:00.000000000",
          "2025-08-24T05:45:00.000000000",
          "2025-08-24T06:00:00.000000000",
          "2025-08-24T06:15:00.000000000",
          "2025-08-24T06:30:00.000000000",
          "2025-08-24T06:45:00.000000000",
          "2025-08-24T07:00:00.000000000",
          "2025-08-24T07:15:00.000000000",
          "2025-08-24T07:30:00.000000000",
          "2025-08-24T07:45:00.000000000",
          "2025-08-24T08:00:00.000000000",
          "2025-08-24T08:15:00.000000000",
          "2025-08-24T08:30:00.000000000",
          "2025-08-24T08:45:00.000000000",
          "2025-08-24T09:00:00.000000000",
          "2025-08-24T09:15:00.000000000",
          "2025-08-24T09:30:00.000000000",
          "2025-08-24T09:45:00.000000000",
          "2025-08-24T10:00:00.000000000",
          "2025-08-24T10:15:00.000000000",
          "2025-08-24T10:30:00.000000000",
          "2025-08-24T10:45:00.000000000",
          "2025-08-24T11:00:00.000000000",
          "2025-08-24T11:15:00.000000000",
          "2025-08-24T11:30:00.000000000",
          "2025-08-24T11:45:00.000000000",
          "2025-08-24T12:00:00.000000000",
          "2025-08-24T12:15:00.000000000",
          "2025-08-24T12:30:00.000000000",
          "2025-08-24T12:45:00.000000000",
          "2025-08-24T13:00:00.000000000",
          "2025-08-24T13:15:00.000000000",
          "2025-08-24T13:30:00.000000000",
          "2025-08-24T13:45:00.000000000",
          "2025-08-24T14:00:00.000000000",
          "2025-08-24T14:15:00.000000000",
          "2025-08-24T14:30:00.000000000",
          "2025-08-24T14:45:00.000000000",
          "2025-08-24T15:00:00.000000000",
          "2025-08-24T15:15:00.000000000",
          "2025-08-24T15:30:00.000000000",
          "2025-08-24T15:45:00.000000000",
          "2025-08-24T16:00:00.000000000",
          "2025-08-24T16:15:00.000000000",
          "2025-08-24T16:30:00.000000000",
          "2025-08-24T16:45:00.000000000",
          "2025-08-24T17:00:00.000000000",
          "2025-08-24T17:15:00.000000000",
          "2025-08-24T17:30:00.000000000",
          "2025-08-24T17:45:00.000000000",
          "2025-08-24T18:00:00.000000000",
          "2025-08-24T18:15:00.000000000",
          "2025-08-24T18:30:00.000000000",
          "2025-08-24T18:45:00.000000000",
          "2025-08-24T19:00:00.000000000",
          "2025-08-24T19:15:00.000000000",
          "2025-08-24T19:30:00.000000000",
          "2025-08-24T19:45:00.000000000",
          "2025-08-24T20:00:00.000000000",
          "2025-08-24T20:15:00.000000000",
          "2025-08-24T20:30:00.000000000",
          "2025-08-24T20:45:00.000000000",
          "2025-08-24T21:00:00.000000000",
          "2025-08-24T21:15:00.000000000",
          "2025-08-24T21:30:00.000000000",
          "2025-08-24T21:45:00.000000000",
          "2025-08-24T22:00:00.000000000",
          "2025-08-24T22:15:00.000000000",
          "2025-08-24T22:30:00.000000000",
          "2025-08-24T22:45:00.000000000",
          "2025-08-24T23:00:00.000000000",
          "2025-08-24T23:15:00.000000000",
          "2025-08-24T23:30:00.000000000",
          "2025-08-24T23:45:00.000000000",
          "2025-08-25T00:00:00.000000000",
          "2025-08-25T00:15:00.000000000",
          "2025-08-25T00:30:00.000000000",
          "2025-08-25T00:45:00.000000000",
          "2025-08-25T01:00:00.000000000",
          "2025-08-25T01:15:00.000000000",
          "2025-08-25T01:30:00.000000000",
          "2025-08-25T01:45:00.000000000",
          "2025-08-25T02:00:00.000000000",
          "2025-08-25T02:15:00.000000000",
          "2025-08-25T02:30:00.000000000",
          "2025-08-25T02:45:00.000000000",
          "2025-08-25T03:00:00.000000000",
          "2025-08-25T03:15:00.000000000",
          "2025-08-25T03:30:00.000000000",
          "2025-08-25T03:45:00.000000000",
          "2025-08-25T04:00:00.000000000",
          "2025-08-25T04:15:00.000000000",
          "2025-08-25T04:30:00.000000000",
          "2025-08-25T04:45:00.000000000",
          "2025-08-25T05:00:00.000000000",
          "2025-08-25T05:15:00.000000000",
          "2025-08-25T05:30:00.000000000",
          "2025-08-25T05:45:00.000000000",
          "2025-08-25T06:00:00.000000000",
          "2025-08-25T06:15:00.000000000",
          "2025-08-25T06:30:00.000000000",
          "2025-08-25T06:45:00.000000000",
          "2025-08-25T07:00:00.000000000",
          "2025-08-25T07:15:00.000000000",
          "2025-08-25T07:30:00.000000000",
          "2025-08-25T07:45:00.000000000",
          "2025-08-25T08:00:00.000000000",
          "2025-08-25T08:15:00.000000000",
          "2025-08-25T08:30:00.000000000",
          "2025-08-25T08:45:00.000000000",
          "2025-08-25T09:00:00.000000000",
          "2025-08-25T09:15:00.000000000",
          "2025-08-25T09:30:00.000000000",
          "2025-08-25T09:45:00.000000000",
          "2025-08-25T10:00:00.000000000",
          "2025-08-25T10:15:00.000000000",
          "2025-08-25T10:30:00.000000000",
          "2025-08-25T10:45:00.000000000",
          "2025-08-25T11:00:00.000000000",
          "2025-08-25T11:15:00.000000000",
          "2025-08-25T11:30:00.000000000",
          "2025-08-25T11:45:00.000000000",
          "2025-08-25T12:00:00.000000000",
          "2025-08-25T12:15:00.000000000",
          "2025-08-25T12:30:00.000000000",
          "2025-08-25T12:45:00.000000000",
          "2025-08-25T13:00:00.000000000",
          "2025-08-25T13:15:00.000000000",
          "2025-08-25T13:30:00.000000000",
          "2025-08-25T13:45:00.000000000",
          "2025-08-25T14:00:00.000000000",
          "2025-08-25T14:15:00.000000000",
          "2025-08-25T14:30:00.000000000",
          "2025-08-25T14:45:00.000000000",
          "2025-08-25T15:00:00.000000000",
          "2025-08-25T15:15:00.000000000",
          "2025-08-25T15:30:00.000000000",
          "2025-08-25T15:45:00.000000000",
          "2025-08-25T16:00:00.000000000",
          "2025-08-25T16:15:00.000000000",
          "2025-08-25T16:30:00.000000000",
          "2025-08-25T16:45:00.000000000",
          "2025-08-25T17:00:00.000000000",
          "2025-08-25T17:15:00.000000000",
          "2025-08-25T17:30:00.000000000",
          "2025-08-25T17:45:00.000000000",
          "2025-08-25T18:00:00.000000000",
          "2025-08-25T18:15:00.000000000",
          "2025-08-25T18:30:00.000000000",
          "2025-08-25T18:45:00.000000000",
          "2025-08-25T19:00:00.000000000",
          "2025-08-25T19:15:00.000000000",
          "2025-08-25T19:30:00.000000000",
          "2025-08-25T19:45:00.000000000",
          "2025-08-25T20:00:00.000000000",
          "2025-08-25T20:15:00.000000000",
          "2025-08-25T20:30:00.000000000",
          "2025-08-25T20:45:00.000000000",
          "2025-08-25T21:00:00.000000000",
          "2025-08-25T21:15:00.000000000",
          "2025-08-25T21:30:00.000000000",
          "2025-08-25T21:45:00.000000000",
          "2025-08-25T22:00:00.000000000",
          "2025-08-25T22:15:00.000000000",
          "2025-08-25T22:30:00.000000000",
          "2025-08-25T22:45:00.000000000",
          "2025-08-25T23:00:00.000000000",
          "2025-08-25T23:15:00.000000000",
          "2025-08-25T23:30:00.000000000",
          "2025-08-25T23:45:00.000000000",
          "2025-08-26T00:00:00.000000000",
          "2025-08-26T00:15:00.000000000",
          "2025-08-26T00:30:00.000000000",
          "2025-08-26T00:45:00.000000000",
          "2025-08-26T01:00:00.000000000",
          "2025-08-26T01:15:00.000000000",
          "2025-08-26T01:30:00.000000000",
          "2025-08-26T01:45:00.000000000",
          "2025-08-26T02:00:00.000000000",
          "2025-08-26T02:15:00.000000000",
          "2025-08-26T02:30:00.000000000",
          "2025-08-26T02:45:00.000000000",
          "2025-08-26T03:00:00.000000000",
          "2025-08-26T03:15:00.000000000",
          "2025-08-26T03:30:00.000000000",
          "2025-08-26T03:45:00.000000000",
          "2025-08-26T04:00:00.000000000",
          "2025-08-26T04:15:00.000000000",
          "2025-08-26T04:30:00.000000000",
          "2025-08-26T04:45:00.000000000",
          "2025-08-26T05:00:00.000000000",
          "2025-08-26T05:15:00.000000000",
          "2025-08-26T05:30:00.000000000",
          "2025-08-26T05:45:00.000000000",
          "2025-08-26T06:00:00.000000000",
          "2025-08-26T06:15:00.000000000",
          "2025-08-26T06:30:00.000000000",
          "2025-08-26T06:45:00.000000000",
          "2025-08-26T07:00:00.000000000",
          "2025-08-26T07:15:00.000000000",
          "2025-08-26T07:30:00.000000000",
          "2025-08-26T07:45:00.000000000",
          "2025-08-26T08:00:00.000000000",
          "2025-08-26T08:15:00.000000000",
          "2025-08-26T08:30:00.000000000",
          "2025-08-26T08:45:00.000000000",
          "2025-08-26T09:00:00.000000000",
          "2025-08-26T09:15:00.000000000",
          "2025-08-26T09:30:00.000000000",
          "2025-08-26T09:45:00.000000000",
          "2025-08-26T10:00:00.000000000",
          "2025-08-26T10:15:00.000000000",
          "2025-08-26T10:30:00.000000000",
          "2025-08-26T10:45:00.000000000",
          "2025-08-26T11:00:00.000000000",
          "2025-08-26T11:15:00.000000000",
          "2025-08-26T11:30:00.000000000",
          "2025-08-26T11:45:00.000000000",
          "2025-08-26T12:00:00.000000000",
          "2025-08-26T12:15:00.000000000",
          "2025-08-26T12:30:00.000000000",
          "2025-08-26T12:45:00.000000000",
          "2025-08-26T13:00:00.000000000",
          "2025-08-26T13:15:00.000000000",
          "2025-08-26T13:30:00.000000000",
          "2025-08-26T13:45:00.000000000",
          "2025-08-26T14:00:00.000000000",
          "2025-08-26T14:15:00.000000000",
          "2025-08-26T14:30:00.000000000",
          "2025-08-26T14:45:00.000000000",
          "2025-08-26T15:00:00.000000000",
          "2025-08-26T15:15:00.000000000",
          "2025-08-26T15:30:00.000000000",
          "2025-08-26T15:45:00.000000000",
          "2025-08-26T16:00:00.000000000",
          "2025-08-26T16:15:00.000000000",
          "2025-08-26T16:30:00.000000000",
          "2025-08-26T16:45:00.000000000",
          "2025-08-26T17:00:00.000000000",
          "2025-08-26T17:15:00.000000000",
          "2025-08-26T17:30:00.000000000",
          "2025-08-26T17:45:00.000000000",
          "2025-08-26T18:00:00.000000000",
          "2025-08-26T18:15:00.000000000",
          "2025-08-26T18:30:00.000000000",
          "2025-08-26T18:45:00.000000000",
          "2025-08-26T19:00:00.000000000",
          "2025-08-26T19:15:00.000000000",
          "2025-08-26T19:30:00.000000000",
          "2025-08-26T19:45:00.000000000",
          "2025-08-26T20:00:00.000000000",
          "2025-08-26T20:15:00.000000000",
          "2025-08-26T20:30:00.000000000",
          "2025-08-26T20:45:00.000000000",
          "2025-08-26T21:00:00.000000000",
          "2025-08-26T21:15:00.000000000",
          "2025-08-26T21:30:00.000000000",
          "2025-08-26T21:45:00.000000000",
          "2025-08-26T22:00:00.000000000",
          "2025-08-26T22:15:00.000000000",
          "2025-08-26T22:30:00.000000000",
          "2025-08-26T22:45:00.000000000",
          "2025-08-26T23:00:00.000000000",
          "2025-08-26T23:15:00.000000000",
          "2025-08-26T23:30:00.000000000",
          "2025-08-26T23:45:00.000000000",
          "2025-08-27T00:00:00.000000000",
          "2025-08-27T00:15:00.000000000",
          "2025-08-27T00:30:00.000000000",
          "2025-08-27T00:45:00.000000000",
          "2025-08-27T01:00:00.000000000",
          "2025-08-27T01:15:00.000000000",
          "2025-08-27T01:30:00.000000000",
          "2025-08-27T01:45:00.000000000",
          "2025-08-27T02:00:00.000000000",
          "2025-08-27T02:15:00.000000000",
          "2025-08-27T02:30:00.000000000",
          "2025-08-27T02:45:00.000000000",
          "2025-08-27T03:00:00.000000000",
          "2025-08-27T03:15:00.000000000",
          "2025-08-27T03:30:00.000000000",
          "2025-08-27T03:45:00.000000000",
          "2025-08-27T04:00:00.000000000",
          "2025-08-27T04:15:00.000000000",
          "2025-08-27T04:30:00.000000000",
          "2025-08-27T04:45:00.000000000",
          "2025-08-27T05:00:00.000000000",
          "2025-08-27T05:15:00.000000000",
          "2025-08-27T05:30:00.000000000",
          "2025-08-27T05:45:00.000000000",
          "2025-08-27T06:00:00.000000000",
          "2025-08-27T06:15:00.000000000",
          "2025-08-27T06:30:00.000000000",
          "2025-08-27T06:45:00.000000000",
          "2025-08-27T07:00:00.000000000",
          "2025-08-27T07:15:00.000000000",
          "2025-08-27T07:30:00.000000000",
          "2025-08-27T07:45:00.000000000",
          "2025-08-27T08:00:00.000000000",
          "2025-08-27T08:15:00.000000000",
          "2025-08-27T08:30:00.000000000",
          "2025-08-27T08:45:00.000000000",
          "2025-08-27T09:00:00.000000000",
          "2025-08-27T09:15:00.000000000",
          "2025-08-27T09:30:00.000000000",
          "2025-08-27T09:45:00.000000000",
          "2025-08-27T10:00:00.000000000",
          "2025-08-27T10:15:00.000000000",
          "2025-08-27T10:30:00.000000000",
          "2025-08-27T10:45:00.000000000",
          "2025-08-27T11:00:00.000000000",
          "2025-08-27T11:15:00.000000000",
          "2025-08-27T11:30:00.000000000",
          "2025-08-27T11:45:00.000000000",
          "2025-08-27T12:00:00.000000000",
          "2025-08-27T12:15:00.000000000",
          "2025-08-27T12:30:00.000000000",
          "2025-08-27T12:45:00.000000000",
          "2025-08-27T13:00:00.000000000",
          "2025-08-27T13:15:00.000000000",
          "2025-08-27T13:30:00.000000000",
          "2025-08-27T13:45:00.000000000",
          "2025-08-27T14:00:00.000000000",
          "2025-08-27T14:15:00.000000000",
          "2025-08-27T14:30:00.000000000",
          "2025-08-27T14:45:00.000000000",
          "2025-08-27T15:00:00.000000000",
          "2025-08-27T15:15:00.000000000",
          "2025-08-27T15:30:00.000000000",
          "2025-08-27T15:45:00.000000000",
          "2025-08-27T16:00:00.000000000",
          "2025-08-27T16:15:00.000000000",
          "2025-08-27T16:30:00.000000000",
          "2025-08-27T16:45:00.000000000",
          "2025-08-27T17:00:00.000000000",
          "2025-08-27T17:15:00.000000000",
          "2025-08-27T17:30:00.000000000",
          "2025-08-27T17:45:00.000000000",
          "2025-08-27T18:00:00.000000000",
          "2025-08-27T18:15:00.000000000",
          "2025-08-27T18:30:00.000000000",
          "2025-08-27T18:45:00.000000000",
          "2025-08-27T19:00:00.000000000",
          "2025-08-27T19:15:00.000000000",
          "2025-08-27T19:30:00.000000000",
          "2025-08-27T19:45:00.000000000",
          "2025-08-27T20:00:00.000000000",
          "2025-08-27T20:15:00.000000000",
          "2025-08-27T20:30:00.000000000",
          "2025-08-27T20:45:00.000000000",
          "2025-08-27T21:00:00.000000000",
          "2025-08-27T21:15:00.000000000",
          "2025-08-27T21:30:00.000000000",
          "2025-08-27T21:45:00.000000000",
          "2025-08-27T22:00:00.000000000",
          "2025-08-27T22:15:00.000000000",
          "2025-08-27T22:30:00.000000000",
          "2025-08-27T22:45:00.000000000",
          "2025-08-27T23:00:00.000000000",
          "2025-08-27T23:15:00.000000000",
          "2025-08-27T23:30:00.000000000",
          "2025-08-27T23:45:00.000000000",
          "2025-08-28T00:00:00.000000000",
          "2025-08-28T00:15:00.000000000",
          "2025-08-28T00:30:00.000000000",
          "2025-08-28T00:45:00.000000000",
          "2025-08-28T01:00:00.000000000",
          "2025-08-28T01:15:00.000000000",
          "2025-08-28T01:30:00.000000000",
          "2025-08-28T01:45:00.000000000",
          "2025-08-28T02:00:00.000000000",
          "2025-08-28T02:15:00.000000000",
          "2025-08-28T02:30:00.000000000",
          "2025-08-28T02:45:00.000000000",
          "2025-08-28T03:00:00.000000000",
          "2025-08-28T03:15:00.000000000",
          "2025-08-28T03:30:00.000000000",
          "2025-08-28T03:45:00.000000000",
          "2025-08-28T04:00:00.000000000",
          "2025-08-28T04:15:00.000000000",
          "2025-08-28T04:30:00.000000000",
          "2025-08-28T04:45:00.000000000",
          "2025-08-28T05:00:00.000000000",
          "2025-08-28T05:15:00.000000000",
          "2025-08-28T05:30:00.000000000",
          "2025-08-28T05:45:00.000000000",
          "2025-08-28T06:00:00.000000000",
          "2025-08-28T06:15:00.000000000",
          "2025-08-28T06:30:00.000000000",
          "2025-08-28T06:45:00.000000000",
          "2025-08-28T07:00:00.000000000",
          "2025-08-28T07:15:00.000000000",
          "2025-08-28T07:30:00.000000000",
          "2025-08-28T07:45:00.000000000",
          "2025-08-28T08:00:00.000000000",
          "2025-08-28T08:15:00.000000000",
          "2025-08-28T08:30:00.000000000",
          "2025-08-28T08:45:00.000000000",
          "2025-08-28T09:00:00.000000000",
          "2025-08-28T09:15:00.000000000",
          "2025-08-28T09:30:00.000000000",
          "2025-08-28T09:45:00.000000000",
          "2025-08-28T10:00:00.000000000",
          "2025-08-28T10:15:00.000000000",
          "2025-08-28T10:30:00.000000000",
          "2025-08-28T10:45:00.000000000",
          "2025-08-28T11:00:00.000000000",
          "2025-08-28T11:15:00.000000000",
          "2025-08-28T11:30:00.000000000",
          "2025-08-28T11:45:00.000000000",
          "2025-08-28T12:00:00.000000000",
          "2025-08-28T12:15:00.000000000",
          "2025-08-28T12:30:00.000000000",
          "2025-08-28T12:45:00.000000000",
          "2025-08-28T13:00:00.000000000",
          "2025-08-28T13:15:00.000000000",
          "2025-08-28T13:30:00.000000000",
          "2025-08-28T13:45:00.000000000",
          "2025-08-28T14:00:00.000000000",
          "2025-08-28T14:15:00.000000000",
          "2025-08-28T14:30:00.000000000",
          "2025-08-28T14:45:00.000000000",
          "2025-08-28T15:00:00.000000000",
          "2025-08-28T15:15:00.000000000",
          "2025-08-28T15:30:00.000000000",
          "2025-08-28T15:45:00.000000000",
          "2025-08-28T16:00:00.000000000",
          "2025-08-28T16:15:00.000000000",
          "2025-08-28T16:30:00.000000000",
          "2025-08-28T16:45:00.000000000",
          "2025-08-28T17:00:00.000000000",
          "2025-08-28T17:15:00.000000000",
          "2025-08-28T17:30:00.000000000",
          "2025-08-28T17:45:00.000000000",
          "2025-08-28T18:00:00.000000000",
          "2025-08-28T18:15:00.000000000",
          "2025-08-28T18:30:00.000000000",
          "2025-08-28T18:45:00.000000000",
          "2025-08-28T19:00:00.000000000",
          "2025-08-28T19:15:00.000000000",
          "2025-08-28T19:30:00.000000000",
          "2025-08-28T19:45:00.000000000",
          "2025-08-28T20:00:00.000000000",
          "2025-08-28T20:15:00.000000000",
          "2025-08-28T20:30:00.000000000",
          "2025-08-28T20:45:00.000000000",
          "2025-08-28T21:00:00.000000000",
          "2025-08-28T21:15:00.000000000",
          "2025-08-28T21:30:00.000000000",
          "2025-08-28T21:45:00.000000000",
          "2025-08-28T22:00:00.000000000",
          "2025-08-28T22:15:00.000000000",
          "2025-08-28T22:30:00.000000000",
          "2025-08-28T22:45:00.000000000",
          "2025-08-28T23:00:00.000000000",
          "2025-08-28T23:15:00.000000000",
          "2025-08-28T23:30:00.000000000",
          "2025-08-28T23:45:00.000000000",
          "2025-08-29T00:00:00.000000000",
          "2025-08-29T00:15:00.000000000",
          "2025-08-29T00:30:00.000000000",
          "2025-08-29T00:45:00.000000000",
          "2025-08-29T01:00:00.000000000",
          "2025-08-29T01:15:00.000000000",
          "2025-08-29T01:30:00.000000000",
          "2025-08-29T01:45:00.000000000",
          "2025-08-29T02:00:00.000000000",
          "2025-08-29T02:15:00.000000000",
          "2025-08-29T02:30:00.000000000",
          "2025-08-29T02:45:00.000000000",
          "2025-08-29T03:00:00.000000000",
          "2025-08-29T03:15:00.000000000",
          "2025-08-29T03:30:00.000000000",
          "2025-08-29T03:45:00.000000000",
          "2025-08-29T04:00:00.000000000",
          "2025-08-29T04:15:00.000000000",
          "2025-08-29T04:30:00.000000000",
          "2025-08-29T04:45:00.000000000",
          "2025-08-29T05:00:00.000000000",
          "2025-08-29T05:15:00.000000000",
          "2025-08-29T05:30:00.000000000",
          "2025-08-29T05:45:00.000000000",
          "2025-08-29T06:00:00.000000000",
          "2025-08-29T06:15:00.000000000",
          "2025-08-29T06:30:00.000000000",
          "2025-08-29T06:45:00.000000000",
          "2025-08-29T07:00:00.000000000",
          "2025-08-29T07:15:00.000000000",
          "2025-08-29T07:30:00.000000000",
          "2025-08-29T07:45:00.000000000",
          "2025-08-29T08:00:00.000000000",
          "2025-08-29T08:15:00.000000000",
          "2025-08-29T08:30:00.000000000",
          "2025-08-29T08:45:00.000000000",
          "2025-08-29T09:00:00.000000000",
          "2025-08-29T09:15:00.000000000",
          "2025-08-29T09:30:00.000000000",
          "2025-08-29T09:45:00.000000000",
          "2025-08-29T10:00:00.000000000",
          "2025-08-29T10:15:00.000000000",
          "2025-08-29T10:30:00.000000000",
          "2025-08-29T10:45:00.000000000",
          "2025-08-29T11:00:00.000000000",
          "2025-08-29T11:15:00.000000000",
          "2025-08-29T11:30:00.000000000",
          "2025-08-29T11:45:00.000000000",
          "2025-08-29T12:00:00.000000000",
          "2025-08-29T12:15:00.000000000",
          "2025-08-29T12:30:00.000000000",
          "2025-08-29T12:45:00.000000000",
          "2025-08-29T13:00:00.000000000",
          "2025-08-29T13:15:00.000000000",
          "2025-08-29T13:30:00.000000000",
          "2025-08-29T13:45:00.000000000",
          "2025-08-29T14:00:00.000000000",
          "2025-08-29T14:15:00.000000000",
          "2025-08-29T14:30:00.000000000",
          "2025-08-29T14:45:00.000000000",
          "2025-08-29T15:00:00.000000000",
          "2025-08-29T15:15:00.000000000",
          "2025-08-29T15:30:00.000000000",
          "2025-08-29T15:45:00.000000000",
          "2025-08-29T16:00:00.000000000",
          "2025-08-29T16:15:00.000000000",
          "2025-08-29T16:30:00.000000000",
          "2025-08-29T16:45:00.000000000",
          "2025-08-29T17:00:00.000000000",
          "2025-08-29T17:15:00.000000000",
          "2025-08-29T17:30:00.000000000",
          "2025-08-29T17:45:00.000000000",
          "2025-08-29T18:00:00.000000000",
          "2025-08-29T18:15:00.000000000",
          "2025-08-29T18:30:00.000000000",
          "2025-08-29T18:45:00.000000000",
          "2025-08-29T19:00:00.000000000",
          "2025-08-29T19:15:00.000000000",
          "2025-08-29T19:30:00.000000000",
          "2025-08-29T19:45:00.000000000",
          "2025-08-29T20:00:00.000000000",
          "2025-08-29T20:15:00.000000000",
          "2025-08-29T20:30:00.000000000",
          "2025-08-29T20:45:00.000000000",
          "2025-08-29T21:00:00.000000000",
          "2025-08-29T21:15:00.000000000",
          "2025-08-29T21:30:00.000000000",
          "2025-08-29T21:45:00.000000000",
          "2025-08-29T22:00:00.000000000",
          "2025-08-29T22:15:00.000000000",
          "2025-08-29T22:30:00.000000000",
          "2025-08-29T22:45:00.000000000",
          "2025-08-29T23:00:00.000000000",
          "2025-08-29T23:15:00.000000000",
          "2025-08-29T23:30:00.000000000",
          "2025-08-29T23:45:00.000000000",
          "2025-08-30T00:00:00.000000000",
          "2025-08-30T00:15:00.000000000",
          "2025-08-30T00:30:00.000000000",
          "2025-08-30T00:45:00.000000000",
          "2025-08-30T01:00:00.000000000",
          "2025-08-30T01:15:00.000000000",
          "2025-08-30T01:30:00.000000000",
          "2025-08-30T01:45:00.000000000",
          "2025-08-30T02:00:00.000000000",
          "2025-08-30T02:15:00.000000000",
          "2025-08-30T02:30:00.000000000",
          "2025-08-30T02:45:00.000000000",
          "2025-08-30T03:00:00.000000000",
          "2025-08-30T03:15:00.000000000",
          "2025-08-30T03:30:00.000000000",
          "2025-08-30T03:45:00.000000000",
          "2025-08-30T04:00:00.000000000",
          "2025-08-30T04:15:00.000000000",
          "2025-08-30T04:30:00.000000000",
          "2025-08-30T04:45:00.000000000",
          "2025-08-30T05:00:00.000000000",
          "2025-08-30T05:15:00.000000000",
          "2025-08-30T05:30:00.000000000",
          "2025-08-30T05:45:00.000000000",
          "2025-08-30T06:00:00.000000000",
          "2025-08-30T06:15:00.000000000",
          "2025-08-30T06:30:00.000000000",
          "2025-08-30T06:45:00.000000000",
          "2025-08-30T07:00:00.000000000",
          "2025-08-30T07:15:00.000000000",
          "2025-08-30T07:30:00.000000000",
          "2025-08-30T07:45:00.000000000",
          "2025-08-30T08:00:00.000000000",
          "2025-08-30T08:15:00.000000000",
          "2025-08-30T08:30:00.000000000",
          "2025-08-30T08:45:00.000000000",
          "2025-08-30T09:00:00.000000000",
          "2025-08-30T09:15:00.000000000",
          "2025-08-30T09:30:00.000000000",
          "2025-08-30T09:45:00.000000000",
          "2025-08-30T10:00:00.000000000",
          "2025-08-30T10:15:00.000000000",
          "2025-08-30T10:30:00.000000000",
          "2025-08-30T10:45:00.000000000",
          "2025-08-30T11:00:00.000000000",
          "2025-08-30T11:15:00.000000000",
          "2025-08-30T11:30:00.000000000",
          "2025-08-30T11:45:00.000000000",
          "2025-08-30T12:00:00.000000000",
          "2025-08-30T12:15:00.000000000",
          "2025-08-30T12:30:00.000000000",
          "2025-08-30T12:45:00.000000000",
          "2025-08-30T13:00:00.000000000",
          "2025-08-30T13:15:00.000000000",
          "2025-08-30T13:30:00.000000000",
          "2025-08-30T13:45:00.000000000",
          "2025-08-30T14:00:00.000000000",
          "2025-08-30T14:15:00.000000000",
          "2025-08-30T14:30:00.000000000",
          "2025-08-30T14:45:00.000000000",
          "2025-08-30T15:00:00.000000000",
          "2025-08-30T15:15:00.000000000",
          "2025-08-30T15:30:00.000000000",
          "2025-08-30T15:45:00.000000000",
          "2025-08-30T16:00:00.000000000",
          "2025-08-30T16:15:00.000000000",
          "2025-08-30T16:30:00.000000000",
          "2025-08-30T16:45:00.000000000",
          "2025-08-30T17:00:00.000000000",
          "2025-08-30T17:15:00.000000000",
          "2025-08-30T17:30:00.000000000",
          "2025-08-30T17:45:00.000000000"
         ],
         "xaxis": "x",
         "y": {
          "bdata": "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",
          "dtype": "f8"
         },
         "yaxis": "y"
        },
        {
         "hovertemplate": "Metric=rolling_std<br>timestamp=%{x}<br>mg/dL=%{y}<extra></extra>",
         "legendgroup": "rolling_std",
         "line": {
          "color": "#EF553B",
          "dash": "solid"
         },
         "marker": {
          "symbol": "circle"
         },
         "mode": "lines",
         "name": "rolling_std",
         "showlegend": true,
         "type": "scattergl",
         "x": [
          "2025-08-16T13:15:00.000000000",
          "2025-08-16T13:30:00.000000000",
          "2025-08-16T13:45:00.000000000",
          "2025-08-16T14:00:00.000000000",
          "2025-08-16T14:15:00.000000000",
          "2025-08-16T14:30:00.000000000",
          "2025-08-16T14:45:00.000000000",
          "2025-08-16T15:00:00.000000000",
          "2025-08-16T15:15:00.000000000",
          "2025-08-16T15:30:00.000000000",
          "2025-08-16T15:45:00.000000000",
          "2025-08-16T16:00:00.000000000",
          "2025-08-16T16:15:00.000000000",
          "2025-08-16T16:30:00.000000000",
          "2025-08-16T16:45:00.000000000",
          "2025-08-16T17:00:00.000000000",
          "2025-08-16T17:15:00.000000000",
          "2025-08-16T17:30:00.000000000",
          "2025-08-16T17:45:00.000000000",
          "2025-08-16T18:00:00.000000000",
          "2025-08-16T18:15:00.000000000",
          "2025-08-16T18:30:00.000000000",
          "2025-08-16T18:45:00.000000000",
          "2025-08-16T19:00:00.000000000",
          "2025-08-16T19:15:00.000000000",
          "2025-08-16T19:30:00.000000000",
          "2025-08-16T19:45:00.000000000",
          "2025-08-16T20:00:00.000000000",
          "2025-08-16T20:15:00.000000000",
          "2025-08-16T20:30:00.000000000",
          "2025-08-16T20:45:00.000000000",
          "2025-08-16T21:00:00.000000000",
          "2025-08-16T21:15:00.000000000",
          "2025-08-16T21:30:00.000000000",
          "2025-08-16T21:45:00.000000000",
          "2025-08-16T22:00:00.000000000",
          "2025-08-16T22:15:00.000000000",
          "2025-08-16T22:30:00.000000000",
          "2025-08-16T22:45:00.000000000",
          "2025-08-16T23:00:00.000000000",
          "2025-08-16T23:15:00.000000000",
          "2025-08-16T23:30:00.000000000",
          "2025-08-16T23:45:00.000000000",
          "2025-08-17T00:00:00.000000000",
          "2025-08-17T00:15:00.000000000",
          "2025-08-17T00:30:00.000000000",
          "2025-08-17T00:45:00.000000000",
          "2025-08-17T01:00:00.000000000",
          "2025-08-17T01:15:00.000000000",
          "2025-08-17T01:30:00.000000000",
          "2025-08-17T01:45:00.000000000",
          "2025-08-17T02:00:00.000000000",
          "2025-08-17T02:15:00.000000000",
          "2025-08-17T02:30:00.000000000",
          "2025-08-17T02:45:00.000000000",
          "2025-08-17T03:00:00.000000000",
          "2025-08-17T03:15:00.000000000",
          "2025-08-17T03:30:00.000000000",
          "2025-08-17T03:45:00.000000000",
          "2025-08-17T04:00:00.000000000",
          "2025-08-17T04:15:00.000000000",
          "2025-08-17T04:30:00.000000000",
          "2025-08-17T04:45:00.000000000",
          "2025-08-17T05:00:00.000000000",
          "2025-08-17T05:15:00.000000000",
          "2025-08-17T05:30:00.000000000",
          "2025-08-17T05:45:00.000000000",
          "2025-08-17T06:00:00.000000000",
          "2025-08-17T06:15:00.000000000",
          "2025-08-17T06:30:00.000000000",
          "2025-08-17T06:45:00.000000000",
          "2025-08-17T07:00:00.000000000",
          "2025-08-17T07:15:00.000000000",
          "2025-08-17T07:30:00.000000000",
          "2025-08-17T07:45:00.000000000",
          "2025-08-17T08:00:00.000000000",
          "2025-08-17T08:15:00.000000000",
          "2025-08-17T08:30:00.000000000",
          "2025-08-17T08:45:00.000000000",
          "2025-08-17T09:00:00.000000000",
          "2025-08-17T09:15:00.000000000",
          "2025-08-17T09:30:00.000000000",
          "2025-08-17T09:45:00.000000000",
          "2025-08-17T10:00:00.000000000",
          "2025-08-17T10:15:00.000000000",
          "2025-08-17T10:30:00.000000000",
          "2025-08-17T10:45:00.000000000",
          "2025-08-17T11:00:00.000000000",
          "2025-08-17T11:15:00.000000000",
          "2025-08-17T11:30:00.000000000",
          "2025-08-17T11:45:00.000000000",
          "2025-08-17T12:00:00.000000000",
          "2025-08-17T12:15:00.000000000",
          "2025-08-17T12:30:00.000000000",
          "2025-08-17T12:45:00.000000000",
          "2025-08-17T13:00:00.000000000",
          "2025-08-17T13:15:00.000000000",
          "2025-08-17T13:30:00.000000000",
          "2025-08-17T13:45:00.000000000",
          "2025-08-17T14:00:00.000000000",
          "2025-08-17T14:15:00.000000000",
          "2025-08-17T14:30:00.000000000",
          "2025-08-17T14:45:00.000000000",
          "2025-08-17T15:00:00.000000000",
          "2025-08-17T15:15:00.000000000",
          "2025-08-17T15:30:00.000000000",
          "2025-08-17T15:45:00.000000000",
          "2025-08-17T16:00:00.000000000",
          "2025-08-17T16:15:00.000000000",
          "2025-08-17T16:30:00.000000000",
          "2025-08-17T16:45:00.000000000",
          "2025-08-17T17:00:00.000000000",
          "2025-08-17T17:15:00.000000000",
          "2025-08-17T17:30:00.000000000",
          "2025-08-17T17:45:00.000000000",
          "2025-08-17T18:00:00.000000000",
          "2025-08-17T18:15:00.000000000",
          "2025-08-17T18:30:00.000000000",
          "2025-08-17T18:45:00.000000000",
          "2025-08-17T19:00:00.000000000",
          "2025-08-17T19:15:00.000000000",
          "2025-08-17T19:30:00.000000000",
          "2025-08-17T19:45:00.000000000",
          "2025-08-17T20:00:00.000000000",
          "2025-08-17T20:15:00.000000000",
          "2025-08-17T20:30:00.000000000",
          "2025-08-17T20:45:00.000000000",
          "2025-08-17T21:00:00.000000000",
          "2025-08-17T21:15:00.000000000",
          "2025-08-17T21:30:00.000000000",
          "2025-08-17T21:45:00.000000000",
          "2025-08-17T22:00:00.000000000",
          "2025-08-17T22:15:00.000000000",
          "2025-08-17T22:30:00.000000000",
          "2025-08-17T22:45:00.000000000",
          "2025-08-17T23:00:00.000000000",
          "2025-08-17T23:15:00.000000000",
          "2025-08-17T23:30:00.000000000",
          "2025-08-17T23:45:00.000000000",
          "2025-08-18T00:00:00.000000000",
          "2025-08-18T00:15:00.000000000",
          "2025-08-18T00:30:00.000000000",
          "2025-08-18T00:45:00.000000000",
          "2025-08-18T01:00:00.000000000",
          "2025-08-18T01:15:00.000000000",
          "2025-08-18T01:30:00.000000000",
          "2025-08-18T01:45:00.000000000",
          "2025-08-18T02:00:00.000000000",
          "2025-08-18T02:15:00.000000000",
          "2025-08-18T02:30:00.000000000",
          "2025-08-18T02:45:00.000000000",
          "2025-08-18T03:00:00.000000000",
          "2025-08-18T03:15:00.000000000",
          "2025-08-18T03:30:00.000000000",
          "2025-08-18T03:45:00.000000000",
          "2025-08-18T04:00:00.000000000",
          "2025-08-18T04:15:00.000000000",
          "2025-08-18T04:30:00.000000000",
          "2025-08-18T04:45:00.000000000",
          "2025-08-18T05:00:00.000000000",
          "2025-08-18T05:15:00.000000000",
          "2025-08-18T05:30:00.000000000",
          "2025-08-18T05:45:00.000000000",
          "2025-08-18T06:00:00.000000000",
          "2025-08-18T06:15:00.000000000",
          "2025-08-18T06:30:00.000000000",
          "2025-08-18T06:45:00.000000000",
          "2025-08-18T07:00:00.000000000",
          "2025-08-18T07:15:00.000000000",
          "2025-08-18T07:30:00.000000000",
          "2025-08-18T07:45:00.000000000",
          "2025-08-18T08:00:00.000000000",
          "2025-08-18T08:15:00.000000000",
          "2025-08-18T08:30:00.000000000",
          "2025-08-18T08:45:00.000000000",
          "2025-08-18T09:00:00.000000000",
          "2025-08-18T09:15:00.000000000",
          "2025-08-18T09:30:00.000000000",
          "2025-08-18T09:45:00.000000000",
          "2025-08-18T10:00:00.000000000",
          "2025-08-18T10:15:00.000000000",
          "2025-08-18T10:30:00.000000000",
          "2025-08-18T10:45:00.000000000",
          "2025-08-18T11:00:00.000000000",
          "2025-08-18T11:15:00.000000000",
          "2025-08-18T11:30:00.000000000",
          "2025-08-18T11:45:00.000000000",
          "2025-08-18T12:00:00.000000000",
          "2025-08-18T12:15:00.000000000",
          "2025-08-18T12:30:00.000000000",
          "2025-08-18T12:45:00.000000000",
          "2025-08-18T13:00:00.000000000",
          "2025-08-18T13:15:00.000000000",
          "2025-08-18T13:30:00.000000000",
          "2025-08-18T13:45:00.000000000",
          "2025-08-18T14:00:00.000000000",
          "2025-08-18T14:15:00.000000000",
          "2025-08-18T14:30:00.000000000",
          "2025-08-18T14:45:00.000000000",
          "2025-08-18T15:00:00.000000000",
          "2025-08-18T15:15:00.000000000",
          "2025-08-18T15:30:00.000000000",
          "2025-08-18T15:45:00.000000000",
          "2025-08-18T16:00:00.000000000",
          "2025-08-18T16:15:00.000000000",
          "2025-08-18T16:30:00.000000000",
          "2025-08-18T16:45:00.000000000",
          "2025-08-18T17:00:00.000000000",
          "2025-08-18T17:15:00.000000000",
          "2025-08-18T17:30:00.000000000",
          "2025-08-18T17:45:00.000000000",
          "2025-08-18T18:00:00.000000000",
          "2025-08-18T18:15:00.000000000",
          "2025-08-18T18:30:00.000000000",
          "2025-08-18T18:45:00.000000000",
          "2025-08-18T19:00:00.000000000",
          "2025-08-18T19:15:00.000000000",
          "2025-08-18T19:30:00.000000000",
          "2025-08-18T19:45:00.000000000",
          "2025-08-18T20:00:00.000000000",
          "2025-08-18T20:15:00.000000000",
          "2025-08-18T20:30:00.000000000",
          "2025-08-18T20:45:00.000000000",
          "2025-08-18T21:00:00.000000000",
          "2025-08-18T21:15:00.000000000",
          "2025-08-18T21:30:00.000000000",
          "2025-08-18T21:45:00.000000000",
          "2025-08-18T22:00:00.000000000",
          "2025-08-18T22:15:00.000000000",
          "2025-08-18T22:30:00.000000000",
          "2025-08-18T22:45:00.000000000",
          "2025-08-18T23:00:00.000000000",
          "2025-08-18T23:15:00.000000000",
          "2025-08-18T23:30:00.000000000",
          "2025-08-18T23:45:00.000000000",
          "2025-08-19T00:00:00.000000000",
          "2025-08-19T00:15:00.000000000",
          "2025-08-19T00:30:00.000000000",
          "2025-08-19T00:45:00.000000000",
          "2025-08-19T01:00:00.000000000",
          "2025-08-19T01:15:00.000000000",
          "2025-08-19T01:30:00.000000000",
          "2025-08-19T01:45:00.000000000",
          "2025-08-19T02:00:00.000000000",
          "2025-08-19T02:15:00.000000000",
          "2025-08-19T02:30:00.000000000",
          "2025-08-19T02:45:00.000000000",
          "2025-08-19T03:00:00.000000000",
          "2025-08-19T03:15:00.000000000",
          "2025-08-19T03:30:00.000000000",
          "2025-08-19T03:45:00.000000000",
          "2025-08-19T04:00:00.000000000",
          "2025-08-19T04:15:00.000000000",
          "2025-08-19T04:30:00.000000000",
          "2025-08-19T04:45:00.000000000",
          "2025-08-19T05:00:00.000000000",
          "2025-08-19T05:15:00.000000000",
          "2025-08-19T05:30:00.000000000",
          "2025-08-19T05:45:00.000000000",
          "2025-08-19T06:00:00.000000000",
          "2025-08-19T06:15:00.000000000",
          "2025-08-19T06:30:00.000000000",
          "2025-08-19T06:45:00.000000000",
          "2025-08-19T07:00:00.000000000",
          "2025-08-19T07:15:00.000000000",
          "2025-08-19T07:30:00.000000000",
          "2025-08-19T07:45:00.000000000",
          "2025-08-19T08:00:00.000000000",
          "2025-08-19T08:15:00.000000000",
          "2025-08-19T08:30:00.000000000",
          "2025-08-19T08:45:00.000000000",
          "2025-08-19T09:00:00.000000000",
          "2025-08-19T09:15:00.000000000",
          "2025-08-19T09:30:00.000000000",
          "2025-08-19T09:45:00.000000000",
          "2025-08-19T10:00:00.000000000",
          "2025-08-19T10:15:00.000000000",
          "2025-08-19T10:30:00.000000000",
          "2025-08-19T10:45:00.000000000",
          "2025-08-19T11:00:00.000000000",
          "2025-08-19T11:15:00.000000000",
          "2025-08-19T11:30:00.000000000",
          "2025-08-19T11:45:00.000000000",
          "2025-08-19T12:00:00.000000000",
          "2025-08-19T12:15:00.000000000",
          "2025-08-19T12:30:00.000000000",
          "2025-08-19T12:45:00.000000000",
          "2025-08-19T13:00:00.000000000",
          "2025-08-19T13:15:00.000000000",
          "2025-08-19T13:30:00.000000000",
          "2025-08-19T13:45:00.000000000",
          "2025-08-19T14:00:00.000000000",
          "2025-08-19T14:15:00.000000000",
          "2025-08-19T14:30:00.000000000",
          "2025-08-19T14:45:00.000000000",
          "2025-08-19T15:00:00.000000000",
          "2025-08-19T15:15:00.000000000",
          "2025-08-19T15:30:00.000000000",
          "2025-08-19T15:45:00.000000000",
          "2025-08-19T16:00:00.000000000",
          "2025-08-19T16:15:00.000000000",
          "2025-08-19T16:30:00.000000000",
          "2025-08-19T16:45:00.000000000",
          "2025-08-19T17:00:00.000000000",
          "2025-08-19T17:15:00.000000000",
          "2025-08-19T17:30:00.000000000",
          "2025-08-19T17:45:00.000000000",
          "2025-08-19T18:00:00.000000000",
          "2025-08-19T18:15:00.000000000",
          "2025-08-19T18:30:00.000000000",
          "2025-08-19T18:45:00.000000000",
          "2025-08-19T19:00:00.000000000",
          "2025-08-19T19:15:00.000000000",
          "2025-08-19T19:30:00.000000000",
          "2025-08-19T19:45:00.000000000",
          "2025-08-19T20:00:00.000000000",
          "2025-08-19T20:15:00.000000000",
          "2025-08-19T20:30:00.000000000",
          "2025-08-19T20:45:00.000000000",
          "2025-08-19T21:00:00.000000000",
          "2025-08-19T21:15:00.000000000",
          "2025-08-19T21:30:00.000000000",
          "2025-08-19T21:45:00.000000000",
          "2025-08-19T22:00:00.000000000",
          "2025-08-19T22:15:00.000000000",
          "2025-08-19T22:30:00.000000000",
          "2025-08-19T22:45:00.000000000",
          "2025-08-19T23:00:00.000000000",
          "2025-08-19T23:15:00.000000000",
          "2025-08-19T23:30:00.000000000",
          "2025-08-19T23:45:00.000000000",
          "2025-08-20T00:00:00.000000000",
          "2025-08-20T00:15:00.000000000",
          "2025-08-20T00:30:00.000000000",
          "2025-08-20T00:45:00.000000000",
          "2025-08-20T01:00:00.000000000",
          "2025-08-20T01:15:00.000000000",
          "2025-08-20T01:30:00.000000000",
          "2025-08-20T01:45:00.000000000",
          "2025-08-20T02:00:00.000000000",
          "2025-08-20T02:15:00.000000000",
          "2025-08-20T02:30:00.000000000",
          "2025-08-20T02:45:00.000000000",
          "2025-08-20T03:00:00.000000000",
          "2025-08-20T03:15:00.000000000",
          "2025-08-20T03:30:00.000000000",
          "2025-08-20T03:45:00.000000000",
          "2025-08-20T04:00:00.000000000",
          "2025-08-20T04:15:00.000000000",
          "2025-08-20T04:30:00.000000000",
          "2025-08-20T04:45:00.000000000",
          "2025-08-20T05:00:00.000000000",
          "2025-08-20T05:15:00.000000000",
          "2025-08-20T05:30:00.000000000",
          "2025-08-20T05:45:00.000000000",
          "2025-08-20T06:00:00.000000000",
          "2025-08-20T06:15:00.000000000",
          "2025-08-20T06:30:00.000000000",
          "2025-08-20T06:45:00.000000000",
          "2025-08-20T07:00:00.000000000",
          "2025-08-20T07:15:00.000000000",
          "2025-08-20T07:30:00.000000000",
          "2025-08-20T07:45:00.000000000",
          "2025-08-20T08:00:00.000000000",
          "2025-08-20T08:15:00.000000000",
          "2025-08-20T08:30:00.000000000",
          "2025-08-20T08:45:00.000000000",
          "2025-08-20T09:00:00.000000000",
          "2025-08-20T09:15:00.000000000",
          "2025-08-20T09:30:00.000000000",
          "2025-08-20T09:45:00.000000000",
          "2025-08-20T10:00:00.000000000",
          "2025-08-20T10:15:00.000000000",
          "2025-08-20T10:30:00.000000000",
          "2025-08-20T10:45:00.000000000",
          "2025-08-20T11:00:00.000000000",
          "2025-08-20T11:15:00.000000000",
          "2025-08-20T11:30:00.000000000",
          "2025-08-20T11:45:00.000000000",
          "2025-08-20T12:00:00.000000000",
          "2025-08-20T12:15:00.000000000",
          "2025-08-20T12:30:00.000000000",
          "2025-08-20T12:45:00.000000000",
          "2025-08-20T13:00:00.000000000",
          "2025-08-20T13:15:00.000000000",
          "2025-08-20T13:30:00.000000000",
          "2025-08-20T13:45:00.000000000",
          "2025-08-20T14:00:00.000000000",
          "2025-08-20T14:15:00.000000000",
          "2025-08-20T14:30:00.000000000",
          "2025-08-20T14:45:00.000000000",
          "2025-08-20T15:00:00.000000000",
          "2025-08-20T15:15:00.000000000",
          "2025-08-20T15:30:00.000000000",
          "2025-08-20T15:45:00.000000000",
          "2025-08-20T16:00:00.000000000",
          "2025-08-20T16:15:00.000000000",
          "2025-08-20T16:30:00.000000000",
          "2025-08-20T16:45:00.000000000",
          "2025-08-20T17:00:00.000000000",
          "2025-08-20T17:15:00.000000000",
          "2025-08-20T17:30:00.000000000",
          "2025-08-20T17:45:00.000000000",
          "2025-08-20T18:00:00.000000000",
          "2025-08-20T18:15:00.000000000",
          "2025-08-20T18:30:00.000000000",
          "2025-08-20T18:45:00.000000000",
          "2025-08-20T19:00:00.000000000",
          "2025-08-20T19:15:00.000000000",
          "2025-08-20T19:30:00.000000000",
          "2025-08-20T19:45:00.000000000",
          "2025-08-20T20:00:00.000000000",
          "2025-08-20T20:15:00.000000000",
          "2025-08-20T20:30:00.000000000",
          "2025-08-20T20:45:00.000000000",
          "2025-08-20T21:00:00.000000000",
          "2025-08-20T21:15:00.000000000",
          "2025-08-20T21:30:00.000000000",
          "2025-08-20T21:45:00.000000000",
          "2025-08-20T22:00:00.000000000",
          "2025-08-20T22:15:00.000000000",
          "2025-08-20T22:30:00.000000000",
          "2025-08-20T22:45:00.000000000",
          "2025-08-20T23:00:00.000000000",
          "2025-08-20T23:15:00.000000000",
          "2025-08-20T23:30:00.000000000",
          "2025-08-20T23:45:00.000000000",
          "2025-08-21T00:00:00.000000000",
          "2025-08-21T00:15:00.000000000",
          "2025-08-21T00:30:00.000000000",
          "2025-08-21T00:45:00.000000000",
          "2025-08-21T01:00:00.000000000",
          "2025-08-21T01:15:00.000000000",
          "2025-08-21T01:30:00.000000000",
          "2025-08-21T01:45:00.000000000",
          "2025-08-21T02:00:00.000000000",
          "2025-08-21T02:15:00.000000000",
          "2025-08-21T02:30:00.000000000",
          "2025-08-21T02:45:00.000000000",
          "2025-08-21T03:00:00.000000000",
          "2025-08-21T03:15:00.000000000",
          "2025-08-21T03:30:00.000000000",
          "2025-08-21T03:45:00.000000000",
          "2025-08-21T04:00:00.000000000",
          "2025-08-21T04:15:00.000000000",
          "2025-08-21T04:30:00.000000000",
          "2025-08-21T04:45:00.000000000",
          "2025-08-21T05:00:00.000000000",
          "2025-08-21T05:15:00.000000000",
          "2025-08-21T05:30:00.000000000",
          "2025-08-21T05:45:00.000000000",
          "2025-08-21T06:00:00.000000000",
          "2025-08-21T06:15:00.000000000",
          "2025-08-21T06:30:00.000000000",
          "2025-08-21T06:45:00.000000000",
          "2025-08-21T07:00:00.000000000",
          "2025-08-21T07:15:00.000000000",
          "2025-08-21T07:30:00.000000000",
          "2025-08-21T07:45:00.000000000",
          "2025-08-21T08:00:00.000000000",
          "2025-08-21T08:15:00.000000000",
          "2025-08-21T08:30:00.000000000",
          "2025-08-21T08:45:00.000000000",
          "2025-08-21T09:00:00.000000000",
          "2025-08-21T09:15:00.000000000",
          "2025-08-21T09:30:00.000000000",
          "2025-08-21T09:45:00.000000000",
          "2025-08-21T10:00:00.000000000",
          "2025-08-21T10:15:00.000000000",
          "2025-08-21T10:30:00.000000000",
          "2025-08-21T10:45:00.000000000",
          "2025-08-21T11:00:00.000000000",
          "2025-08-21T11:15:00.000000000",
          "2025-08-21T11:30:00.000000000",
          "2025-08-21T11:45:00.000000000",
          "2025-08-21T12:00:00.000000000",
          "2025-08-21T12:15:00.000000000",
          "2025-08-21T12:30:00.000000000",
          "2025-08-21T12:45:00.000000000",
          "2025-08-21T13:00:00.000000000",
          "2025-08-21T13:15:00.000000000",
          "2025-08-21T13:30:00.000000000",
          "2025-08-21T13:45:00.000000000",
          "2025-08-21T14:00:00.000000000",
          "2025-08-21T14:15:00.000000000",
          "2025-08-21T14:30:00.000000000",
          "2025-08-21T14:45:00.000000000",
          "2025-08-21T15:00:00.000000000",
          "2025-08-21T15:15:00.000000000",
          "2025-08-21T15:30:00.000000000",
          "2025-08-21T15:45:00.000000000",
          "2025-08-21T16:00:00.000000000",
          "2025-08-21T16:15:00.000000000",
          "2025-08-21T16:30:00.000000000",
          "2025-08-21T16:45:00.000000000",
          "2025-08-21T17:00:00.000000000",
          "2025-08-21T17:15:00.000000000",
          "2025-08-21T17:30:00.000000000",
          "2025-08-21T17:45:00.000000000",
          "2025-08-21T18:00:00.000000000",
          "2025-08-21T18:15:00.000000000",
          "2025-08-21T18:30:00.000000000",
          "2025-08-21T18:45:00.000000000",
          "2025-08-21T19:00:00.000000000",
          "2025-08-21T19:15:00.000000000",
          "2025-08-21T19:30:00.000000000",
          "2025-08-21T19:45:00.000000000",
          "2025-08-21T20:00:00.000000000",
          "2025-08-21T20:15:00.000000000",
          "2025-08-21T20:30:00.000000000",
          "2025-08-21T20:45:00.000000000",
          "2025-08-21T21:00:00.000000000",
          "2025-08-21T21:15:00.000000000",
          "2025-08-21T21:30:00.000000000",
          "2025-08-21T21:45:00.000000000",
          "2025-08-21T22:00:00.000000000",
          "2025-08-21T22:15:00.000000000",
          "2025-08-21T22:30:00.000000000",
          "2025-08-21T22:45:00.000000000",
          "2025-08-21T23:00:00.000000000",
          "2025-08-21T23:15:00.000000000",
          "2025-08-21T23:30:00.000000000",
          "2025-08-21T23:45:00.000000000",
          "2025-08-22T00:00:00.000000000",
          "2025-08-22T00:15:00.000000000",
          "2025-08-22T00:30:00.000000000",
          "2025-08-22T00:45:00.000000000",
          "2025-08-22T01:00:00.000000000",
          "2025-08-22T01:15:00.000000000",
          "2025-08-22T01:30:00.000000000",
          "2025-08-22T01:45:00.000000000",
          "2025-08-22T02:00:00.000000000",
          "2025-08-22T02:15:00.000000000",
          "2025-08-22T02:30:00.000000000",
          "2025-08-22T02:45:00.000000000",
          "2025-08-22T03:00:00.000000000",
          "2025-08-22T03:15:00.000000000",
          "2025-08-22T03:30:00.000000000",
          "2025-08-22T03:45:00.000000000",
          "2025-08-22T04:00:00.000000000",
          "2025-08-22T04:15:00.000000000",
          "2025-08-22T04:30:00.000000000",
          "2025-08-22T04:45:00.000000000",
          "2025-08-22T05:00:00.000000000",
          "2025-08-22T05:15:00.000000000",
          "2025-08-22T05:30:00.000000000",
          "2025-08-22T05:45:00.000000000",
          "2025-08-22T06:00:00.000000000",
          "2025-08-22T06:15:00.000000000",
          "2025-08-22T06:30:00.000000000",
          "2025-08-22T06:45:00.000000000",
          "2025-08-22T07:00:00.000000000",
          "2025-08-22T07:15:00.000000000",
          "2025-08-22T07:30:00.000000000",
          "2025-08-22T07:45:00.000000000",
          "2025-08-22T08:00:00.000000000",
          "2025-08-22T08:15:00.000000000",
          "2025-08-22T08:30:00.000000000",
          "2025-08-22T08:45:00.000000000",
          "2025-08-22T09:00:00.000000000",
          "2025-08-22T09:15:00.000000000",
          "2025-08-22T09:30:00.000000000",
          "2025-08-22T09:45:00.000000000",
          "2025-08-22T10:00:00.000000000",
          "2025-08-22T10:15:00.000000000",
          "2025-08-22T10:30:00.000000000",
          "2025-08-22T10:45:00.000000000",
          "2025-08-22T11:00:00.000000000",
          "2025-08-22T11:15:00.000000000",
          "2025-08-22T11:30:00.000000000",
          "2025-08-22T11:45:00.000000000",
          "2025-08-22T12:00:00.000000000",
          "2025-08-22T12:15:00.000000000",
          "2025-08-22T12:30:00.000000000",
          "2025-08-22T12:45:00.000000000",
          "2025-08-22T13:00:00.000000000",
          "2025-08-22T13:15:00.000000000",
          "2025-08-22T13:30:00.000000000",
          "2025-08-22T13:45:00.000000000",
          "2025-08-22T14:00:00.000000000",
          "2025-08-22T14:15:00.000000000",
          "2025-08-22T14:30:00.000000000",
          "2025-08-22T14:45:00.000000000",
          "2025-08-22T15:00:00.000000000",
          "2025-08-22T15:15:00.000000000",
          "2025-08-22T15:30:00.000000000",
          "2025-08-22T15:45:00.000000000",
          "2025-08-22T16:00:00.000000000",
          "2025-08-22T16:15:00.000000000",
          "2025-08-22T16:30:00.000000000",
          "2025-08-22T16:45:00.000000000",
          "2025-08-22T17:00:00.000000000",
          "2025-08-22T17:15:00.000000000",
          "2025-08-22T17:30:00.000000000",
          "2025-08-22T17:45:00.000000000",
          "2025-08-22T18:00:00.000000000",
          "2025-08-22T18:15:00.000000000",
          "2025-08-22T18:30:00.000000000",
          "2025-08-22T18:45:00.000000000",
          "2025-08-22T19:00:00.000000000",
          "2025-08-22T19:15:00.000000000",
          "2025-08-22T19:30:00.000000000",
          "2025-08-22T19:45:00.000000000",
          "2025-08-22T20:00:00.000000000",
          "2025-08-22T20:15:00.000000000",
          "2025-08-22T20:30:00.000000000",
          "2025-08-22T20:45:00.000000000",
          "2025-08-22T21:00:00.000000000",
          "2025-08-22T21:15:00.000000000",
          "2025-08-22T21:30:00.000000000",
          "2025-08-22T21:45:00.000000000",
          "2025-08-22T22:00:00.000000000",
          "2025-08-22T22:15:00.000000000",
          "2025-08-22T22:30:00.000000000",
          "2025-08-22T22:45:00.000000000",
          "2025-08-22T23:00:00.000000000",
          "2025-08-22T23:15:00.000000000",
          "2025-08-22T23:30:00.000000000",
          "2025-08-22T23:45:00.000000000",
          "2025-08-23T00:00:00.000000000",
          "2025-08-23T00:15:00.000000000",
          "2025-08-23T00:30:00.000000000",
          "2025-08-23T00:45:00.000000000",
          "2025-08-23T01:00:00.000000000",
          "2025-08-23T01:15:00.000000000",
          "2025-08-23T01:30:00.000000000",
          "2025-08-23T01:45:00.000000000",
          "2025-08-23T02:00:00.000000000",
          "2025-08-23T02:15:00.000000000",
          "2025-08-23T02:30:00.000000000",
          "2025-08-23T02:45:00.000000000",
          "2025-08-23T03:00:00.000000000",
          "2025-08-23T03:15:00.000000000",
          "2025-08-23T03:30:00.000000000",
          "2025-08-23T03:45:00.000000000",
          "2025-08-23T04:00:00.000000000",
          "2025-08-23T04:15:00.000000000",
          "2025-08-23T04:30:00.000000000",
          "2025-08-23T04:45:00.000000000",
          "2025-08-23T05:00:00.000000000",
          "2025-08-23T05:15:00.000000000",
          "2025-08-23T05:30:00.000000000",
          "2025-08-23T05:45:00.000000000",
          "2025-08-23T06:00:00.000000000",
          "2025-08-23T06:15:00.000000000",
          "2025-08-23T06:30:00.000000000",
          "2025-08-23T06:45:00.000000000",
          "2025-08-23T07:00:00.000000000",
          "2025-08-23T07:15:00.000000000",
          "2025-08-23T07:30:00.000000000",
          "2025-08-23T07:45:00.000000000",
          "2025-08-23T08:00:00.000000000",
          "2025-08-23T08:15:00.000000000",
          "2025-08-23T08:30:00.000000000",
          "2025-08-23T08:45:00.000000000",
          "2025-08-23T09:00:00.000000000",
          "2025-08-23T09:15:00.000000000",
          "2025-08-23T09:30:00.000000000",
          "2025-08-23T09:45:00.000000000",
          "2025-08-23T10:00:00.000000000",
          "2025-08-23T10:15:00.000000000",
          "2025-08-23T10:30:00.000000000",
          "2025-08-23T10:45:00.000000000",
          "2025-08-23T11:00:00.000000000",
          "2025-08-23T11:15:00.000000000",
          "2025-08-23T11:30:00.000000000",
          "2025-08-23T11:45:00.000000000",
          "2025-08-23T12:00:00.000000000",
          "2025-08-23T12:15:00.000000000",
          "2025-08-23T12:30:00.000000000",
          "2025-08-23T12:45:00.000000000",
          "2025-08-23T13:00:00.000000000",
          "2025-08-23T13:15:00.000000000",
          "2025-08-23T13:30:00.000000000",
          "2025-08-23T13:45:00.000000000",
          "2025-08-23T14:00:00.000000000",
          "2025-08-23T14:15:00.000000000",
          "2025-08-23T14:30:00.000000000",
          "2025-08-23T14:45:00.000000000",
          "2025-08-23T15:00:00.000000000",
          "2025-08-23T15:15:00.000000000",
          "2025-08-23T15:30:00.000000000",
          "2025-08-23T15:45:00.000000000",
          "2025-08-23T16:00:00.000000000",
          "2025-08-23T16:15:00.000000000",
          "2025-08-23T16:30:00.000000000",
          "2025-08-23T16:45:00.000000000",
          "2025-08-23T17:00:00.000000000",
          "2025-08-23T17:15:00.000000000",
          "2025-08-23T17:30:00.000000000",
          "2025-08-23T17:45:00.000000000",
          "2025-08-23T18:00:00.000000000",
          "2025-08-23T18:15:00.000000000",
          "2025-08-23T18:30:00.000000000",
          "2025-08-23T18:45:00.000000000",
          "2025-08-23T19:00:00.000000000",
          "2025-08-23T19:15:00.000000000",
          "2025-08-23T19:30:00.000000000",
          "2025-08-23T19:45:00.000000000",
          "2025-08-23T20:00:00.000000000",
          "2025-08-23T20:15:00.000000000",
          "2025-08-23T20:30:00.000000000",
          "2025-08-23T20:45:00.000000000",
          "2025-08-23T21:00:00.000000000",
          "2025-08-23T21:15:00.000000000",
          "2025-08-23T21:30:00.000000000",
          "2025-08-23T21:45:00.000000000",
          "2025-08-23T22:00:00.000000000",
          "2025-08-23T22:15:00.000000000",
          "2025-08-23T22:30:00.000000000",
          "2025-08-23T22:45:00.000000000",
          "2025-08-23T23:00:00.000000000",
          "2025-08-23T23:15:00.000000000",
          "2025-08-23T23:30:00.000000000",
          "2025-08-23T23:45:00.000000000",
          "2025-08-24T00:00:00.000000000",
          "2025-08-24T00:15:00.000000000",
          "2025-08-24T00:30:00.000000000",
          "2025-08-24T00:45:00.000000000",
          "2025-08-24T01:00:00.000000000",
          "2025-08-24T01:15:00.000000000",
          "2025-08-24T01:30:00.000000000",
          "2025-08-24T01:45:00.000000000",
          "2025-08-24T02:00:00.000000000",
          "2025-08-24T02:15:00.000000000",
          "2025-08-24T02:30:00.000000000",
          "2025-08-24T02:45:00.000000000",
          "2025-08-24T03:00:00.000000000",
          "2025-08-24T03:15:00.000000000",
          "2025-08-24T03:30:00.000000000",
          "2025-08-24T03:45:00.000000000",
          "2025-08-24T04:00:00.000000000",
          "2025-08-24T04:15:00.000000000",
          "2025-08-24T04:30:00.000000000",
          "2025-08-24T04:45:00.000000000",
          "2025-08-24T05:00:00.000000000",
          "2025-08-24T05:15:00.000000000",
          "2025-08-24T05:30:00.000000000",
          "2025-08-24T05:45:00.000000000",
          "2025-08-24T06:00:00.000000000",
          "2025-08-24T06:15:00.000000000",
          "2025-08-24T06:30:00.000000000",
          "2025-08-24T06:45:00.000000000",
          "2025-08-24T07:00:00.000000000",
          "2025-08-24T07:15:00.000000000",
          "2025-08-24T07:30:00.000000000",
          "2025-08-24T07:45:00.000000000",
          "2025-08-24T08:00:00.000000000",
          "2025-08-24T08:15:00.000000000",
          "2025-08-24T08:30:00.000000000",
          "2025-08-24T08:45:00.000000000",
          "2025-08-24T09:00:00.000000000",
          "2025-08-24T09:15:00.000000000",
          "2025-08-24T09:30:00.000000000",
          "2025-08-24T09:45:00.000000000",
          "2025-08-24T10:00:00.000000000",
          "2025-08-24T10:15:00.000000000",
          "2025-08-24T10:30:00.000000000",
          "2025-08-24T10:45:00.000000000",
          "2025-08-24T11:00:00.000000000",
          "2025-08-24T11:15:00.000000000",
          "2025-08-24T11:30:00.000000000",
          "2025-08-24T11:45:00.000000000",
          "2025-08-24T12:00:00.000000000",
          "2025-08-24T12:15:00.000000000",
          "2025-08-24T12:30:00.000000000",
          "2025-08-24T12:45:00.000000000",
          "2025-08-24T13:00:00.000000000",
          "2025-08-24T13:15:00.000000000",
          "2025-08-24T13:30:00.000000000",
          "2025-08-24T13:45:00.000000000",
          "2025-08-24T14:00:00.000000000",
          "2025-08-24T14:15:00.000000000",
          "2025-08-24T14:30:00.000000000",
          "2025-08-24T14:45:00.000000000",
          "2025-08-24T15:00:00.000000000",
          "2025-08-24T15:15:00.000000000",
          "2025-08-24T15:30:00.000000000",
          "2025-08-24T15:45:00.000000000",
          "2025-08-24T16:00:00.000000000",
          "2025-08-24T16:15:00.000000000",
          "2025-08-24T16:30:00.000000000",
          "2025-08-24T16:45:00.000000000",
          "2025-08-24T17:00:00.000000000",
          "2025-08-24T17:15:00.000000000",
          "2025-08-24T17:30:00.000000000",
          "2025-08-24T17:45:00.000000000",
          "2025-08-24T18:00:00.000000000",
          "2025-08-24T18:15:00.000000000",
          "2025-08-24T18:30:00.000000000",
          "2025-08-24T18:45:00.000000000",
          "2025-08-24T19:00:00.000000000",
          "2025-08-24T19:15:00.000000000",
          "2025-08-24T19:30:00.000000000",
          "2025-08-24T19:45:00.000000000",
          "2025-08-24T20:00:00.000000000",
          "2025-08-24T20:15:00.000000000",
          "2025-08-24T20:30:00.000000000",
          "2025-08-24T20:45:00.000000000",
          "2025-08-24T21:00:00.000000000",
          "2025-08-24T21:15:00.000000000",
          "2025-08-24T21:30:00.000000000",
          "2025-08-24T21:45:00.000000000",
          "2025-08-24T22:00:00.000000000",
          "2025-08-24T22:15:00.000000000",
          "2025-08-24T22:30:00.000000000",
          "2025-08-24T22:45:00.000000000",
          "2025-08-24T23:00:00.000000000",
          "2025-08-24T23:15:00.000000000",
          "2025-08-24T23:30:00.000000000",
          "2025-08-24T23:45:00.000000000",
          "2025-08-25T00:00:00.000000000",
          "2025-08-25T00:15:00.000000000",
          "2025-08-25T00:30:00.000000000",
          "2025-08-25T00:45:00.000000000",
          "2025-08-25T01:00:00.000000000",
          "2025-08-25T01:15:00.000000000",
          "2025-08-25T01:30:00.000000000",
          "2025-08-25T01:45:00.000000000",
          "2025-08-25T02:00:00.000000000",
          "2025-08-25T02:15:00.000000000",
          "2025-08-25T02:30:00.000000000",
          "2025-08-25T02:45:00.000000000",
          "2025-08-25T03:00:00.000000000",
          "2025-08-25T03:15:00.000000000",
          "2025-08-25T03:30:00.000000000",
          "2025-08-25T03:45:00.000000000",
          "2025-08-25T04:00:00.000000000",
          "2025-08-25T04:15:00.000000000",
          "2025-08-25T04:30:00.000000000",
          "2025-08-25T04:45:00.000000000",
          "2025-08-25T05:00:00.000000000",
          "2025-08-25T05:15:00.000000000",
          "2025-08-25T05:30:00.000000000",
          "2025-08-25T05:45:00.000000000",
          "2025-08-25T06:00:00.000000000",
          "2025-08-25T06:15:00.000000000",
          "2025-08-25T06:30:00.000000000",
          "2025-08-25T06:45:00.000000000",
          "2025-08-25T07:00:00.000000000",
          "2025-08-25T07:15:00.000000000",
          "2025-08-25T07:30:00.000000000",
          "2025-08-25T07:45:00.000000000",
          "2025-08-25T08:00:00.000000000",
          "2025-08-25T08:15:00.000000000",
          "2025-08-25T08:30:00.000000000",
          "2025-08-25T08:45:00.000000000",
          "2025-08-25T09:00:00.000000000",
          "2025-08-25T09:15:00.000000000",
          "2025-08-25T09:30:00.000000000",
          "2025-08-25T09:45:00.000000000",
          "2025-08-25T10:00:00.000000000",
          "2025-08-25T10:15:00.000000000",
          "2025-08-25T10:30:00.000000000",
          "2025-08-25T10:45:00.000000000",
          "2025-08-25T11:00:00.000000000",
          "2025-08-25T11:15:00.000000000",
          "2025-08-25T11:30:00.000000000",
          "2025-08-25T11:45:00.000000000",
          "2025-08-25T12:00:00.000000000",
          "2025-08-25T12:15:00.000000000",
          "2025-08-25T12:30:00.000000000",
          "2025-08-25T12:45:00.000000000",
          "2025-08-25T13:00:00.000000000",
          "2025-08-25T13:15:00.000000000",
          "2025-08-25T13:30:00.000000000",
          "2025-08-25T13:45:00.000000000",
          "2025-08-25T14:00:00.000000000",
          "2025-08-25T14:15:00.000000000",
          "2025-08-25T14:30:00.000000000",
          "2025-08-25T14:45:00.000000000",
          "2025-08-25T15:00:00.000000000",
          "2025-08-25T15:15:00.000000000",
          "2025-08-25T15:30:00.000000000",
          "2025-08-25T15:45:00.000000000",
          "2025-08-25T16:00:00.000000000",
          "2025-08-25T16:15:00.000000000",
          "2025-08-25T16:30:00.000000000",
          "2025-08-25T16:45:00.000000000",
          "2025-08-25T17:00:00.000000000",
          "2025-08-25T17:15:00.000000000",
          "2025-08-25T17:30:00.000000000",
          "2025-08-25T17:45:00.000000000",
          "2025-08-25T18:00:00.000000000",
          "2025-08-25T18:15:00.000000000",
          "2025-08-25T18:30:00.000000000",
          "2025-08-25T18:45:00.000000000",
          "2025-08-25T19:00:00.000000000",
          "2025-08-25T19:15:00.000000000",
          "2025-08-25T19:30:00.000000000",
          "2025-08-25T19:45:00.000000000",
          "2025-08-25T20:00:00.000000000",
          "2025-08-25T20:15:00.000000000",
          "2025-08-25T20:30:00.000000000",
          "2025-08-25T20:45:00.000000000",
          "2025-08-25T21:00:00.000000000",
          "2025-08-25T21:15:00.000000000",
          "2025-08-25T21:30:00.000000000",
          "2025-08-25T21:45:00.000000000",
          "2025-08-25T22:00:00.000000000",
          "2025-08-25T22:15:00.000000000",
          "2025-08-25T22:30:00.000000000",
          "2025-08-25T22:45:00.000000000",
          "2025-08-25T23:00:00.000000000",
          "2025-08-25T23:15:00.000000000",
          "2025-08-25T23:30:00.000000000",
          "2025-08-25T23:45:00.000000000",
          "2025-08-26T00:00:00.000000000",
          "2025-08-26T00:15:00.000000000",
          "2025-08-26T00:30:00.000000000",
          "2025-08-26T00:45:00.000000000",
          "2025-08-26T01:00:00.000000000",
          "2025-08-26T01:15:00.000000000",
          "2025-08-26T01:30:00.000000000",
          "2025-08-26T01:45:00.000000000",
          "2025-08-26T02:00:00.000000000",
          "2025-08-26T02:15:00.000000000",
          "2025-08-26T02:30:00.000000000",
          "2025-08-26T02:45:00.000000000",
          "2025-08-26T03:00:00.000000000",
          "2025-08-26T03:15:00.000000000",
          "2025-08-26T03:30:00.000000000",
          "2025-08-26T03:45:00.000000000",
          "2025-08-26T04:00:00.000000000",
          "2025-08-26T04:15:00.000000000",
          "2025-08-26T04:30:00.000000000",
          "2025-08-26T04:45:00.000000000",
          "2025-08-26T05:00:00.000000000",
          "2025-08-26T05:15:00.000000000",
          "2025-08-26T05:30:00.000000000",
          "2025-08-26T05:45:00.000000000",
          "2025-08-26T06:00:00.000000000",
          "2025-08-26T06:15:00.000000000",
          "2025-08-26T06:30:00.000000000",
          "2025-08-26T06:45:00.000000000",
          "2025-08-26T07:00:00.000000000",
          "2025-08-26T07:15:00.000000000",
          "2025-08-26T07:30:00.000000000",
          "2025-08-26T07:45:00.000000000",
          "2025-08-26T08:00:00.000000000",
          "2025-08-26T08:15:00.000000000",
          "2025-08-26T08:30:00.000000000",
          "2025-08-26T08:45:00.000000000",
          "2025-08-26T09:00:00.000000000",
          "2025-08-26T09:15:00.000000000",
          "2025-08-26T09:30:00.000000000",
          "2025-08-26T09:45:00.000000000",
          "2025-08-26T10:00:00.000000000",
          "2025-08-26T10:15:00.000000000",
          "2025-08-26T10:30:00.000000000",
          "2025-08-26T10:45:00.000000000",
          "2025-08-26T11:00:00.000000000",
          "2025-08-26T11:15:00.000000000",
          "2025-08-26T11:30:00.000000000",
          "2025-08-26T11:45:00.000000000",
          "2025-08-26T12:00:00.000000000",
          "2025-08-26T12:15:00.000000000",
          "2025-08-26T12:30:00.000000000",
          "2025-08-26T12:45:00.000000000",
          "2025-08-26T13:00:00.000000000",
          "2025-08-26T13:15:00.000000000",
          "2025-08-26T13:30:00.000000000",
          "2025-08-26T13:45:00.000000000",
          "2025-08-26T14:00:00.000000000",
          "2025-08-26T14:15:00.000000000",
          "2025-08-26T14:30:00.000000000",
          "2025-08-26T14:45:00.000000000",
          "2025-08-26T15:00:00.000000000",
          "2025-08-26T15:15:00.000000000",
          "2025-08-26T15:30:00.000000000",
          "2025-08-26T15:45:00.000000000",
          "2025-08-26T16:00:00.000000000",
          "2025-08-26T16:15:00.000000000",
          "2025-08-26T16:30:00.000000000",
          "2025-08-26T16:45:00.000000000",
          "2025-08-26T17:00:00.000000000",
          "2025-08-26T17:15:00.000000000",
          "2025-08-26T17:30:00.000000000",
          "2025-08-26T17:45:00.000000000",
          "2025-08-26T18:00:00.000000000",
          "2025-08-26T18:15:00.000000000",
          "2025-08-26T18:30:00.000000000",
          "2025-08-26T18:45:00.000000000",
          "2025-08-26T19:00:00.000000000",
          "2025-08-26T19:15:00.000000000",
          "2025-08-26T19:30:00.000000000",
          "2025-08-26T19:45:00.000000000",
          "2025-08-26T20:00:00.000000000",
          "2025-08-26T20:15:00.000000000",
          "2025-08-26T20:30:00.000000000",
          "2025-08-26T20:45:00.000000000",
          "2025-08-26T21:00:00.000000000",
          "2025-08-26T21:15:00.000000000",
          "2025-08-26T21:30:00.000000000",
          "2025-08-26T21:45:00.000000000",
          "2025-08-26T22:00:00.000000000",
          "2025-08-26T22:15:00.000000000",
          "2025-08-26T22:30:00.000000000",
          "2025-08-26T22:45:00.000000000",
          "2025-08-26T23:00:00.000000000",
          "2025-08-26T23:15:00.000000000",
          "2025-08-26T23:30:00.000000000",
          "2025-08-26T23:45:00.000000000",
          "2025-08-27T00:00:00.000000000",
          "2025-08-27T00:15:00.000000000",
          "2025-08-27T00:30:00.000000000",
          "2025-08-27T00:45:00.000000000",
          "2025-08-27T01:00:00.000000000",
          "2025-08-27T01:15:00.000000000",
          "2025-08-27T01:30:00.000000000",
          "2025-08-27T01:45:00.000000000",
          "2025-08-27T02:00:00.000000000",
          "2025-08-27T02:15:00.000000000",
          "2025-08-27T02:30:00.000000000",
          "2025-08-27T02:45:00.000000000",
          "2025-08-27T03:00:00.000000000",
          "2025-08-27T03:15:00.000000000",
          "2025-08-27T03:30:00.000000000",
          "2025-08-27T03:45:00.000000000",
          "2025-08-27T04:00:00.000000000",
          "2025-08-27T04:15:00.000000000",
          "2025-08-27T04:30:00.000000000",
          "2025-08-27T04:45:00.000000000",
          "2025-08-27T05:00:00.000000000",
          "2025-08-27T05:15:00.000000000",
          "2025-08-27T05:30:00.000000000",
          "2025-08-27T05:45:00.000000000",
          "2025-08-27T06:00:00.000000000",
          "2025-08-27T06:15:00.000000000",
          "2025-08-27T06:30:00.000000000",
          "2025-08-27T06:45:00.000000000",
          "2025-08-27T07:00:00.000000000",
          "2025-08-27T07:15:00.000000000",
          "2025-08-27T07:30:00.000000000",
          "2025-08-27T07:45:00.000000000",
          "2025-08-27T08:00:00.000000000",
          "2025-08-27T08:15:00.000000000",
          "2025-08-27T08:30:00.000000000",
          "2025-08-27T08:45:00.000000000",
          "2025-08-27T09:00:00.000000000",
          "2025-08-27T09:15:00.000000000",
          "2025-08-27T09:30:00.000000000",
          "2025-08-27T09:45:00.000000000",
          "2025-08-27T10:00:00.000000000",
          "2025-08-27T10:15:00.000000000",
          "2025-08-27T10:30:00.000000000",
          "2025-08-27T10:45:00.000000000",
          "2025-08-27T11:00:00.000000000",
          "2025-08-27T11:15:00.000000000",
          "2025-08-27T11:30:00.000000000",
          "2025-08-27T11:45:00.000000000",
          "2025-08-27T12:00:00.000000000",
          "2025-08-27T12:15:00.000000000",
          "2025-08-27T12:30:00.000000000",
          "2025-08-27T12:45:00.000000000",
          "2025-08-27T13:00:00.000000000",
          "2025-08-27T13:15:00.000000000",
          "2025-08-27T13:30:00.000000000",
          "2025-08-27T13:45:00.000000000",
          "2025-08-27T14:00:00.000000000",
          "2025-08-27T14:15:00.000000000",
          "2025-08-27T14:30:00.000000000",
          "2025-08-27T14:45:00.000000000",
          "2025-08-27T15:00:00.000000000",
          "2025-08-27T15:15:00.000000000",
          "2025-08-27T15:30:00.000000000",
          "2025-08-27T15:45:00.000000000",
          "2025-08-27T16:00:00.000000000",
          "2025-08-27T16:15:00.000000000",
          "2025-08-27T16:30:00.000000000",
          "2025-08-27T16:45:00.000000000",
          "2025-08-27T17:00:00.000000000",
          "2025-08-27T17:15:00.000000000",
          "2025-08-27T17:30:00.000000000",
          "2025-08-27T17:45:00.000000000",
          "2025-08-27T18:00:00.000000000",
          "2025-08-27T18:15:00.000000000",
          "2025-08-27T18:30:00.000000000",
          "2025-08-27T18:45:00.000000000",
          "2025-08-27T19:00:00.000000000",
          "2025-08-27T19:15:00.000000000",
          "2025-08-27T19:30:00.000000000",
          "2025-08-27T19:45:00.000000000",
          "2025-08-27T20:00:00.000000000",
          "2025-08-27T20:15:00.000000000",
          "2025-08-27T20:30:00.000000000",
          "2025-08-27T20:45:00.000000000",
          "2025-08-27T21:00:00.000000000",
          "2025-08-27T21:15:00.000000000",
          "2025-08-27T21:30:00.000000000",
          "2025-08-27T21:45:00.000000000",
          "2025-08-27T22:00:00.000000000",
          "2025-08-27T22:15:00.000000000",
          "2025-08-27T22:30:00.000000000",
          "2025-08-27T22:45:00.000000000",
          "2025-08-27T23:00:00.000000000",
          "2025-08-27T23:15:00.000000000",
          "2025-08-27T23:30:00.000000000",
          "2025-08-27T23:45:00.000000000",
          "2025-08-28T00:00:00.000000000",
          "2025-08-28T00:15:00.000000000",
          "2025-08-28T00:30:00.000000000",
          "2025-08-28T00:45:00.000000000",
          "2025-08-28T01:00:00.000000000",
          "2025-08-28T01:15:00.000000000",
          "2025-08-28T01:30:00.000000000",
          "2025-08-28T01:45:00.000000000",
          "2025-08-28T02:00:00.000000000",
          "2025-08-28T02:15:00.000000000",
          "2025-08-28T02:30:00.000000000",
          "2025-08-28T02:45:00.000000000",
          "2025-08-28T03:00:00.000000000",
          "2025-08-28T03:15:00.000000000",
          "2025-08-28T03:30:00.000000000",
          "2025-08-28T03:45:00.000000000",
          "2025-08-28T04:00:00.000000000",
          "2025-08-28T04:15:00.000000000",
          "2025-08-28T04:30:00.000000000",
          "2025-08-28T04:45:00.000000000",
          "2025-08-28T05:00:00.000000000",
          "2025-08-28T05:15:00.000000000",
          "2025-08-28T05:30:00.000000000",
          "2025-08-28T05:45:00.000000000",
          "2025-08-28T06:00:00.000000000",
          "2025-08-28T06:15:00.000000000",
          "2025-08-28T06:30:00.000000000",
          "2025-08-28T06:45:00.000000000",
          "2025-08-28T07:00:00.000000000",
          "2025-08-28T07:15:00.000000000",
          "2025-08-28T07:30:00.000000000",
          "2025-08-28T07:45:00.000000000",
          "2025-08-28T08:00:00.000000000",
          "2025-08-28T08:15:00.000000000",
          "2025-08-28T08:30:00.000000000",
          "2025-08-28T08:45:00.000000000",
          "2025-08-28T09:00:00.000000000",
          "2025-08-28T09:15:00.000000000",
          "2025-08-28T09:30:00.000000000",
          "2025-08-28T09:45:00.000000000",
          "2025-08-28T10:00:00.000000000",
          "2025-08-28T10:15:00.000000000",
          "2025-08-28T10:30:00.000000000",
          "2025-08-28T10:45:00.000000000",
          "2025-08-28T11:00:00.000000000",
          "2025-08-28T11:15:00.000000000",
          "2025-08-28T11:30:00.000000000",
          "2025-08-28T11:45:00.000000000",
          "2025-08-28T12:00:00.000000000",
          "2025-08-28T12:15:00.000000000",
          "2025-08-28T12:30:00.000000000",
          "2025-08-28T12:45:00.000000000",
          "2025-08-28T13:00:00.000000000",
          "2025-08-28T13:15:00.000000000",
          "2025-08-28T13:30:00.000000000",
          "2025-08-28T13:45:00.000000000",
          "2025-08-28T14:00:00.000000000",
          "2025-08-28T14:15:00.000000000",
          "2025-08-28T14:30:00.000000000",
          "2025-08-28T14:45:00.000000000",
          "2025-08-28T15:00:00.000000000",
          "2025-08-28T15:15:00.000000000",
          "2025-08-28T15:30:00.000000000",
          "2025-08-28T15:45:00.000000000",
          "2025-08-28T16:00:00.000000000",
          "2025-08-28T16:15:00.000000000",
          "2025-08-28T16:30:00.000000000",
          "2025-08-28T16:45:00.000000000",
          "2025-08-28T17:00:00.000000000",
          "2025-08-28T17:15:00.000000000",
          "2025-08-28T17:30:00.000000000",
          "2025-08-28T17:45:00.000000000",
          "2025-08-28T18:00:00.000000000",
          "2025-08-28T18:15:00.000000000",
          "2025-08-28T18:30:00.000000000",
          "2025-08-28T18:45:00.000000000",
          "2025-08-28T19:00:00.000000000",
          "2025-08-28T19:15:00.000000000",
          "2025-08-28T19:30:00.000000000",
          "2025-08-28T19:45:00.000000000",
          "2025-08-28T20:00:00.000000000",
          "2025-08-28T20:15:00.000000000",
          "2025-08-28T20:30:00.000000000",
          "2025-08-28T20:45:00.000000000",
          "2025-08-28T21:00:00.000000000",
          "2025-08-28T21:15:00.000000000",
          "2025-08-28T21:30:00.000000000",
          "2025-08-28T21:45:00.000000000",
          "2025-08-28T22:00:00.000000000",
          "2025-08-28T22:15:00.000000000",
          "2025-08-28T22:30:00.000000000",
          "2025-08-28T22:45:00.000000000",
          "2025-08-28T23:00:00.000000000",
          "2025-08-28T23:15:00.000000000",
          "2025-08-28T23:30:00.000000000",
          "2025-08-28T23:45:00.000000000",
          "2025-08-29T00:00:00.000000000",
          "2025-08-29T00:15:00.000000000",
          "2025-08-29T00:30:00.000000000",
          "2025-08-29T00:45:00.000000000",
          "2025-08-29T01:00:00.000000000",
          "2025-08-29T01:15:00.000000000",
          "2025-08-29T01:30:00.000000000",
          "2025-08-29T01:45:00.000000000",
          "2025-08-29T02:00:00.000000000",
          "2025-08-29T02:15:00.000000000",
          "2025-08-29T02:30:00.000000000",
          "2025-08-29T02:45:00.000000000",
          "2025-08-29T03:00:00.000000000",
          "2025-08-29T03:15:00.000000000",
          "2025-08-29T03:30:00.000000000",
          "2025-08-29T03:45:00.000000000",
          "2025-08-29T04:00:00.000000000",
          "2025-08-29T04:15:00.000000000",
          "2025-08-29T04:30:00.000000000",
          "2025-08-29T04:45:00.000000000",
          "2025-08-29T05:00:00.000000000",
          "2025-08-29T05:15:00.000000000",
          "2025-08-29T05:30:00.000000000",
          "2025-08-29T05:45:00.000000000",
          "2025-08-29T06:00:00.000000000",
          "2025-08-29T06:15:00.000000000",
          "2025-08-29T06:30:00.000000000",
          "2025-08-29T06:45:00.000000000",
          "2025-08-29T07:00:00.000000000",
          "2025-08-29T07:15:00.000000000",
          "2025-08-29T07:30:00.000000000",
          "2025-08-29T07:45:00.000000000",
          "2025-08-29T08:00:00.000000000",
          "2025-08-29T08:15:00.000000000",
          "2025-08-29T08:30:00.000000000",
          "2025-08-29T08:45:00.000000000",
          "2025-08-29T09:00:00.000000000",
          "2025-08-29T09:15:00.000000000",
          "2025-08-29T09:30:00.000000000",
          "2025-08-29T09:45:00.000000000",
          "2025-08-29T10:00:00.000000000",
          "2025-08-29T10:15:00.000000000",
          "2025-08-29T10:30:00.000000000",
          "2025-08-29T10:45:00.000000000",
          "2025-08-29T11:00:00.000000000",
          "2025-08-29T11:15:00.000000000",
          "2025-08-29T11:30:00.000000000",
          "2025-08-29T11:45:00.000000000",
          "2025-08-29T12:00:00.000000000",
          "2025-08-29T12:15:00.000000000",
          "2025-08-29T12:30:00.000000000",
          "2025-08-29T12:45:00.000000000",
          "2025-08-29T13:00:00.000000000",
          "2025-08-29T13:15:00.000000000",
          "2025-08-29T13:30:00.000000000",
          "2025-08-29T13:45:00.000000000",
          "2025-08-29T14:00:00.000000000",
          "2025-08-29T14:15:00.000000000",
          "2025-08-29T14:30:00.000000000",
          "2025-08-29T14:45:00.000000000",
          "2025-08-29T15:00:00.000000000",
          "2025-08-29T15:15:00.000000000",
          "2025-08-29T15:30:00.000000000",
          "2025-08-29T15:45:00.000000000",
          "2025-08-29T16:00:00.000000000",
          "2025-08-29T16:15:00.000000000",
          "2025-08-29T16:30:00.000000000",
          "2025-08-29T16:45:00.000000000",
          "2025-08-29T17:00:00.000000000",
          "2025-08-29T17:15:00.000000000",
          "2025-08-29T17:30:00.000000000",
          "2025-08-29T17:45:00.000000000",
          "2025-08-29T18:00:00.000000000",
          "2025-08-29T18:15:00.000000000",
          "2025-08-29T18:30:00.000000000",
          "2025-08-29T18:45:00.000000000",
          "2025-08-29T19:00:00.000000000",
          "2025-08-29T19:15:00.000000000",
          "2025-08-29T19:30:00.000000000",
          "2025-08-29T19:45:00.000000000",
          "2025-08-29T20:00:00.000000000",
          "2025-08-29T20:15:00.000000000",
          "2025-08-29T20:30:00.000000000",
          "2025-08-29T20:45:00.000000000",
          "2025-08-29T21:00:00.000000000",
          "2025-08-29T21:15:00.000000000",
          "2025-08-29T21:30:00.000000000",
          "2025-08-29T21:45:00.000000000",
          "2025-08-29T22:00:00.000000000",
          "2025-08-29T22:15:00.000000000",
          "2025-08-29T22:30:00.000000000",
          "2025-08-29T22:45:00.000000000",
          "2025-08-29T23:00:00.000000000",
          "2025-08-29T23:15:00.000000000",
          "2025-08-29T23:30:00.000000000",
          "2025-08-29T23:45:00.000000000",
          "2025-08-30T00:00:00.000000000",
          "2025-08-30T00:15:00.000000000",
          "2025-08-30T00:30:00.000000000",
          "2025-08-30T00:45:00.000000000",
          "2025-08-30T01:00:00.000000000",
          "2025-08-30T01:15:00.000000000",
          "2025-08-30T01:30:00.000000000",
          "2025-08-30T01:45:00.000000000",
          "2025-08-30T02:00:00.000000000",
          "2025-08-30T02:15:00.000000000",
          "2025-08-30T02:30:00.000000000",
          "2025-08-30T02:45:00.000000000",
          "2025-08-30T03:00:00.000000000",
          "2025-08-30T03:15:00.000000000",
          "2025-08-30T03:30:00.000000000",
          "2025-08-30T03:45:00.000000000",
          "2025-08-30T04:00:00.000000000",
          "2025-08-30T04:15:00.000000000",
          "2025-08-30T04:30:00.000000000",
          "2025-08-30T04:45:00.000000000",
          "2025-08-30T05:00:00.000000000",
          "2025-08-30T05:15:00.000000000",
          "2025-08-30T05:30:00.000000000",
          "2025-08-30T05:45:00.000000000",
          "2025-08-30T06:00:00.000000000",
          "2025-08-30T06:15:00.000000000",
          "2025-08-30T06:30:00.000000000",
          "2025-08-30T06:45:00.000000000",
          "2025-08-30T07:00:00.000000000",
          "2025-08-30T07:15:00.000000000",
          "2025-08-30T07:30:00.000000000",
          "2025-08-30T07:45:00.000000000",
          "2025-08-30T08:00:00.000000000",
          "2025-08-30T08:15:00.000000000",
          "2025-08-30T08:30:00.000000000",
          "2025-08-30T08:45:00.000000000",
          "2025-08-30T09:00:00.000000000",
          "2025-08-30T09:15:00.000000000",
          "2025-08-30T09:30:00.000000000",
          "2025-08-30T09:45:00.000000000",
          "2025-08-30T10:00:00.000000000",
          "2025-08-30T10:15:00.000000000",
          "2025-08-30T10:30:00.000000000",
          "2025-08-30T10:45:00.000000000",
          "2025-08-30T11:00:00.000000000",
          "2025-08-30T11:15:00.000000000",
          "2025-08-30T11:30:00.000000000",
          "2025-08-30T11:45:00.000000000",
          "2025-08-30T12:00:00.000000000",
          "2025-08-30T12:15:00.000000000",
          "2025-08-30T12:30:00.000000000",
          "2025-08-30T12:45:00.000000000",
          "2025-08-30T13:00:00.000000000",
          "2025-08-30T13:15:00.000000000",
          "2025-08-30T13:30:00.000000000",
          "2025-08-30T13:45:00.000000000",
          "2025-08-30T14:00:00.000000000",
          "2025-08-30T14:15:00.000000000",
          "2025-08-30T14:30:00.000000000",
          "2025-08-30T14:45:00.000000000",
          "2025-08-30T15:00:00.000000000",
          "2025-08-30T15:15:00.000000000",
          "2025-08-30T15:30:00.000000000",
          "2025-08-30T15:45:00.000000000",
          "2025-08-30T16:00:00.000000000",
          "2025-08-30T16:15:00.000000000",
          "2025-08-30T16:30:00.000000000",
          "2025-08-30T16:45:00.000000000",
          "2025-08-30T17:00:00.000000000",
          "2025-08-30T17:15:00.000000000",
          "2025-08-30T17:30:00.000000000",
          "2025-08-30T17:45:00.000000000"
         ],
         "xaxis": "x",
         "y": {
          "bdata": "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",
          "dtype": "f8"
         },
         "yaxis": "y"
        }
       ],
       "layout": {
        "legend": {
         "title": {
          "text": "Metric"
         },
         "tracegroupgap": 0
        },
        "template": {
         "data": {
          "bar": [
           {
            "error_x": {
             "color": "#2a3f5f"
            },
            "error_y": {
             "color": "#2a3f5f"
            },
            "marker": {
             "line": {
              "color": "#E5ECF6",
              "width": 0.5
             },
             "pattern": {
              "fillmode": "overlay",
              "size": 10,
              "solidity": 0.2
             }
            },
            "type": "bar"
           }
          ],
          "barpolar": [
           {
            "marker": {
             "line": {
              "color": "#E5ECF6",
              "width": 0.5
             },
             "pattern": {
              "fillmode": "overlay",
              "size": 10,
              "solidity": 0.2
             }
            },
            "type": "barpolar"
           }
          ],
          "carpet": [
           {
            "aaxis": {
             "endlinecolor": "#2a3f5f",
             "gridcolor": "white",
             "linecolor": "white",
             "minorgridcolor": "white",
             "startlinecolor": "#2a3f5f"
            },
            "baxis": {
             "endlinecolor": "#2a3f5f",
             "gridcolor": "white",
             "linecolor": "white",
             "minorgridcolor": "white",
             "startlinecolor": "#2a3f5f"
            },
            "type": "carpet"
           }
          ],
          "choropleth": [
           {
            "colorbar": {
             "outlinewidth": 0,
             "ticks": ""
            },
            "type": "choropleth"
           }
          ],
          "contour": [
           {
            "colorbar": {
             "outlinewidth": 0,
             "ticks": ""
            },
            "colorscale": [
             [
              0,
              "#0d0887"
             ],
             [
              0.1111111111111111,
              "#46039f"
             ],
             [
              0.2222222222222222,
              "#7201a8"
             ],
             [
              0.3333333333333333,
              "#9c179e"
             ],
             [
              0.4444444444444444,
              "#bd3786"
             ],
             [
              0.5555555555555556,
              "#d8576b"
             ],
             [
              0.6666666666666666,
              "#ed7953"
             ],
             [
              0.7777777777777778,
              "#fb9f3a"
             ],
             [
              0.8888888888888888,
              "#fdca26"
             ],
             [
              1,
              "#f0f921"
             ]
            ],
            "type": "contour"
           }
          ],
          "contourcarpet": [
           {
            "colorbar": {
             "outlinewidth": 0,
             "ticks": ""
            },
            "type": "contourcarpet"
           }
          ],
          "heatmap": [
           {
            "colorbar": {
             "outlinewidth": 0,
             "ticks": ""
            },
            "colorscale": [
             [
              0,
              "#0d0887"
             ],
             [
              0.1111111111111111,
              "#46039f"
             ],
             [
              0.2222222222222222,
              "#7201a8"
             ],
             [
              0.3333333333333333,
              "#9c179e"
             ],
             [
              0.4444444444444444,
              "#bd3786"
             ],
             [
              0.5555555555555556,
              "#d8576b"
             ],
             [
              0.6666666666666666,
              "#ed7953"
             ],
             [
              0.7777777777777778,
              "#fb9f3a"
             ],
             [
              0.8888888888888888,
              "#fdca26"
             ],
             [
              1,
              "#f0f921"
             ]
            ],
            "type": "heatmap"
           }
          ],
          "histogram": [
           {
            "marker": {
             "pattern": {
              "fillmode": "overlay",
              "size": 10,
              "solidity": 0.2
             }
            },
            "type": "histogram"
           }
          ],
          "histogram2d": [
           {
            "colorbar": {
             "outlinewidth": 0,
             "ticks": ""
            },
            "colorscale": [
             [
              0,
              "#0d0887"
             ],
             [
              0.1111111111111111,
              "#46039f"
             ],
             [
              0.2222222222222222,
              "#7201a8"
             ],
             [
              0.3333333333333333,
              "#9c179e"
             ],
             [
              0.4444444444444444,
              "#bd3786"
             ],
             [
              0.5555555555555556,
              "#d8576b"
             ],
             [
              0.6666666666666666,
              "#ed7953"
             ],
             [
              0.7777777777777778,
              "#fb9f3a"
             ],
             [
              0.8888888888888888,
              "#fdca26"
             ],
             [
              1,
              "#f0f921"
             ]
            ],
            "type": "histogram2d"
           }
          ],
          "histogram2dcontour": [
           {
            "colorbar": {
             "outlinewidth": 0,
             "ticks": ""
            },
            "colorscale": [
             [
              0,
              "#0d0887"
             ],
             [
              0.1111111111111111,
              "#46039f"
             ],
             [
              0.2222222222222222,
              "#7201a8"
             ],
             [
              0.3333333333333333,
              "#9c179e"
             ],
             [
              0.4444444444444444,
              "#bd3786"
             ],
             [
              0.5555555555555556,
              "#d8576b"
             ],
             [
              0.6666666666666666,
              "#ed7953"
             ],
             [
              0.7777777777777778,
              "#fb9f3a"
             ],
             [
              0.8888888888888888,
              "#fdca26"
             ],
             [
              1,
              "#f0f921"
             ]
            ],
            "type": "histogram2dcontour"
           }
          ],
          "mesh3d": [
           {
            "colorbar": {
             "outlinewidth": 0,
             "ticks": ""
            },
            "type": "mesh3d"
           }
          ],
          "parcoords": [
           {
            "line": {
             "colorbar": {
              "outlinewidth": 0,
              "ticks": ""
             }
            },
            "type": "parcoords"
           }
          ],
          "pie": [
           {
            "automargin": true,
            "type": "pie"
           }
          ],
          "scatter": [
           {
            "fillpattern": {
             "fillmode": "overlay",
             "size": 10,
             "solidity": 0.2
            },
            "type": "scatter"
           }
          ],
          "scatter3d": [
           {
            "line": {
             "colorbar": {
              "outlinewidth": 0,
              "ticks": ""
             }
            },
            "marker": {
             "colorbar": {
              "outlinewidth": 0,
              "ticks": ""
             }
            },
            "type": "scatter3d"
           }
          ],
          "scattercarpet": [
           {
            "marker": {
             "colorbar": {
              "outlinewidth": 0,
              "ticks": ""
             }
            },
            "type": "scattercarpet"
           }
          ],
          "scattergeo": [
           {
            "marker": {
             "colorbar": {
              "outlinewidth": 0,
              "ticks": ""
             }
            },
            "type": "scattergeo"
           }
          ],
          "scattergl": [
           {
            "marker": {
             "colorbar": {
              "outlinewidth": 0,
              "ticks": ""
             }
            },
            "type": "scattergl"
           }
          ],
          "scattermap": [
           {
            "marker": {
             "colorbar": {
              "outlinewidth": 0,
              "ticks": ""
             }
            },
            "type": "scattermap"
           }
          ],
          "scattermapbox": [
           {
            "marker": {
             "colorbar": {
              "outlinewidth": 0,
              "ticks": ""
             }
            },
            "type": "scattermapbox"
           }
          ],
          "scatterpolar": [
           {
            "marker": {
             "colorbar": {
              "outlinewidth": 0,
              "ticks": ""
             }
            },
            "type": "scatterpolar"
           }
          ],
          "scatterpolargl": [
           {
            "marker": {
             "colorbar": {
              "outlinewidth": 0,
              "ticks": ""
             }
            },
            "type": "scatterpolargl"
           }
          ],
          "scatterternary": [
           {
            "marker": {
             "colorbar": {
              "outlinewidth": 0,
              "ticks": ""
             }
            },
            "type": "scatterternary"
           }
          ],
          "surface": [
           {
            "colorbar": {
             "outlinewidth": 0,
             "ticks": ""
            },
            "colorscale": [
             [
              0,
              "#0d0887"
             ],
             [
              0.1111111111111111,
              "#46039f"
             ],
             [
              0.2222222222222222,
              "#7201a8"
             ],
             [
              0.3333333333333333,
              "#9c179e"
             ],
             [
              0.4444444444444444,
              "#bd3786"
             ],
             [
              0.5555555555555556,
              "#d8576b"
             ],
             [
              0.6666666666666666,
              "#ed7953"
             ],
             [
              0.7777777777777778,
              "#fb9f3a"
             ],
             [
              0.8888888888888888,
              "#fdca26"
             ],
             [
              1,
              "#f0f921"
             ]
            ],
            "type": "surface"
           }
          ],
          "table": [
           {
            "cells": {
             "fill": {
              "color": "#EBF0F8"
             },
             "line": {
              "color": "white"
             }
            },
            "header": {
             "fill": {
              "color": "#C8D4E3"
             },
             "line": {
              "color": "white"
             }
            },
            "type": "table"
           }
          ]
         },
         "layout": {
          "annotationdefaults": {
           "arrowcolor": "#2a3f5f",
           "arrowhead": 0,
           "arrowwidth": 1
          },
          "autotypenumbers": "strict",
          "coloraxis": {
           "colorbar": {
            "outlinewidth": 0,
            "ticks": ""
           }
          },
          "colorscale": {
           "diverging": [
            [
             0,
             "#8e0152"
            ],
            [
             0.1,
             "#c51b7d"
            ],
            [
             0.2,
             "#de77ae"
            ],
            [
             0.3,
             "#f1b6da"
            ],
            [
             0.4,
             "#fde0ef"
            ],
            [
             0.5,
             "#f7f7f7"
            ],
            [
             0.6,
             "#e6f5d0"
            ],
            [
             0.7,
             "#b8e186"
            ],
            [
             0.8,
             "#7fbc41"
            ],
            [
             0.9,
             "#4d9221"
            ],
            [
             1,
             "#276419"
            ]
           ],
           "sequential": [
            [
             0,
             "#0d0887"
            ],
            [
             0.1111111111111111,
             "#46039f"
            ],
            [
             0.2222222222222222,
             "#7201a8"
            ],
            [
             0.3333333333333333,
             "#9c179e"
            ],
            [
             0.4444444444444444,
             "#bd3786"
            ],
            [
             0.5555555555555556,
             "#d8576b"
            ],
            [
             0.6666666666666666,
             "#ed7953"
            ],
            [
             0.7777777777777778,
             "#fb9f3a"
            ],
            [
             0.8888888888888888,
             "#fdca26"
            ],
            [
             1,
             "#f0f921"
            ]
           ],
           "sequentialminus": [
            [
             0,
             "#0d0887"
            ],
            [
             0.1111111111111111,
             "#46039f"
            ],
            [
             0.2222222222222222,
             "#7201a8"
            ],
            [
             0.3333333333333333,
             "#9c179e"
            ],
            [
             0.4444444444444444,
             "#bd3786"
            ],
            [
             0.5555555555555556,
             "#d8576b"
            ],
            [
             0.6666666666666666,
             "#ed7953"
            ],
            [
             0.7777777777777778,
             "#fb9f3a"
            ],
            [
             0.8888888888888888,
             "#fdca26"
            ],
            [
             1,
             "#f0f921"
            ]
           ]
          },
          "colorway": [
           "#636efa",
           "#EF553B",
           "#00cc96",
           "#ab63fa",
           "#FFA15A",
           "#19d3f3",
           "#FF6692",
           "#B6E880",
           "#FF97FF",
           "#FECB52"
          ],
          "font": {
           "color": "#2a3f5f"
          },
          "geo": {
           "bgcolor": "white",
           "lakecolor": "white",
           "landcolor": "#E5ECF6",
           "showlakes": true,
           "showland": true,
           "subunitcolor": "white"
          },
          "hoverlabel": {
           "align": "left"
          },
          "hovermode": "closest",
          "mapbox": {
           "style": "light"
          },
          "paper_bgcolor": "white",
          "plot_bgcolor": "#E5ECF6",
          "polar": {
           "angularaxis": {
            "gridcolor": "white",
            "linecolor": "white",
            "ticks": ""
           },
           "bgcolor": "#E5ECF6",
           "radialaxis": {
            "gridcolor": "white",
            "linecolor": "white",
            "ticks": ""
           }
          },
          "scene": {
           "xaxis": {
            "backgroundcolor": "#E5ECF6",
            "gridcolor": "white",
            "gridwidth": 2,
            "linecolor": "white",
            "showbackground": true,
            "ticks": "",
            "zerolinecolor": "white"
           },
           "yaxis": {
            "backgroundcolor": "#E5ECF6",
            "gridcolor": "white",
            "gridwidth": 2,
            "linecolor": "white",
            "showbackground": true,
            "ticks": "",
            "zerolinecolor": "white"
           },
           "zaxis": {
            "backgroundcolor": "#E5ECF6",
            "gridcolor": "white",
            "gridwidth": 2,
            "linecolor": "white",
            "showbackground": true,
            "ticks": "",
            "zerolinecolor": "white"
           }
          },
          "shapedefaults": {
           "line": {
            "color": "#2a3f5f"
           }
          },
          "ternary": {
           "aaxis": {
            "gridcolor": "white",
            "linecolor": "white",
            "ticks": ""
           },
           "baxis": {
            "gridcolor": "white",
            "linecolor": "white",
            "ticks": ""
           },
           "bgcolor": "#E5ECF6",
           "caxis": {
            "gridcolor": "white",
            "linecolor": "white",
            "ticks": ""
           }
          },
          "title": {
           "x": 0.05
          },
          "xaxis": {
           "automargin": true,
           "gridcolor": "white",
           "linecolor": "white",
           "ticks": "",
           "title": {
            "standoff": 15
           },
           "zerolinecolor": "white",
           "zerolinewidth": 2
          },
          "yaxis": {
           "automargin": true,
           "gridcolor": "white",
           "linecolor": "white",
           "ticks": "",
           "title": {
            "standoff": 15
           },
           "zerolinecolor": "white",
           "zerolinewidth": 2
          }
         }
        },
        "title": {
         "text": "Rolling 24-hour glucose mean and variability"
        },
        "xaxis": {
         "anchor": "y",
         "domain": [
          0,
          1
         ],
         "title": {
          "text": "timestamp"
         }
        },
        "yaxis": {
         "anchor": "x",
         "domain": [
          0,
          1
         ],
         "title": {
          "text": "mg/dL"
         }
        }
       }
      }
     },
     "metadata": {},
     "output_type": "display_data"
    }
   ],
   "source": [
    "daily_series = (\n",
    "    glucose_df.set_index(\"timestamp\")[\"glucose_value\"]\n",
    "    .resample(\"15T\")\n",
    "    .mean()\n",
    "    .interpolate()\n",
    ")\n",
    "rolling_window = 96  # 15-minute samples across one day\n",
    "rolling_mean = daily_series.rolling(\n",
    "    rolling_window, min_periods=rolling_window // 2\n",
    ").mean()\n",
    "rolling_std = daily_series.rolling(\n",
    "    rolling_window, min_periods=rolling_window // 2\n",
    ").std()\n",
    "\n",
    "fig = px.line(\n",
    "    pd.DataFrame(\n",
    "        {\n",
    "            \"timestamp\": rolling_mean.index,\n",
    "            \"rolling_mean\": rolling_mean,\n",
    "            \"rolling_std\": rolling_std,\n",
    "        }\n",
    "    ),\n",
    "    x=\"timestamp\",\n",
    "    y=[\"rolling_mean\", \"rolling_std\"],\n",
    "    title=\"Rolling 24-hour glucose mean and variability\",\n",
    "    labels={\"value\": \"mg/dL\", \"variable\": \"Metric\"},\n",
    ")\n",
    "fig.show()"
   ]
  },
  {
   "cell_type": "markdown",
   "id": "57f8008b",
   "metadata": {},
   "source": [
    "### 10. Observations and next steps\n",
    "- Inspect the distribution and TIR plots to confirm the share of readings within the 70-180 mg/dL target band.\n",
    "- Review circadian heatmaps for recurring high-variability hours that could benefit from habit or meal adjustments.\n",
    "- Rate-of-change statistics highlight how aggressively glucose moves after scans; align this with insulin and carb logs.\n",
    "- Export these aggregates or join them with Apple Health summaries in future notebooks for multi-sensor insights."
   ]
  }
 ],
 "metadata": {
  "kernelspec": {
   "display_name": "health-analysis",
   "language": "python",
   "name": "python3"
  },
  "language_info": {
   "codemirror_mode": {
    "name": "ipython",
    "version": 3
   },
   "file_extension": ".py",
   "mimetype": "text/x-python",
   "name": "python",
   "nbconvert_exporter": "python",
   "pygments_lexer": "ipython3",
   "version": "3.11.13"
  }
 },
 "nbformat": 4,
 "nbformat_minor": 5
}
