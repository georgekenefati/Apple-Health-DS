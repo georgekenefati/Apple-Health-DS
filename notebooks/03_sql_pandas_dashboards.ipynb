{
 "cells": [
  {
   "cell_type": "markdown",
   "id": "b8b62930",
   "metadata": {},
   "source": [
    "# 03 - SQL + Pandas Hybrid Dashboards\n",
    "\n",
    "This notebook blends SQL views from the consolidated SQLite warehouse with pandas wrangling and Plotly dashboards to deliver daily compliance KPIs and workout-linked glucose insights."
   ]
  },
  {
   "cell_type": "markdown",
   "id": "86c649eb",
   "metadata": {},
   "source": [
    "### Notebook Roadmap\n",
    "- Connect to `health_glucose.db` and surface available tables/views\n",
    "- Compose reusable SQL helpers that feed pandas DataFrames\n",
    "- Model daily time-in-range compliance and derivative metrics\n",
    "- Quantify glucose shifts around workouts leveraging hybrid SQL+pandas\n",
    "- Render shareable Plotly dashboards and export tidy artifacts"
   ]
  },
  {
   "cell_type": "code",
   "execution_count": 1,
   "id": "3bdf2ecf",
   "metadata": {},
   "outputs": [
    {
     "name": "stdout",
     "output_type": "stream",
     "text": [
      "✅ Libraries loaded\n",
      "📊 pandas 2.3.2\n"
     ]
    }
   ],
   "source": [
    "import sqlite3\n",
    "from pathlib import Path\n",
    "from datetime import datetime, timedelta\n",
    "from typing import Optional, Tuple, Any\n",
    "\n",
    "import numpy as np\n",
    "import pandas as pd\n",
    "import plotly.express as px\n",
    "import plotly.graph_objects as go\n",
    "from plotly.subplots import make_subplots\n",
    "\n",
    "pd.set_option(\"display.max_columns\", None)\n",
    "pd.set_option(\"display.precision\", 2)\n",
    "pd.options.plotting.backend = \"plotly\"\n",
    "\n",
    "print(\"✅ Libraries loaded\")\n",
    "print(f\"📊 pandas {pd.__version__}\")"
   ]
  },
  {
   "cell_type": "code",
   "execution_count": null,
   "id": "23c5af00",
   "metadata": {},
   "outputs": [
    {
     "name": "stdout",
     "output_type": "stream",
     "text": [
      "✅ Database located: /Users/george/Library/Mobile Documents/com~apple~CloudDocs/Programming Projects/Apple-Health-DS/data/database/health_glucose.db\n"
     ]
    }
   ],
   "source": [
    "project_root = Path(\"..\").resolve()\n",
    "db_path = project_root / \"data\" / \"database\" / \"health_glucose.db\"\n",
    "\n",
    "if not db_path.exists():\n",
    "    raise FileNotFoundError(f\"Database not found at {db_path}\")\n",
    "\n",
    "print(f\"✅ Database located: {db_path}\")"
   ]
  },
  {
   "cell_type": "code",
   "execution_count": null,
   "id": "05a4df12",
   "metadata": {},
   "outputs": [
    {
     "name": "stdout",
     "output_type": "stream",
     "text": [
      "✅ Helper utilities registered\n"
     ]
    }
   ],
   "source": [
    "def get_connection(db_file: Path) -> sqlite3.Connection:\n",
    "    \"\"\"Create a SQLite connection with Row factory for named access.\"\"\"\n",
    "    conn = sqlite3.connect(db_file)\n",
    "    conn.row_factory = sqlite3.Row\n",
    "    return conn\n",
    "\n",
    "\n",
    "def run_query(query: str, params: Optional[tuple] = None) -> list[sqlite3.Row]:\n",
    "    \"\"\"Execute a SQL query and return sqlite3.Row results.\"\"\"\n",
    "    with get_connection(db_path) as conn:\n",
    "        cursor = conn.execute(query, params or ())\n",
    "        rows = cursor.fetchall()\n",
    "    return rows\n",
    "\n",
    "\n",
    "def read_query_df(query: str, params: Optional[tuple] = None) -> pd.DataFrame:\n",
    "    \"\"\"Execute a SQL query and return a pandas DataFrame.\"\"\"\n",
    "    with get_connection(db_path) as conn:\n",
    "        df = pd.read_sql_query(query, conn, params=params)\n",
    "    return df\n",
    "\n",
    "\n",
    "def get_date_range(\n",
    "    table: str, column: str\n",
    ") -> Tuple[Optional[pd.Timestamp], Optional[pd.Timestamp]]:\n",
    "    \"\"\"Fetch min/max timestamps for the specified table column.\"\"\"\n",
    "    query = (\n",
    "        f\"SELECT MIN({column}) AS start_date, MAX({column}) AS end_date FROM {table}\"\n",
    "    )\n",
    "    rows = run_query(query)\n",
    "    if not rows:\n",
    "        return None, None\n",
    "    row = rows[0]\n",
    "    start = pd.to_datetime(row[\"start_date\"]) if row[\"start_date\"] else None\n",
    "    end = pd.to_datetime(row[\"end_date\"]) if row[\"end_date\"] else None\n",
    "    return start, end\n",
    "\n",
    "\n",
    "print(\"✅ Helper utilities registered\")"
   ]
  },
  {
   "cell_type": "code",
   "execution_count": null,
   "id": "f6e3e60d",
   "metadata": {},
   "outputs": [
    {
     "data": {
      "application/vnd.microsoft.datawrangler.viewer.v0+json": {
       "columns": [
        {
         "name": "index",
         "rawType": "int64",
         "type": "integer"
        },
        {
         "name": "name",
         "rawType": "object",
         "type": "string"
        },
        {
         "name": "type",
         "rawType": "object",
         "type": "string"
        }
       ],
       "ref": "2e34773d-d93c-4346-9d8f-4260e406723a",
       "rows": [
        [
         "0",
         "apple_health_records",
         "table"
        ],
        [
         "1",
         "data_quality_log",
         "table"
        ],
        [
         "2",
         "glucose_readings",
         "table"
        ],
        [
         "3",
         "glucose_statistics",
         "table"
        ],
        [
         "4",
         "merged_health_data",
         "table"
        ],
        [
         "5",
         "sqlite_sequence",
         "table"
        ],
        [
         "6",
         "workout_records",
         "table"
        ],
        [
         "7",
         "daily_glucose_summary",
         "view"
        ],
        [
         "8",
         "hourly_glucose_patterns",
         "view"
        ],
        [
         "9",
         "workout_glucose_impact",
         "view"
        ]
       ],
       "shape": {
        "columns": 2,
        "rows": 10
       }
      },
      "text/html": [
       "<div>\n",
       "<style scoped>\n",
       "    .dataframe tbody tr th:only-of-type {\n",
       "        vertical-align: middle;\n",
       "    }\n",
       "\n",
       "    .dataframe tbody tr th {\n",
       "        vertical-align: top;\n",
       "    }\n",
       "\n",
       "    .dataframe thead th {\n",
       "        text-align: right;\n",
       "    }\n",
       "</style>\n",
       "<table border=\"1\" class=\"dataframe\">\n",
       "  <thead>\n",
       "    <tr style=\"text-align: right;\">\n",
       "      <th></th>\n",
       "      <th>name</th>\n",
       "      <th>type</th>\n",
       "    </tr>\n",
       "  </thead>\n",
       "  <tbody>\n",
       "    <tr>\n",
       "      <th>0</th>\n",
       "      <td>apple_health_records</td>\n",
       "      <td>table</td>\n",
       "    </tr>\n",
       "    <tr>\n",
       "      <th>1</th>\n",
       "      <td>data_quality_log</td>\n",
       "      <td>table</td>\n",
       "    </tr>\n",
       "    <tr>\n",
       "      <th>2</th>\n",
       "      <td>glucose_readings</td>\n",
       "      <td>table</td>\n",
       "    </tr>\n",
       "    <tr>\n",
       "      <th>3</th>\n",
       "      <td>glucose_statistics</td>\n",
       "      <td>table</td>\n",
       "    </tr>\n",
       "    <tr>\n",
       "      <th>4</th>\n",
       "      <td>merged_health_data</td>\n",
       "      <td>table</td>\n",
       "    </tr>\n",
       "    <tr>\n",
       "      <th>5</th>\n",
       "      <td>sqlite_sequence</td>\n",
       "      <td>table</td>\n",
       "    </tr>\n",
       "    <tr>\n",
       "      <th>6</th>\n",
       "      <td>workout_records</td>\n",
       "      <td>table</td>\n",
       "    </tr>\n",
       "    <tr>\n",
       "      <th>7</th>\n",
       "      <td>daily_glucose_summary</td>\n",
       "      <td>view</td>\n",
       "    </tr>\n",
       "    <tr>\n",
       "      <th>8</th>\n",
       "      <td>hourly_glucose_patterns</td>\n",
       "      <td>view</td>\n",
       "    </tr>\n",
       "    <tr>\n",
       "      <th>9</th>\n",
       "      <td>workout_glucose_impact</td>\n",
       "      <td>view</td>\n",
       "    </tr>\n",
       "  </tbody>\n",
       "</table>\n",
       "</div>"
      ],
      "text/plain": [
       "                      name   type\n",
       "0     apple_health_records  table\n",
       "1         data_quality_log  table\n",
       "2         glucose_readings  table\n",
       "3       glucose_statistics  table\n",
       "4       merged_health_data  table\n",
       "5          sqlite_sequence  table\n",
       "6          workout_records  table\n",
       "7    daily_glucose_summary   view\n",
       "8  hourly_glucose_patterns   view\n",
       "9   workout_glucose_impact   view"
      ]
     },
     "execution_count": 4,
     "metadata": {},
     "output_type": "execute_result"
    }
   ],
   "source": [
    "catalog_df = read_query_df(\n",
    "    \"SELECT name, type FROM sqlite_master WHERE type IN ('table', 'view') ORDER BY type, name;\"\n",
    ")\n",
    "catalog_df"
   ]
  },
  {
   "cell_type": "code",
   "execution_count": null,
   "id": "9d3f1db0",
   "metadata": {},
   "outputs": [
    {
     "data": {
      "application/vnd.microsoft.datawrangler.viewer.v0+json": {
       "columns": [
        {
         "name": "index",
         "rawType": "int64",
         "type": "integer"
        },
        {
         "name": "subject",
         "rawType": "object",
         "type": "string"
        },
        {
         "name": "start",
         "rawType": "datetime64[ns]",
         "type": "datetime"
        },
        {
         "name": "end",
         "rawType": "datetime64[ns]",
         "type": "datetime"
        }
       ],
       "ref": "3ac2e193-685e-49bc-b0b2-4ba1328f7089",
       "rows": [
        [
         "0",
         "Glucose readings",
         "2025-08-16 13:20:00",
         "2025-08-30 17:54:00"
        ],
        [
         "1",
         "Workout records",
         null,
         null
        ]
       ],
       "shape": {
        "columns": 3,
        "rows": 2
       }
      },
      "text/html": [
       "<div>\n",
       "<style scoped>\n",
       "    .dataframe tbody tr th:only-of-type {\n",
       "        vertical-align: middle;\n",
       "    }\n",
       "\n",
       "    .dataframe tbody tr th {\n",
       "        vertical-align: top;\n",
       "    }\n",
       "\n",
       "    .dataframe thead th {\n",
       "        text-align: right;\n",
       "    }\n",
       "</style>\n",
       "<table border=\"1\" class=\"dataframe\">\n",
       "  <thead>\n",
       "    <tr style=\"text-align: right;\">\n",
       "      <th></th>\n",
       "      <th>subject</th>\n",
       "      <th>start</th>\n",
       "      <th>end</th>\n",
       "    </tr>\n",
       "  </thead>\n",
       "  <tbody>\n",
       "    <tr>\n",
       "      <th>0</th>\n",
       "      <td>Glucose readings</td>\n",
       "      <td>2025-08-16 13:20:00</td>\n",
       "      <td>2025-08-30 17:54:00</td>\n",
       "    </tr>\n",
       "    <tr>\n",
       "      <th>1</th>\n",
       "      <td>Workout records</td>\n",
       "      <td>NaT</td>\n",
       "      <td>NaT</td>\n",
       "    </tr>\n",
       "  </tbody>\n",
       "</table>\n",
       "</div>"
      ],
      "text/plain": [
       "            subject               start                 end\n",
       "0  Glucose readings 2025-08-16 13:20:00 2025-08-30 17:54:00\n",
       "1   Workout records                 NaT                 NaT"
      ]
     },
     "execution_count": 5,
     "metadata": {},
     "output_type": "execute_result"
    }
   ],
   "source": [
    "glucose_bounds = get_date_range(\"glucose_readings\", \"timestamp\")\n",
    "workout_bounds = get_date_range(\"workout_records\", \"start_date\")\n",
    "\n",
    "summary = pd.DataFrame(\n",
    "    [\n",
    "        {\n",
    "            \"subject\": \"Glucose readings\",\n",
    "            \"start\": glucose_bounds[0],\n",
    "            \"end\": glucose_bounds[1],\n",
    "        },\n",
    "        {\n",
    "            \"subject\": \"Workout records\",\n",
    "            \"start\": workout_bounds[0],\n",
    "            \"end\": workout_bounds[1],\n",
    "        },\n",
    "    ]\n",
    ")\n",
    "summary"
   ]
  },
  {
   "cell_type": "markdown",
   "id": "5ca975d2",
   "metadata": {},
   "source": [
    "## Daily Compliance KPIs\n",
    "We will blend SQL aggregates sourced from `glucose_readings` with pandas enrichment to calculate time-in-range (TIR) performance, volatility, and rolling trends."
   ]
  },
  {
   "cell_type": "code",
   "execution_count": null,
   "id": "278d6acf",
   "metadata": {},
   "outputs": [],
   "source": [
    "DAILY_COMPLIANCE_SQL = \"\"\"\n",
    "WITH base AS (\n",
    "    SELECT\n",
    "        DATE(timestamp) AS day,\n",
    "        COUNT(*) AS reading_count,\n",
    "        AVG(glucose_value) AS avg_glucose,\n",
    "        MIN(glucose_value) AS min_glucose,\n",
    "        MAX(glucose_value) AS max_glucose,\n",
    "        SUM(CASE WHEN glucose_value BETWEEN 70 AND 180 THEN 1 ELSE 0 END) AS tir_count,\n",
    "        SUM(CASE WHEN glucose_value < 70 THEN 1 ELSE 0 END) AS below_range_count,\n",
    "        SUM(CASE WHEN glucose_value > 180 THEN 1 ELSE 0 END) AS above_range_count\n",
    "    FROM glucose_readings\n",
    "    WHERE timestamp BETWEEN ? AND ?\n",
    "    GROUP BY DATE(timestamp)\n",
    ")\n",
    "SELECT\n",
    "    day AS date,\n",
    "    reading_count,\n",
    "    avg_glucose,\n",
    "    min_glucose,\n",
    "    max_glucose,\n",
    "    tir_count,\n",
    "    below_range_count,\n",
    "    above_range_count,\n",
    "    ROUND(tir_count * 100.0 / NULLIF(reading_count, 0), 2) AS time_in_range_pct,\n",
    "    ROUND(below_range_count * 100.0 / NULLIF(reading_count, 0), 2) AS time_below_range_pct,\n",
    "    ROUND(above_range_count * 100.0 / NULLIF(reading_count, 0), 2) AS time_above_range_pct\n",
    "FROM base\n",
    "ORDER BY date;\n",
    "\"\"\"\n",
    "\n",
    "\n",
    "def load_daily_compliance(\n",
    "    start: Optional[pd.Timestamp] = None,\n",
    "    end: Optional[pd.Timestamp] = None,\n",
    "    tir_target: float = 70.0,\n",
    ") -> pd.DataFrame:\n",
    "    min_date, max_date = get_date_range(\"glucose_readings\", \"timestamp\")\n",
    "    if min_date is None or max_date is None:\n",
    "        raise ValueError(\"No glucose data available for compliance metrics.\")\n",
    "\n",
    "    start_ts = pd.to_datetime(start or min_date).floor(\"D\")\n",
    "    end_ts = pd.to_datetime(end or max_date).ceil(\"D\") - pd.Timedelta(seconds=1)\n",
    "\n",
    "    params = (start_ts.isoformat(), end_ts.isoformat())\n",
    "    df = read_query_df(DAILY_COMPLIANCE_SQL, params=params)\n",
    "    if df.empty:\n",
    "        return df\n",
    "\n",
    "    df[\"date\"] = pd.to_datetime(df[\"date\"])\n",
    "    numeric_cols = [\n",
    "        \"reading_count\",\n",
    "        \"avg_glucose\",\n",
    "        \"min_glucose\",\n",
    "        \"max_glucose\",\n",
    "        \"tir_count\",\n",
    "        \"below_range_count\",\n",
    "        \"above_range_count\",\n",
    "        \"time_in_range_pct\",\n",
    "        \"time_below_range_pct\",\n",
    "        \"time_above_range_pct\",\n",
    "    ]\n",
    "    df[numeric_cols] = df[numeric_cols].apply(pd.to_numeric, errors=\"coerce\")\n",
    "    df = df.sort_values(\"date\").reset_index(drop=True)\n",
    "\n",
    "    df[\"rolling_7d_tir_pct\"] = (\n",
    "        df[\"time_in_range_pct\"].rolling(window=7, min_periods=3).mean()\n",
    "    )\n",
    "    df[\"reading_count_ma\"] = df[\"reading_count\"].rolling(window=7, min_periods=3).mean()\n",
    "    df[\"tir_target_met\"] = np.where(\n",
    "        df[\"time_in_range_pct\"] >= tir_target, \"On Target\", \"Needs Attention\"\n",
    "    )\n",
    "    df[\"days_since_start\"] = (df[\"date\"] - df[\"date\"].min()).dt.days\n",
    "    return df"
   ]
  },
  {
   "cell_type": "code",
   "execution_count": 7,
   "id": "a4953dc1",
   "metadata": {},
   "outputs": [
    {
     "data": {
      "application/vnd.microsoft.datawrangler.viewer.v0+json": {
       "columns": [
        {
         "name": "index",
         "rawType": "int64",
         "type": "integer"
        },
        {
         "name": "date",
         "rawType": "datetime64[ns]",
         "type": "datetime"
        },
        {
         "name": "reading_count",
         "rawType": "int64",
         "type": "integer"
        },
        {
         "name": "avg_glucose",
         "rawType": "float64",
         "type": "float"
        },
        {
         "name": "min_glucose",
         "rawType": "float64",
         "type": "float"
        },
        {
         "name": "max_glucose",
         "rawType": "float64",
         "type": "float"
        },
        {
         "name": "tir_count",
         "rawType": "int64",
         "type": "integer"
        },
        {
         "name": "below_range_count",
         "rawType": "int64",
         "type": "integer"
        },
        {
         "name": "above_range_count",
         "rawType": "int64",
         "type": "integer"
        },
        {
         "name": "time_in_range_pct",
         "rawType": "float64",
         "type": "float"
        },
        {
         "name": "time_below_range_pct",
         "rawType": "float64",
         "type": "float"
        },
        {
         "name": "time_above_range_pct",
         "rawType": "float64",
         "type": "float"
        },
        {
         "name": "rolling_7d_tir_pct",
         "rawType": "float64",
         "type": "float"
        },
        {
         "name": "reading_count_ma",
         "rawType": "float64",
         "type": "float"
        },
        {
         "name": "tir_target_met",
         "rawType": "object",
         "type": "string"
        },
        {
         "name": "days_since_start",
         "rawType": "int64",
         "type": "integer"
        }
       ],
       "ref": "a82aab0f-193d-4061-b5f4-50f45023c018",
       "rows": [
        [
         "9",
         "2025-08-26 00:00:00",
         "291",
         "84.6082474226804",
         "69.0",
         "126.0",
         "290",
         "1",
         "0",
         "99.66",
         "0.34",
         "0.0",
         "98.53571428571429",
         "290.7142857142857",
         "On Target",
         "9"
        ],
        [
         "10",
         "2025-08-27 00:00:00",
         "289",
         "90.21107266435986",
         "67.0",
         "138.0",
         "288",
         "1",
         "0",
         "99.65",
         "0.35",
         "0.0",
         "98.48571428571428",
         "290.85714285714283",
         "On Target",
         "10"
        ],
        [
         "11",
         "2025-08-28 00:00:00",
         "288",
         "91.21180555555556",
         "73.0",
         "127.0",
         "288",
         "0",
         "0",
         "100.0",
         "0.0",
         "0.0",
         "98.48571428571428",
         "290.2857142857143",
         "On Target",
         "11"
        ],
        [
         "12",
         "2025-08-29 00:00:00",
         "292",
         "91.76369863013699",
         "59.0",
         "132.0",
         "287",
         "5",
         "0",
         "98.29",
         "1.71",
         "0.0",
         "98.24142857142856",
         "290.57142857142856",
         "On Target",
         "12"
        ],
        [
         "13",
         "2025-08-30 00:00:00",
         "215",
         "95.86976744186046",
         "64.0",
         "124.0",
         "214",
         "1",
         "0",
         "99.53",
         "0.47",
         "0.0",
         "98.1742857142857",
         "279.85714285714283",
         "On Target",
         "13"
        ]
       ],
       "shape": {
        "columns": 15,
        "rows": 5
       }
      },
      "text/html": [
       "<div>\n",
       "<style scoped>\n",
       "    .dataframe tbody tr th:only-of-type {\n",
       "        vertical-align: middle;\n",
       "    }\n",
       "\n",
       "    .dataframe tbody tr th {\n",
       "        vertical-align: top;\n",
       "    }\n",
       "\n",
       "    .dataframe thead th {\n",
       "        text-align: right;\n",
       "    }\n",
       "</style>\n",
       "<table border=\"1\" class=\"dataframe\">\n",
       "  <thead>\n",
       "    <tr style=\"text-align: right;\">\n",
       "      <th></th>\n",
       "      <th>date</th>\n",
       "      <th>reading_count</th>\n",
       "      <th>avg_glucose</th>\n",
       "      <th>min_glucose</th>\n",
       "      <th>max_glucose</th>\n",
       "      <th>tir_count</th>\n",
       "      <th>below_range_count</th>\n",
       "      <th>above_range_count</th>\n",
       "      <th>time_in_range_pct</th>\n",
       "      <th>time_below_range_pct</th>\n",
       "      <th>time_above_range_pct</th>\n",
       "      <th>rolling_7d_tir_pct</th>\n",
       "      <th>reading_count_ma</th>\n",
       "      <th>tir_target_met</th>\n",
       "      <th>days_since_start</th>\n",
       "    </tr>\n",
       "  </thead>\n",
       "  <tbody>\n",
       "    <tr>\n",
       "      <th>9</th>\n",
       "      <td>2025-08-26</td>\n",
       "      <td>291</td>\n",
       "      <td>84.61</td>\n",
       "      <td>69.0</td>\n",
       "      <td>126.0</td>\n",
       "      <td>290</td>\n",
       "      <td>1</td>\n",
       "      <td>0</td>\n",
       "      <td>99.66</td>\n",
       "      <td>0.34</td>\n",
       "      <td>0.0</td>\n",
       "      <td>98.54</td>\n",
       "      <td>290.71</td>\n",
       "      <td>On Target</td>\n",
       "      <td>9</td>\n",
       "    </tr>\n",
       "    <tr>\n",
       "      <th>10</th>\n",
       "      <td>2025-08-27</td>\n",
       "      <td>289</td>\n",
       "      <td>90.21</td>\n",
       "      <td>67.0</td>\n",
       "      <td>138.0</td>\n",
       "      <td>288</td>\n",
       "      <td>1</td>\n",
       "      <td>0</td>\n",
       "      <td>99.65</td>\n",
       "      <td>0.35</td>\n",
       "      <td>0.0</td>\n",
       "      <td>98.49</td>\n",
       "      <td>290.86</td>\n",
       "      <td>On Target</td>\n",
       "      <td>10</td>\n",
       "    </tr>\n",
       "    <tr>\n",
       "      <th>11</th>\n",
       "      <td>2025-08-28</td>\n",
       "      <td>288</td>\n",
       "      <td>91.21</td>\n",
       "      <td>73.0</td>\n",
       "      <td>127.0</td>\n",
       "      <td>288</td>\n",
       "      <td>0</td>\n",
       "      <td>0</td>\n",
       "      <td>100.00</td>\n",
       "      <td>0.00</td>\n",
       "      <td>0.0</td>\n",
       "      <td>98.49</td>\n",
       "      <td>290.29</td>\n",
       "      <td>On Target</td>\n",
       "      <td>11</td>\n",
       "    </tr>\n",
       "    <tr>\n",
       "      <th>12</th>\n",
       "      <td>2025-08-29</td>\n",
       "      <td>292</td>\n",
       "      <td>91.76</td>\n",
       "      <td>59.0</td>\n",
       "      <td>132.0</td>\n",
       "      <td>287</td>\n",
       "      <td>5</td>\n",
       "      <td>0</td>\n",
       "      <td>98.29</td>\n",
       "      <td>1.71</td>\n",
       "      <td>0.0</td>\n",
       "      <td>98.24</td>\n",
       "      <td>290.57</td>\n",
       "      <td>On Target</td>\n",
       "      <td>12</td>\n",
       "    </tr>\n",
       "    <tr>\n",
       "      <th>13</th>\n",
       "      <td>2025-08-30</td>\n",
       "      <td>215</td>\n",
       "      <td>95.87</td>\n",
       "      <td>64.0</td>\n",
       "      <td>124.0</td>\n",
       "      <td>214</td>\n",
       "      <td>1</td>\n",
       "      <td>0</td>\n",
       "      <td>99.53</td>\n",
       "      <td>0.47</td>\n",
       "      <td>0.0</td>\n",
       "      <td>98.17</td>\n",
       "      <td>279.86</td>\n",
       "      <td>On Target</td>\n",
       "      <td>13</td>\n",
       "    </tr>\n",
       "  </tbody>\n",
       "</table>\n",
       "</div>"
      ],
      "text/plain": [
       "         date  reading_count  avg_glucose  min_glucose  max_glucose  \\\n",
       "9  2025-08-26            291        84.61         69.0        126.0   \n",
       "10 2025-08-27            289        90.21         67.0        138.0   \n",
       "11 2025-08-28            288        91.21         73.0        127.0   \n",
       "12 2025-08-29            292        91.76         59.0        132.0   \n",
       "13 2025-08-30            215        95.87         64.0        124.0   \n",
       "\n",
       "    tir_count  below_range_count  above_range_count  time_in_range_pct  \\\n",
       "9         290                  1                  0              99.66   \n",
       "10        288                  1                  0              99.65   \n",
       "11        288                  0                  0             100.00   \n",
       "12        287                  5                  0              98.29   \n",
       "13        214                  1                  0              99.53   \n",
       "\n",
       "    time_below_range_pct  time_above_range_pct  rolling_7d_tir_pct  \\\n",
       "9                   0.34                   0.0               98.54   \n",
       "10                  0.35                   0.0               98.49   \n",
       "11                  0.00                   0.0               98.49   \n",
       "12                  1.71                   0.0               98.24   \n",
       "13                  0.47                   0.0               98.17   \n",
       "\n",
       "    reading_count_ma tir_target_met  days_since_start  \n",
       "9             290.71      On Target                 9  \n",
       "10            290.86      On Target                10  \n",
       "11            290.29      On Target                11  \n",
       "12            290.57      On Target                12  \n",
       "13            279.86      On Target                13  "
      ]
     },
     "execution_count": 7,
     "metadata": {},
     "output_type": "execute_result"
    }
   ],
   "source": [
    "daily_kpis = load_daily_compliance()\n",
    "daily_kpis.tail()"
   ]
  },
  {
   "cell_type": "code",
   "execution_count": null,
   "id": "415611a5",
   "metadata": {},
   "outputs": [
    {
     "data": {
      "application/vnd.plotly.v1+json": {
       "config": {
        "plotlyServerURL": "https://plot.ly"
       },
       "data": [
        {
         "hovertemplate": "%{x|%Y-%m-%d}: %{y:.1f}%<extra></extra>",
         "line": {
          "color": "#1f77b4",
          "width": 2
         },
         "mode": "lines+markers",
         "name": "Time in Range %",
         "type": "scatter",
         "x": [
          "2025-08-17T00:00:00.000000000",
          "2025-08-18T00:00:00.000000000",
          "2025-08-19T00:00:00.000000000",
          "2025-08-20T00:00:00.000000000",
          "2025-08-21T00:00:00.000000000",
          "2025-08-22T00:00:00.000000000",
          "2025-08-23T00:00:00.000000000",
          "2025-08-24T00:00:00.000000000",
          "2025-08-25T00:00:00.000000000",
          "2025-08-26T00:00:00.000000000",
          "2025-08-27T00:00:00.000000000",
          "2025-08-28T00:00:00.000000000",
          "2025-08-29T00:00:00.000000000",
          "2025-08-30T00:00:00.000000000"
         ],
         "xaxis": "x",
         "y": {
          "bdata": "H4XrUbg+WECuR+F6FH5YQAAAAAAAAFlAAAAAAAAAWUAAAAAAAABZQAAAAAAAAFlAAAAAAAAAWUCPwvUoXI9XQGZmZmZm9ldACtejcD3qWECamZmZmelYQAAAAAAAAFlAw/UoXI+SWEBSuB6F6+FYQA==",
          "dtype": "f8"
         },
         "yaxis": "y"
        },
        {
         "hovertemplate": "7d avg: %{y:.1f}%<extra></extra>",
         "line": {
          "color": "#ff7f0e",
          "dash": "dash",
          "width": 3
         },
         "mode": "lines",
         "name": "7-day Avg",
         "type": "scatter",
         "x": [
          "2025-08-17T00:00:00.000000000",
          "2025-08-18T00:00:00.000000000",
          "2025-08-19T00:00:00.000000000",
          "2025-08-20T00:00:00.000000000",
          "2025-08-21T00:00:00.000000000",
          "2025-08-22T00:00:00.000000000",
          "2025-08-23T00:00:00.000000000",
          "2025-08-24T00:00:00.000000000",
          "2025-08-25T00:00:00.000000000",
          "2025-08-26T00:00:00.000000000",
          "2025-08-27T00:00:00.000000000",
          "2025-08-28T00:00:00.000000000",
          "2025-08-29T00:00:00.000000000",
          "2025-08-30T00:00:00.000000000"
         ],
         "xaxis": "x",
         "y": {
          "bdata": "AAAAAAAA+H8AAAAAAAD4f0RERERElFhAMzMzMzOvWECPwvUoXL9YQCMiIiIiylhAHtRBHdTRWEDAk9XyxrhYQCKY6O9kpVhAJUmSJEmiWEDxFV/xFZ9YQPEVX/EVn1hAw6bSkHOPWEAYwUR/J4tYQA==",
          "dtype": "f8"
         },
         "yaxis": "y"
        },
        {
         "hovertemplate": "%{x|%Y-%m-%d}: %{y} readings<extra></extra>",
         "marker": {
          "color": "rgba(31, 119, 180, 0.3)"
         },
         "name": "Readings per day",
         "type": "bar",
         "x": [
          "2025-08-17T00:00:00.000000000",
          "2025-08-18T00:00:00.000000000",
          "2025-08-19T00:00:00.000000000",
          "2025-08-20T00:00:00.000000000",
          "2025-08-21T00:00:00.000000000",
          "2025-08-22T00:00:00.000000000",
          "2025-08-23T00:00:00.000000000",
          "2025-08-24T00:00:00.000000000",
          "2025-08-25T00:00:00.000000000",
          "2025-08-26T00:00:00.000000000",
          "2025-08-27T00:00:00.000000000",
          "2025-08-28T00:00:00.000000000",
          "2025-08-29T00:00:00.000000000",
          "2025-08-30T00:00:00.000000000"
         ],
         "xaxis": "x",
         "y": {
          "bdata": "KgEnASIBIAEkASIBIgEnASEBIwEhASABJAHXAA==",
          "dtype": "i2"
         },
         "yaxis": "y2"
        }
       ],
       "layout": {
        "annotations": [
         {
          "showarrow": false,
          "text": "TIR Target 70%",
          "x": 0,
          "xanchor": "left",
          "xref": "x domain",
          "y": 70,
          "yanchor": "bottom",
          "yref": "y"
         }
        ],
        "bargap": 0.1,
        "height": 600,
        "hovermode": "x unified",
        "legend": {
         "orientation": "h",
         "x": 1,
         "xanchor": "right",
         "y": 1.02,
         "yanchor": "bottom"
        },
        "shapes": [
         {
          "line": {
           "color": "green",
           "dash": "dot"
          },
          "type": "line",
          "x0": 0,
          "x1": 1,
          "xref": "x domain",
          "y0": 70,
          "y1": 70,
          "yref": "y"
         }
        ],
        "template": {
         "data": {
          "bar": [
           {
            "error_x": {
             "color": "#2a3f5f"
            },
            "error_y": {
             "color": "#2a3f5f"
            },
            "marker": {
             "line": {
              "color": "#E5ECF6",
              "width": 0.5
             },
             "pattern": {
              "fillmode": "overlay",
              "size": 10,
              "solidity": 0.2
             }
            },
            "type": "bar"
           }
          ],
          "barpolar": [
           {
            "marker": {
             "line": {
              "color": "#E5ECF6",
              "width": 0.5
             },
             "pattern": {
              "fillmode": "overlay",
              "size": 10,
              "solidity": 0.2
             }
            },
            "type": "barpolar"
           }
          ],
          "carpet": [
           {
            "aaxis": {
             "endlinecolor": "#2a3f5f",
             "gridcolor": "white",
             "linecolor": "white",
             "minorgridcolor": "white",
             "startlinecolor": "#2a3f5f"
            },
            "baxis": {
             "endlinecolor": "#2a3f5f",
             "gridcolor": "white",
             "linecolor": "white",
             "minorgridcolor": "white",
             "startlinecolor": "#2a3f5f"
            },
            "type": "carpet"
           }
          ],
          "choropleth": [
           {
            "colorbar": {
             "outlinewidth": 0,
             "ticks": ""
            },
            "type": "choropleth"
           }
          ],
          "contour": [
           {
            "colorbar": {
             "outlinewidth": 0,
             "ticks": ""
            },
            "colorscale": [
             [
              0,
              "#0d0887"
             ],
             [
              0.1111111111111111,
              "#46039f"
             ],
             [
              0.2222222222222222,
              "#7201a8"
             ],
             [
              0.3333333333333333,
              "#9c179e"
             ],
             [
              0.4444444444444444,
              "#bd3786"
             ],
             [
              0.5555555555555556,
              "#d8576b"
             ],
             [
              0.6666666666666666,
              "#ed7953"
             ],
             [
              0.7777777777777778,
              "#fb9f3a"
             ],
             [
              0.8888888888888888,
              "#fdca26"
             ],
             [
              1,
              "#f0f921"
             ]
            ],
            "type": "contour"
           }
          ],
          "contourcarpet": [
           {
            "colorbar": {
             "outlinewidth": 0,
             "ticks": ""
            },
            "type": "contourcarpet"
           }
          ],
          "heatmap": [
           {
            "colorbar": {
             "outlinewidth": 0,
             "ticks": ""
            },
            "colorscale": [
             [
              0,
              "#0d0887"
             ],
             [
              0.1111111111111111,
              "#46039f"
             ],
             [
              0.2222222222222222,
              "#7201a8"
             ],
             [
              0.3333333333333333,
              "#9c179e"
             ],
             [
              0.4444444444444444,
              "#bd3786"
             ],
             [
              0.5555555555555556,
              "#d8576b"
             ],
             [
              0.6666666666666666,
              "#ed7953"
             ],
             [
              0.7777777777777778,
              "#fb9f3a"
             ],
             [
              0.8888888888888888,
              "#fdca26"
             ],
             [
              1,
              "#f0f921"
             ]
            ],
            "type": "heatmap"
           }
          ],
          "histogram": [
           {
            "marker": {
             "pattern": {
              "fillmode": "overlay",
              "size": 10,
              "solidity": 0.2
             }
            },
            "type": "histogram"
           }
          ],
          "histogram2d": [
           {
            "colorbar": {
             "outlinewidth": 0,
             "ticks": ""
            },
            "colorscale": [
             [
              0,
              "#0d0887"
             ],
             [
              0.1111111111111111,
              "#46039f"
             ],
             [
              0.2222222222222222,
              "#7201a8"
             ],
             [
              0.3333333333333333,
              "#9c179e"
             ],
             [
              0.4444444444444444,
              "#bd3786"
             ],
             [
              0.5555555555555556,
              "#d8576b"
             ],
             [
              0.6666666666666666,
              "#ed7953"
             ],
             [
              0.7777777777777778,
              "#fb9f3a"
             ],
             [
              0.8888888888888888,
              "#fdca26"
             ],
             [
              1,
              "#f0f921"
             ]
            ],
            "type": "histogram2d"
           }
          ],
          "histogram2dcontour": [
           {
            "colorbar": {
             "outlinewidth": 0,
             "ticks": ""
            },
            "colorscale": [
             [
              0,
              "#0d0887"
             ],
             [
              0.1111111111111111,
              "#46039f"
             ],
             [
              0.2222222222222222,
              "#7201a8"
             ],
             [
              0.3333333333333333,
              "#9c179e"
             ],
             [
              0.4444444444444444,
              "#bd3786"
             ],
             [
              0.5555555555555556,
              "#d8576b"
             ],
             [
              0.6666666666666666,
              "#ed7953"
             ],
             [
              0.7777777777777778,
              "#fb9f3a"
             ],
             [
              0.8888888888888888,
              "#fdca26"
             ],
             [
              1,
              "#f0f921"
             ]
            ],
            "type": "histogram2dcontour"
           }
          ],
          "mesh3d": [
           {
            "colorbar": {
             "outlinewidth": 0,
             "ticks": ""
            },
            "type": "mesh3d"
           }
          ],
          "parcoords": [
           {
            "line": {
             "colorbar": {
              "outlinewidth": 0,
              "ticks": ""
             }
            },
            "type": "parcoords"
           }
          ],
          "pie": [
           {
            "automargin": true,
            "type": "pie"
           }
          ],
          "scatter": [
           {
            "fillpattern": {
             "fillmode": "overlay",
             "size": 10,
             "solidity": 0.2
            },
            "type": "scatter"
           }
          ],
          "scatter3d": [
           {
            "line": {
             "colorbar": {
              "outlinewidth": 0,
              "ticks": ""
             }
            },
            "marker": {
             "colorbar": {
              "outlinewidth": 0,
              "ticks": ""
             }
            },
            "type": "scatter3d"
           }
          ],
          "scattercarpet": [
           {
            "marker": {
             "colorbar": {
              "outlinewidth": 0,
              "ticks": ""
             }
            },
            "type": "scattercarpet"
           }
          ],
          "scattergeo": [
           {
            "marker": {
             "colorbar": {
              "outlinewidth": 0,
              "ticks": ""
             }
            },
            "type": "scattergeo"
           }
          ],
          "scattergl": [
           {
            "marker": {
             "colorbar": {
              "outlinewidth": 0,
              "ticks": ""
             }
            },
            "type": "scattergl"
           }
          ],
          "scattermap": [
           {
            "marker": {
             "colorbar": {
              "outlinewidth": 0,
              "ticks": ""
             }
            },
            "type": "scattermap"
           }
          ],
          "scattermapbox": [
           {
            "marker": {
             "colorbar": {
              "outlinewidth": 0,
              "ticks": ""
             }
            },
            "type": "scattermapbox"
           }
          ],
          "scatterpolar": [
           {
            "marker": {
             "colorbar": {
              "outlinewidth": 0,
              "ticks": ""
             }
            },
            "type": "scatterpolar"
           }
          ],
          "scatterpolargl": [
           {
            "marker": {
             "colorbar": {
              "outlinewidth": 0,
              "ticks": ""
             }
            },
            "type": "scatterpolargl"
           }
          ],
          "scatterternary": [
           {
            "marker": {
             "colorbar": {
              "outlinewidth": 0,
              "ticks": ""
             }
            },
            "type": "scatterternary"
           }
          ],
          "surface": [
           {
            "colorbar": {
             "outlinewidth": 0,
             "ticks": ""
            },
            "colorscale": [
             [
              0,
              "#0d0887"
             ],
             [
              0.1111111111111111,
              "#46039f"
             ],
             [
              0.2222222222222222,
              "#7201a8"
             ],
             [
              0.3333333333333333,
              "#9c179e"
             ],
             [
              0.4444444444444444,
              "#bd3786"
             ],
             [
              0.5555555555555556,
              "#d8576b"
             ],
             [
              0.6666666666666666,
              "#ed7953"
             ],
             [
              0.7777777777777778,
              "#fb9f3a"
             ],
             [
              0.8888888888888888,
              "#fdca26"
             ],
             [
              1,
              "#f0f921"
             ]
            ],
            "type": "surface"
           }
          ],
          "table": [
           {
            "cells": {
             "fill": {
              "color": "#EBF0F8"
             },
             "line": {
              "color": "white"
             }
            },
            "header": {
             "fill": {
              "color": "#C8D4E3"
             },
             "line": {
              "color": "white"
             }
            },
            "type": "table"
           }
          ]
         },
         "layout": {
          "annotationdefaults": {
           "arrowcolor": "#2a3f5f",
           "arrowhead": 0,
           "arrowwidth": 1
          },
          "autotypenumbers": "strict",
          "coloraxis": {
           "colorbar": {
            "outlinewidth": 0,
            "ticks": ""
           }
          },
          "colorscale": {
           "diverging": [
            [
             0,
             "#8e0152"
            ],
            [
             0.1,
             "#c51b7d"
            ],
            [
             0.2,
             "#de77ae"
            ],
            [
             0.3,
             "#f1b6da"
            ],
            [
             0.4,
             "#fde0ef"
            ],
            [
             0.5,
             "#f7f7f7"
            ],
            [
             0.6,
             "#e6f5d0"
            ],
            [
             0.7,
             "#b8e186"
            ],
            [
             0.8,
             "#7fbc41"
            ],
            [
             0.9,
             "#4d9221"
            ],
            [
             1,
             "#276419"
            ]
           ],
           "sequential": [
            [
             0,
             "#0d0887"
            ],
            [
             0.1111111111111111,
             "#46039f"
            ],
            [
             0.2222222222222222,
             "#7201a8"
            ],
            [
             0.3333333333333333,
             "#9c179e"
            ],
            [
             0.4444444444444444,
             "#bd3786"
            ],
            [
             0.5555555555555556,
             "#d8576b"
            ],
            [
             0.6666666666666666,
             "#ed7953"
            ],
            [
             0.7777777777777778,
             "#fb9f3a"
            ],
            [
             0.8888888888888888,
             "#fdca26"
            ],
            [
             1,
             "#f0f921"
            ]
           ],
           "sequentialminus": [
            [
             0,
             "#0d0887"
            ],
            [
             0.1111111111111111,
             "#46039f"
            ],
            [
             0.2222222222222222,
             "#7201a8"
            ],
            [
             0.3333333333333333,
             "#9c179e"
            ],
            [
             0.4444444444444444,
             "#bd3786"
            ],
            [
             0.5555555555555556,
             "#d8576b"
            ],
            [
             0.6666666666666666,
             "#ed7953"
            ],
            [
             0.7777777777777778,
             "#fb9f3a"
            ],
            [
             0.8888888888888888,
             "#fdca26"
            ],
            [
             1,
             "#f0f921"
            ]
           ]
          },
          "colorway": [
           "#636efa",
           "#EF553B",
           "#00cc96",
           "#ab63fa",
           "#FFA15A",
           "#19d3f3",
           "#FF6692",
           "#B6E880",
           "#FF97FF",
           "#FECB52"
          ],
          "font": {
           "color": "#2a3f5f"
          },
          "geo": {
           "bgcolor": "white",
           "lakecolor": "white",
           "landcolor": "#E5ECF6",
           "showlakes": true,
           "showland": true,
           "subunitcolor": "white"
          },
          "hoverlabel": {
           "align": "left"
          },
          "hovermode": "closest",
          "mapbox": {
           "style": "light"
          },
          "paper_bgcolor": "white",
          "plot_bgcolor": "#E5ECF6",
          "polar": {
           "angularaxis": {
            "gridcolor": "white",
            "linecolor": "white",
            "ticks": ""
           },
           "bgcolor": "#E5ECF6",
           "radialaxis": {
            "gridcolor": "white",
            "linecolor": "white",
            "ticks": ""
           }
          },
          "scene": {
           "xaxis": {
            "backgroundcolor": "#E5ECF6",
            "gridcolor": "white",
            "gridwidth": 2,
            "linecolor": "white",
            "showbackground": true,
            "ticks": "",
            "zerolinecolor": "white"
           },
           "yaxis": {
            "backgroundcolor": "#E5ECF6",
            "gridcolor": "white",
            "gridwidth": 2,
            "linecolor": "white",
            "showbackground": true,
            "ticks": "",
            "zerolinecolor": "white"
           },
           "zaxis": {
            "backgroundcolor": "#E5ECF6",
            "gridcolor": "white",
            "gridwidth": 2,
            "linecolor": "white",
            "showbackground": true,
            "ticks": "",
            "zerolinecolor": "white"
           }
          },
          "shapedefaults": {
           "line": {
            "color": "#2a3f5f"
           }
          },
          "ternary": {
           "aaxis": {
            "gridcolor": "white",
            "linecolor": "white",
            "ticks": ""
           },
           "baxis": {
            "gridcolor": "white",
            "linecolor": "white",
            "ticks": ""
           },
           "bgcolor": "#E5ECF6",
           "caxis": {
            "gridcolor": "white",
            "linecolor": "white",
            "ticks": ""
           }
          },
          "title": {
           "x": 0.05
          },
          "xaxis": {
           "automargin": true,
           "gridcolor": "white",
           "linecolor": "white",
           "ticks": "",
           "title": {
            "standoff": 15
           },
           "zerolinecolor": "white",
           "zerolinewidth": 2
          },
          "yaxis": {
           "automargin": true,
           "gridcolor": "white",
           "linecolor": "white",
           "ticks": "",
           "title": {
            "standoff": 15
           },
           "zerolinecolor": "white",
           "zerolinewidth": 2
          }
         }
        },
        "title": {
         "text": "Daily Time-in-Range Compliance"
        },
        "xaxis": {
         "anchor": "y",
         "domain": [
          0,
          0.94
         ]
        },
        "yaxis": {
         "anchor": "x",
         "domain": [
          0,
          1
         ],
         "range": [
          0,
          100
         ],
         "title": {
          "text": "Time in Range (%)"
         }
        },
        "yaxis2": {
         "anchor": "x",
         "overlaying": "y",
         "side": "right",
         "title": {
          "text": "Reading Count"
         }
        }
       }
      }
     },
     "metadata": {},
     "output_type": "display_data"
    }
   ],
   "source": [
    "if daily_kpis.empty:\n",
    "    raise RuntimeError(\n",
    "        \"No daily KPI records were produced—verify glucose data coverage.\"\n",
    "    )\n",
    "\n",
    "fig_daily_overview = make_subplots(specs=[[{\"secondary_y\": True}]])\n",
    "fig_daily_overview.add_trace(\n",
    "    go.Scatter(\n",
    "        x=daily_kpis[\"date\"],\n",
    "        y=daily_kpis[\"time_in_range_pct\"],\n",
    "        name=\"Time in Range %\",\n",
    "        mode=\"lines+markers\",\n",
    "        hovertemplate=\"%{x|%Y-%m-%d}: %{y:.1f}%<extra></extra>\",\n",
    "        line=dict(color=\"#1f77b4\", width=2),\n",
    "    ),\n",
    "    secondary_y=False,\n",
    ")\n",
    "fig_daily_overview.add_trace(\n",
    "    go.Scatter(\n",
    "        x=daily_kpis[\"date\"],\n",
    "        y=daily_kpis[\"rolling_7d_tir_pct\"],\n",
    "        name=\"7-day Avg\",\n",
    "        mode=\"lines\",\n",
    "        line=dict(color=\"#ff7f0e\", width=3, dash=\"dash\"),\n",
    "        hovertemplate=\"7d avg: %{y:.1f}%<extra></extra>\",\n",
    "    ),\n",
    "    secondary_y=False,\n",
    ")\n",
    "fig_daily_overview.add_trace(\n",
    "    go.Bar(\n",
    "        x=daily_kpis[\"date\"],\n",
    "        y=daily_kpis[\"reading_count\"],\n",
    "        name=\"Readings per day\",\n",
    "        marker_color=\"rgba(31, 119, 180, 0.3)\",\n",
    "        hovertemplate=\"%{x|%Y-%m-%d}: %{y} readings<extra></extra>\",\n",
    "    ),\n",
    "    secondary_y=True,\n",
    ")\n",
    "fig_daily_overview.add_hline(\n",
    "    y=70,\n",
    "    line=dict(color=\"green\", dash=\"dot\"),\n",
    "    annotation_text=\"TIR Target 70%\",\n",
    "    annotation_position=\"top left\",\n",
    ")\n",
    "fig_daily_overview.update_yaxes(\n",
    "    title_text=\"Time in Range (%)\", secondary_y=False, range=[0, 100]\n",
    ")\n",
    "fig_daily_overview.update_yaxes(title_text=\"Reading Count\", secondary_y=True)\n",
    "fig_daily_overview.update_layout(\n",
    "    title=\"Daily Time-in-Range Compliance\",\n",
    "    legend=dict(orientation=\"h\", yanchor=\"bottom\", y=1.02, xanchor=\"right\", x=1),\n",
    "    hovermode=\"x unified\",\n",
    "    bargap=0.1,\n",
    "    height=600,\n",
    ")\n",
    "fig_daily_overview.show()"
   ]
  },
  {
   "cell_type": "code",
   "execution_count": null,
   "id": "d8c4b72f",
   "metadata": {},
   "outputs": [
    {
     "data": {
      "application/vnd.plotly.v1+json": {
       "config": {
        "plotlyServerURL": "https://plot.ly"
       },
       "data": [
        {
         "delta": {
          "reference": 98.1742857142857,
          "suffix": " pts",
          "valueformat": ".1f"
         },
         "gauge": {
          "axis": {
           "range": [
            0,
            100
           ]
          },
          "bar": {
           "color": "#1f77b4"
          },
          "steps": [
           {
            "color": "#f5b7b1",
            "range": [
             0,
             60
            ]
           },
           {
            "color": "#fcf3cf",
            "range": [
             60,
             70
            ]
           },
           {
            "color": "#d4efdf",
            "range": [
             70,
             100
            ]
           }
          ],
          "threshold": {
           "line": {
            "color": "green",
            "width": 4
           },
           "value": 70
          }
         },
         "mode": "gauge+number+delta",
         "number": {
          "suffix": "%",
          "valueformat": ".1f"
         },
         "title": {
          "text": "Latest TIR (2025-08-30)"
         },
         "type": "indicator",
         "value": 99.53
        }
       ],
       "layout": {
        "height": 350,
        "template": {
         "data": {
          "bar": [
           {
            "error_x": {
             "color": "#2a3f5f"
            },
            "error_y": {
             "color": "#2a3f5f"
            },
            "marker": {
             "line": {
              "color": "#E5ECF6",
              "width": 0.5
             },
             "pattern": {
              "fillmode": "overlay",
              "size": 10,
              "solidity": 0.2
             }
            },
            "type": "bar"
           }
          ],
          "barpolar": [
           {
            "marker": {
             "line": {
              "color": "#E5ECF6",
              "width": 0.5
             },
             "pattern": {
              "fillmode": "overlay",
              "size": 10,
              "solidity": 0.2
             }
            },
            "type": "barpolar"
           }
          ],
          "carpet": [
           {
            "aaxis": {
             "endlinecolor": "#2a3f5f",
             "gridcolor": "white",
             "linecolor": "white",
             "minorgridcolor": "white",
             "startlinecolor": "#2a3f5f"
            },
            "baxis": {
             "endlinecolor": "#2a3f5f",
             "gridcolor": "white",
             "linecolor": "white",
             "minorgridcolor": "white",
             "startlinecolor": "#2a3f5f"
            },
            "type": "carpet"
           }
          ],
          "choropleth": [
           {
            "colorbar": {
             "outlinewidth": 0,
             "ticks": ""
            },
            "type": "choropleth"
           }
          ],
          "contour": [
           {
            "colorbar": {
             "outlinewidth": 0,
             "ticks": ""
            },
            "colorscale": [
             [
              0,
              "#0d0887"
             ],
             [
              0.1111111111111111,
              "#46039f"
             ],
             [
              0.2222222222222222,
              "#7201a8"
             ],
             [
              0.3333333333333333,
              "#9c179e"
             ],
             [
              0.4444444444444444,
              "#bd3786"
             ],
             [
              0.5555555555555556,
              "#d8576b"
             ],
             [
              0.6666666666666666,
              "#ed7953"
             ],
             [
              0.7777777777777778,
              "#fb9f3a"
             ],
             [
              0.8888888888888888,
              "#fdca26"
             ],
             [
              1,
              "#f0f921"
             ]
            ],
            "type": "contour"
           }
          ],
          "contourcarpet": [
           {
            "colorbar": {
             "outlinewidth": 0,
             "ticks": ""
            },
            "type": "contourcarpet"
           }
          ],
          "heatmap": [
           {
            "colorbar": {
             "outlinewidth": 0,
             "ticks": ""
            },
            "colorscale": [
             [
              0,
              "#0d0887"
             ],
             [
              0.1111111111111111,
              "#46039f"
             ],
             [
              0.2222222222222222,
              "#7201a8"
             ],
             [
              0.3333333333333333,
              "#9c179e"
             ],
             [
              0.4444444444444444,
              "#bd3786"
             ],
             [
              0.5555555555555556,
              "#d8576b"
             ],
             [
              0.6666666666666666,
              "#ed7953"
             ],
             [
              0.7777777777777778,
              "#fb9f3a"
             ],
             [
              0.8888888888888888,
              "#fdca26"
             ],
             [
              1,
              "#f0f921"
             ]
            ],
            "type": "heatmap"
           }
          ],
          "histogram": [
           {
            "marker": {
             "pattern": {
              "fillmode": "overlay",
              "size": 10,
              "solidity": 0.2
             }
            },
            "type": "histogram"
           }
          ],
          "histogram2d": [
           {
            "colorbar": {
             "outlinewidth": 0,
             "ticks": ""
            },
            "colorscale": [
             [
              0,
              "#0d0887"
             ],
             [
              0.1111111111111111,
              "#46039f"
             ],
             [
              0.2222222222222222,
              "#7201a8"
             ],
             [
              0.3333333333333333,
              "#9c179e"
             ],
             [
              0.4444444444444444,
              "#bd3786"
             ],
             [
              0.5555555555555556,
              "#d8576b"
             ],
             [
              0.6666666666666666,
              "#ed7953"
             ],
             [
              0.7777777777777778,
              "#fb9f3a"
             ],
             [
              0.8888888888888888,
              "#fdca26"
             ],
             [
              1,
              "#f0f921"
             ]
            ],
            "type": "histogram2d"
           }
          ],
          "histogram2dcontour": [
           {
            "colorbar": {
             "outlinewidth": 0,
             "ticks": ""
            },
            "colorscale": [
             [
              0,
              "#0d0887"
             ],
             [
              0.1111111111111111,
              "#46039f"
             ],
             [
              0.2222222222222222,
              "#7201a8"
             ],
             [
              0.3333333333333333,
              "#9c179e"
             ],
             [
              0.4444444444444444,
              "#bd3786"
             ],
             [
              0.5555555555555556,
              "#d8576b"
             ],
             [
              0.6666666666666666,
              "#ed7953"
             ],
             [
              0.7777777777777778,
              "#fb9f3a"
             ],
             [
              0.8888888888888888,
              "#fdca26"
             ],
             [
              1,
              "#f0f921"
             ]
            ],
            "type": "histogram2dcontour"
           }
          ],
          "mesh3d": [
           {
            "colorbar": {
             "outlinewidth": 0,
             "ticks": ""
            },
            "type": "mesh3d"
           }
          ],
          "parcoords": [
           {
            "line": {
             "colorbar": {
              "outlinewidth": 0,
              "ticks": ""
             }
            },
            "type": "parcoords"
           }
          ],
          "pie": [
           {
            "automargin": true,
            "type": "pie"
           }
          ],
          "scatter": [
           {
            "fillpattern": {
             "fillmode": "overlay",
             "size": 10,
             "solidity": 0.2
            },
            "type": "scatter"
           }
          ],
          "scatter3d": [
           {
            "line": {
             "colorbar": {
              "outlinewidth": 0,
              "ticks": ""
             }
            },
            "marker": {
             "colorbar": {
              "outlinewidth": 0,
              "ticks": ""
             }
            },
            "type": "scatter3d"
           }
          ],
          "scattercarpet": [
           {
            "marker": {
             "colorbar": {
              "outlinewidth": 0,
              "ticks": ""
             }
            },
            "type": "scattercarpet"
           }
          ],
          "scattergeo": [
           {
            "marker": {
             "colorbar": {
              "outlinewidth": 0,
              "ticks": ""
             }
            },
            "type": "scattergeo"
           }
          ],
          "scattergl": [
           {
            "marker": {
             "colorbar": {
              "outlinewidth": 0,
              "ticks": ""
             }
            },
            "type": "scattergl"
           }
          ],
          "scattermap": [
           {
            "marker": {
             "colorbar": {
              "outlinewidth": 0,
              "ticks": ""
             }
            },
            "type": "scattermap"
           }
          ],
          "scattermapbox": [
           {
            "marker": {
             "colorbar": {
              "outlinewidth": 0,
              "ticks": ""
             }
            },
            "type": "scattermapbox"
           }
          ],
          "scatterpolar": [
           {
            "marker": {
             "colorbar": {
              "outlinewidth": 0,
              "ticks": ""
             }
            },
            "type": "scatterpolar"
           }
          ],
          "scatterpolargl": [
           {
            "marker": {
             "colorbar": {
              "outlinewidth": 0,
              "ticks": ""
             }
            },
            "type": "scatterpolargl"
           }
          ],
          "scatterternary": [
           {
            "marker": {
             "colorbar": {
              "outlinewidth": 0,
              "ticks": ""
             }
            },
            "type": "scatterternary"
           }
          ],
          "surface": [
           {
            "colorbar": {
             "outlinewidth": 0,
             "ticks": ""
            },
            "colorscale": [
             [
              0,
              "#0d0887"
             ],
             [
              0.1111111111111111,
              "#46039f"
             ],
             [
              0.2222222222222222,
              "#7201a8"
             ],
             [
              0.3333333333333333,
              "#9c179e"
             ],
             [
              0.4444444444444444,
              "#bd3786"
             ],
             [
              0.5555555555555556,
              "#d8576b"
             ],
             [
              0.6666666666666666,
              "#ed7953"
             ],
             [
              0.7777777777777778,
              "#fb9f3a"
             ],
             [
              0.8888888888888888,
              "#fdca26"
             ],
             [
              1,
              "#f0f921"
             ]
            ],
            "type": "surface"
           }
          ],
          "table": [
           {
            "cells": {
             "fill": {
              "color": "#EBF0F8"
             },
             "line": {
              "color": "white"
             }
            },
            "header": {
             "fill": {
              "color": "#C8D4E3"
             },
             "line": {
              "color": "white"
             }
            },
            "type": "table"
           }
          ]
         },
         "layout": {
          "annotationdefaults": {
           "arrowcolor": "#2a3f5f",
           "arrowhead": 0,
           "arrowwidth": 1
          },
          "autotypenumbers": "strict",
          "coloraxis": {
           "colorbar": {
            "outlinewidth": 0,
            "ticks": ""
           }
          },
          "colorscale": {
           "diverging": [
            [
             0,
             "#8e0152"
            ],
            [
             0.1,
             "#c51b7d"
            ],
            [
             0.2,
             "#de77ae"
            ],
            [
             0.3,
             "#f1b6da"
            ],
            [
             0.4,
             "#fde0ef"
            ],
            [
             0.5,
             "#f7f7f7"
            ],
            [
             0.6,
             "#e6f5d0"
            ],
            [
             0.7,
             "#b8e186"
            ],
            [
             0.8,
             "#7fbc41"
            ],
            [
             0.9,
             "#4d9221"
            ],
            [
             1,
             "#276419"
            ]
           ],
           "sequential": [
            [
             0,
             "#0d0887"
            ],
            [
             0.1111111111111111,
             "#46039f"
            ],
            [
             0.2222222222222222,
             "#7201a8"
            ],
            [
             0.3333333333333333,
             "#9c179e"
            ],
            [
             0.4444444444444444,
             "#bd3786"
            ],
            [
             0.5555555555555556,
             "#d8576b"
            ],
            [
             0.6666666666666666,
             "#ed7953"
            ],
            [
             0.7777777777777778,
             "#fb9f3a"
            ],
            [
             0.8888888888888888,
             "#fdca26"
            ],
            [
             1,
             "#f0f921"
            ]
           ],
           "sequentialminus": [
            [
             0,
             "#0d0887"
            ],
            [
             0.1111111111111111,
             "#46039f"
            ],
            [
             0.2222222222222222,
             "#7201a8"
            ],
            [
             0.3333333333333333,
             "#9c179e"
            ],
            [
             0.4444444444444444,
             "#bd3786"
            ],
            [
             0.5555555555555556,
             "#d8576b"
            ],
            [
             0.6666666666666666,
             "#ed7953"
            ],
            [
             0.7777777777777778,
             "#fb9f3a"
            ],
            [
             0.8888888888888888,
             "#fdca26"
            ],
            [
             1,
             "#f0f921"
            ]
           ]
          },
          "colorway": [
           "#636efa",
           "#EF553B",
           "#00cc96",
           "#ab63fa",
           "#FFA15A",
           "#19d3f3",
           "#FF6692",
           "#B6E880",
           "#FF97FF",
           "#FECB52"
          ],
          "font": {
           "color": "#2a3f5f"
          },
          "geo": {
           "bgcolor": "white",
           "lakecolor": "white",
           "landcolor": "#E5ECF6",
           "showlakes": true,
           "showland": true,
           "subunitcolor": "white"
          },
          "hoverlabel": {
           "align": "left"
          },
          "hovermode": "closest",
          "mapbox": {
           "style": "light"
          },
          "paper_bgcolor": "white",
          "plot_bgcolor": "#E5ECF6",
          "polar": {
           "angularaxis": {
            "gridcolor": "white",
            "linecolor": "white",
            "ticks": ""
           },
           "bgcolor": "#E5ECF6",
           "radialaxis": {
            "gridcolor": "white",
            "linecolor": "white",
            "ticks": ""
           }
          },
          "scene": {
           "xaxis": {
            "backgroundcolor": "#E5ECF6",
            "gridcolor": "white",
            "gridwidth": 2,
            "linecolor": "white",
            "showbackground": true,
            "ticks": "",
            "zerolinecolor": "white"
           },
           "yaxis": {
            "backgroundcolor": "#E5ECF6",
            "gridcolor": "white",
            "gridwidth": 2,
            "linecolor": "white",
            "showbackground": true,
            "ticks": "",
            "zerolinecolor": "white"
           },
           "zaxis": {
            "backgroundcolor": "#E5ECF6",
            "gridcolor": "white",
            "gridwidth": 2,
            "linecolor": "white",
            "showbackground": true,
            "ticks": "",
            "zerolinecolor": "white"
           }
          },
          "shapedefaults": {
           "line": {
            "color": "#2a3f5f"
           }
          },
          "ternary": {
           "aaxis": {
            "gridcolor": "white",
            "linecolor": "white",
            "ticks": ""
           },
           "baxis": {
            "gridcolor": "white",
            "linecolor": "white",
            "ticks": ""
           },
           "bgcolor": "#E5ECF6",
           "caxis": {
            "gridcolor": "white",
            "linecolor": "white",
            "ticks": ""
           }
          },
          "title": {
           "x": 0.05
          },
          "xaxis": {
           "automargin": true,
           "gridcolor": "white",
           "linecolor": "white",
           "ticks": "",
           "title": {
            "standoff": 15
           },
           "zerolinecolor": "white",
           "zerolinewidth": 2
          },
          "yaxis": {
           "automargin": true,
           "gridcolor": "white",
           "linecolor": "white",
           "ticks": "",
           "title": {
            "standoff": 15
           },
           "zerolinecolor": "white",
           "zerolinewidth": 2
          }
         }
        }
       }
      }
     },
     "metadata": {},
     "output_type": "display_data"
    }
   ],
   "source": [
    "latest = daily_kpis.iloc[-1]\n",
    "rolling_ref = daily_kpis[\"rolling_7d_tir_pct\"].iloc[-1]\n",
    "\n",
    "fig_tir_gauge = go.Figure(\n",
    "    go.Indicator(\n",
    "        mode=\"gauge+number+delta\",\n",
    "        value=latest[\"time_in_range_pct\"],\n",
    "        delta={\"reference\": rolling_ref, \"valueformat\": \".1f\", \"suffix\": \" pts\"},\n",
    "        gauge={\n",
    "            \"axis\": {\"range\": [0, 100]},\n",
    "            \"bar\": {\"color\": \"#1f77b4\"},\n",
    "            \"steps\": [\n",
    "                {\"range\": [0, 60], \"color\": \"#f5b7b1\"},\n",
    "                {\"range\": [60, 70], \"color\": \"#fcf3cf\"},\n",
    "                {\"range\": [70, 100], \"color\": \"#d4efdf\"},\n",
    "            ],\n",
    "            \"threshold\": {\"line\": {\"color\": \"green\", \"width\": 4}, \"value\": 70},\n",
    "        },\n",
    "        title={\"text\": f\"Latest TIR ({latest['date'].date()})\"},\n",
    "        number={\"suffix\": \"%\", \"valueformat\": \".1f\"},\n",
    "    )\n",
    ")\n",
    "fig_tir_gauge.update_layout(height=350)\n",
    "fig_tir_gauge.show()"
   ]
  },
  {
   "cell_type": "markdown",
   "id": "a6f1ad1f",
   "metadata": {},
   "source": [
    "## Workout-Linked Glucose Shifts\n",
    "Leverage the `workout_glucose_impact` view to compare average glucose in the 30 minutes pre-workout vs. the 2 hours post-workout, then shape the results in pandas."
   ]
  },
  {
   "cell_type": "code",
   "execution_count": null,
   "id": "a7431f7a",
   "metadata": {},
   "outputs": [],
   "source": [
    "WORKOUT_IMPACT_SQL = \"\"\"\n",
    "SELECT\n",
    "    workout_type,\n",
    "    workout_start,\n",
    "    duration,\n",
    "    total_energy_burned,\n",
    "    pre_workout_glucose,\n",
    "    post_workout_glucose\n",
    "FROM workout_glucose_impact\n",
    "WHERE workout_start BETWEEN ? AND ?\n",
    "ORDER BY workout_start\n",
    ";\n",
    "\"\"\"\n",
    "\n",
    "\n",
    "def load_workout_impacts(\n",
    "    start: Optional[pd.Timestamp] = None,\n",
    "    end: Optional[pd.Timestamp] = None,\n",
    "    min_samples: int = 3,\n",
    ") -> tuple[pd.DataFrame, pd.DataFrame]:\n",
    "    overall_start, overall_end = get_date_range(\"glucose_readings\", \"timestamp\")\n",
    "    if overall_start is None or overall_end is None:\n",
    "        raise ValueError(\"Glucose coverage is required to evaluate workout impacts.\")\n",
    "\n",
    "    workout_start = pd.to_datetime(start or overall_start).floor(\"D\")\n",
    "    workout_end = pd.to_datetime(end or overall_end).ceil(\"D\") - pd.Timedelta(seconds=1)\n",
    "    params = (workout_start.isoformat(), workout_end.isoformat())\n",
    "\n",
    "    df = read_query_df(WORKOUT_IMPACT_SQL, params=params)\n",
    "    if df.empty:\n",
    "        return df, pd.DataFrame()\n",
    "\n",
    "    df[\"workout_start\"] = pd.to_datetime(df[\"workout_start\"])\n",
    "    df[\"duration\"] = pd.to_numeric(df[\"duration\"], errors=\"coerce\")\n",
    "    df[\"total_energy_burned\"] = pd.to_numeric(\n",
    "        df[\"total_energy_burned\"], errors=\"coerce\"\n",
    "    )\n",
    "    df[\"pre_workout_glucose\"] = pd.to_numeric(\n",
    "        df[\"pre_workout_glucose\"], errors=\"coerce\"\n",
    "    )\n",
    "    df[\"post_workout_glucose\"] = pd.to_numeric(\n",
    "        df[\"post_workout_glucose\"], errors=\"coerce\"\n",
    "    )\n",
    "    df[\"glucose_delta\"] = df[\"post_workout_glucose\"] - df[\"pre_workout_glucose\"]\n",
    "    df = df.dropna(subset=[\"pre_workout_glucose\", \"post_workout_glucose\"])\n",
    "    df = df.sort_values(\"workout_start\").reset_index(drop=True)\n",
    "\n",
    "    aggregated = (\n",
    "        df.groupby(\"workout_type\")\n",
    "        .agg(\n",
    "            workout_sessions=(\"workout_start\", \"count\"),\n",
    "            avg_duration_min=(\"duration\", \"mean\"),\n",
    "            avg_energy_burned=(\"total_energy_burned\", \"mean\"),\n",
    "            avg_delta=(\"glucose_delta\", \"mean\"),\n",
    "            avg_pre=(\"pre_workout_glucose\", \"mean\"),\n",
    "            avg_post=(\"post_workout_glucose\", \"mean\"),\n",
    "        )\n",
    "        .query(\"workout_sessions >= @min_samples\")\n",
    "        .reset_index()\n",
    "    )\n",
    "\n",
    "    return df, aggregated"
   ]
  },
  {
   "cell_type": "code",
   "execution_count": 11,
   "id": "7884148d",
   "metadata": {},
   "outputs": [
    {
     "data": {
      "text/plain": [
       "'No workout events found'"
      ]
     },
     "execution_count": 11,
     "metadata": {},
     "output_type": "execute_result"
    }
   ],
   "source": [
    "workout_events, workout_summary = load_workout_impacts()\n",
    "(\n",
    "    workout_events.head()\n",
    "    if isinstance(workout_events, pd.DataFrame) and not workout_events.empty\n",
    "    else \"No workout events found\"\n",
    ")"
   ]
  },
  {
   "cell_type": "code",
   "execution_count": 12,
   "id": "0950e2cf",
   "metadata": {},
   "outputs": [
    {
     "name": "stdout",
     "output_type": "stream",
     "text": [
      "⚠️ No workouts with glucose coverage found in the selected window.\n"
     ]
    }
   ],
   "source": [
    "if isinstance(workout_events, pd.DataFrame) and workout_events.empty:\n",
    "    print(\"⚠️ No workouts with glucose coverage found in the selected window.\")\n",
    "else:\n",
    "    fig_workout_scatter = px.scatter(\n",
    "        workout_events,\n",
    "        x=\"workout_start\",\n",
    "        y=\"glucose_delta\",\n",
    "        color=\"workout_type\",\n",
    "        size=\"duration\",\n",
    "        hover_data={\n",
    "            \"pre_workout_glucose\": \":.1f\",\n",
    "            \"post_workout_glucose\": \":.1f\",\n",
    "            \"duration\": \":.1f\",\n",
    "            \"total_energy_burned\": \":.1f\",\n",
    "        },\n",
    "        labels={\"glucose_delta\": \"Δ Glucose (post - pre)\"},\n",
    "        title=\"Glucose Shift Around Workouts\",\n",
    "    )\n",
    "    fig_workout_scatter.update_layout(\n",
    "        height=500,\n",
    "        legend=dict(orientation=\"h\", yanchor=\"bottom\", y=1.02, xanchor=\"right\", x=1),\n",
    "    )\n",
    "    fig_workout_scatter.add_hline(y=0, line_dash=\"dot\", line_color=\"gray\")\n",
    "    fig_workout_scatter.show()\n",
    "\n",
    "    if isinstance(workout_summary, pd.DataFrame) and not workout_summary.empty:\n",
    "        fig_workout_summary = px.bar(\n",
    "            workout_summary.sort_values(\"avg_delta\"),\n",
    "            x=\"workout_type\",\n",
    "            y=\"avg_delta\",\n",
    "            color=\"avg_delta\",\n",
    "            color_continuous_scale=\"RdBu\",\n",
    "            labels={\"avg_delta\": \"Average Δ Glucose (mg/dL)\"},\n",
    "            title=\"Average Glucose Change by Workout Type\",\n",
    "            text=workout_summary[\"workout_sessions\"].astype(str) + \" sessions\",\n",
    "        )\n",
    "        fig_workout_summary.update_traces(textposition=\"outside\")\n",
    "        fig_workout_summary.update_layout(height=450, coloraxis_showscale=False)\n",
    "        fig_workout_summary.add_hline(y=0, line_dash=\"dot\", line_color=\"gray\")\n",
    "        fig_workout_summary.show()\n",
    "    else:\n",
    "        print(\"ℹ️ Not enough repeated workout types to summarize.\")"
   ]
  },
  {
   "cell_type": "markdown",
   "id": "c0cddef5",
   "metadata": {},
   "source": [
    "## Export Artifacts\n",
    "Persist tidy tables and dashboards to the `outputs/` directory so they can be shared without rerunning the notebook."
   ]
  },
  {
   "cell_type": "code",
   "execution_count": 13,
   "id": "b925a691",
   "metadata": {},
   "outputs": [
    {
     "name": "stdout",
     "output_type": "stream",
     "text": [
      "💾 Saved daily KPIs to /Users/george/Library/Mobile Documents/com~apple~CloudDocs/Programming Projects/Apple-Health-DS/outputs/daily_compliance_kpis.csv\n",
      "ℹ️ No workout impact data available to export.\n",
      "🖼️ Exported daily compliance dashboard to /Users/george/Library/Mobile Documents/com~apple~CloudDocs/Programming Projects/Apple-Health-DS/outputs/daily_compliance_overview.html\n",
      "🖼️ Exported TIR gauge to /Users/george/Library/Mobile Documents/com~apple~CloudDocs/Programming Projects/Apple-Health-DS/outputs/daily_tir_indicator.html\n"
     ]
    }
   ],
   "source": [
    "outputs_dir = project_root / \"outputs\"\n",
    "outputs_dir.mkdir(exist_ok=True)\n",
    "\n",
    "daily_csv_path = outputs_dir / \"daily_compliance_kpis.csv\"\n",
    "workout_csv_path = outputs_dir / \"workout_glucose_impacts.csv\"\n",
    "workout_summary_csv_path = outputs_dir / \"workout_glucose_type_summary.csv\"\n",
    "dashboard_daily_path = outputs_dir / \"daily_compliance_overview.html\"\n",
    "dashboard_workout_path = outputs_dir / \"workout_glucose_shift.html\"\n",
    "dashboard_workout_type_path = outputs_dir / \"workout_glucose_type_summary.html\"\n",
    "\n",
    "daily_kpis.to_csv(daily_csv_path, index=False)\n",
    "print(f\"💾 Saved daily KPIs to {daily_csv_path}\")\n",
    "\n",
    "if isinstance(workout_events, pd.DataFrame) and not workout_events.empty:\n",
    "    workout_events.to_csv(workout_csv_path, index=False)\n",
    "    print(f\"💾 Saved workout event impacts to {workout_csv_path}\")\n",
    "\n",
    "    if isinstance(workout_summary, pd.DataFrame) and not workout_summary.empty:\n",
    "        workout_summary.to_csv(workout_summary_csv_path, index=False)\n",
    "        print(f\"💾 Saved workout summary to {workout_summary_csv_path}\")\n",
    "\n",
    "    if \"fig_workout_scatter\" in globals():\n",
    "        fig_workout_scatter.write_html(dashboard_workout_path, include_plotlyjs=\"cdn\")\n",
    "        print(f\"🖼️ Exported workout dashboard to {dashboard_workout_path}\")\n",
    "\n",
    "    if \"fig_workout_summary\" in globals():\n",
    "        fig_workout_summary.write_html(\n",
    "            dashboard_workout_type_path, include_plotlyjs=\"cdn\"\n",
    "        )\n",
    "        print(f\"🖼️ Exported workout type dashboard to {dashboard_workout_type_path}\")\n",
    "else:\n",
    "    print(\"ℹ️ No workout impact data available to export.\")\n",
    "\n",
    "if \"fig_daily_overview\" in globals():\n",
    "    fig_daily_overview.write_html(dashboard_daily_path, include_plotlyjs=\"cdn\")\n",
    "    print(f\"🖼️ Exported daily compliance dashboard to {dashboard_daily_path}\")\n",
    "\n",
    "if \"fig_tir_gauge\" in globals():\n",
    "    gauge_path = outputs_dir / \"daily_tir_indicator.html\"\n",
    "    fig_tir_gauge.write_html(gauge_path, include_plotlyjs=\"cdn\")\n",
    "    print(f\"🖼️ Exported TIR gauge to {gauge_path}\")"
   ]
  },
  {
   "cell_type": "markdown",
   "id": "40380192",
   "metadata": {},
   "source": [
    "## Summary\n",
    "- SQL views power parameterized KPI feeds for daily time-in-range coverage.\n",
    "- Pandas layers smoothed compliance insights and target attainment classification.\n",
    "- Plotly dashboards translate the analytics into investor- and clinician-friendly visuals.\n",
    "- Artifacts are exported for downstream sharing and inclusion in portfolio materials."
   ]
  }
 ],
 "metadata": {
  "kernelspec": {
   "display_name": "health-analysis",
   "language": "python",
   "name": "python3"
  },
  "language_info": {
   "codemirror_mode": {
    "name": "ipython",
    "version": 3
   },
   "file_extension": ".py",
   "mimetype": "text/x-python",
   "name": "python",
   "nbconvert_exporter": "python",
   "pygments_lexer": "ipython3",
   "version": "3.11.13"
  }
 },
 "nbformat": 4,
 "nbformat_minor": 5
}
